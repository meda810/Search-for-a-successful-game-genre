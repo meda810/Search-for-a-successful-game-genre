{
 "cells": [
  {
   "cell_type": "markdown",
   "id": "97d7534f",
   "metadata": {},
   "source": [
    "# Определение закономерности успешности игры\n"
   ]
  },
  {
   "cell_type": "markdown",
   "id": "3ecaad49",
   "metadata": {},
   "source": [
    "Из открытых источников доступны исторические данные о\n",
    "продажах игр, оценки пользователей и экспертов, жанры и платформы\n",
    "(например, Xboxили PlayStation). Вам нужно выявить определяющие успешность\n",
    "игры закономерности. Это позволит сделать ставку на потенциально популярный\n",
    "продукт и спланировать рекламные кампании.\n",
    "\n",
    "Перед вами данные до 2016 года. Представим, что сейчас декабрь 2016 г., и вы\n",
    "планируете кампанию на 2017-й. Нужно отработать принцип работы с данными.\n",
    "Неважно, прогнозируете ли вы продажи на 2017 год по данным 2016-го или же\n",
    "2027-й — по данным 2026 года.\n",
    "\n",
    "В наборе данных попадается аббревиатура ESRB (Entertainment Software Rating\n",
    "Board) — это ассоциация, определяющая возрастной рейтинг компьютерных\n",
    "игр. ESRB оценивает игровой контент и присваивает ему подходящую возрастную\n",
    "категорию, например, «Для взрослых», «Для детей младшего возраста» или «Для\n",
    "подростков».\n",
    "\n",
    "\n",
    "\n",
    "**Описание данных**\n",
    "- Name — название игры\n",
    "- Platform — платформа\n",
    "- Year_of_Release — год выпуска\n",
    "- Genre — жанр игры\n",
    "- NA_sales — продажи в Северной Америке (миллионы проданных копий)\n",
    "- EU_sales — продажи в Европе (миллионы проданных копий)\n",
    "- JP_sales — продажи в Японии (миллионы проданных копий)\n",
    "- Other_sales — продажи в других странах (миллионы проданных копий)\n",
    "- Critic_Score — оценка критиков (максимум 100)\n",
    "- User_Score — оценка пользователей (максимум 10)\n",
    "- Rating — рейтинг от организации ESRB (англ. Entertainment Software Rating\n",
    "Board). Эта ассоциация определяет рейтинг компьютерных игр и присваивает\n",
    "им подходящую возрастную категорию.\n",
    "\n",
    "**План работы**\n",
    "- Подготовьте данные.\n",
    "Замените названия столбцов (приведите к нижнему регистру);\n",
    "Преобразуйте данные в нужные типы. Опишите, в каких столбцах заменили\n",
    "тип данных и почему;\n",
    "Обработайте пропуски при необходимости:\n",
    "Объясните, почему заполнили пропуски определённым образом или\n",
    "почему не стали это делать;\n",
    "Опишите причины, которые могли привести к пропускам;\n",
    "Обратите внимание на аббревиатуру 'tbd' в столбце с оценкой\n",
    "пользователей. Отдельно разберите это значение и опишите, как его\n",
    "обработать;\n",
    "Посчитайте суммарные продажи во всех регионах и запишите их в отдельный\n",
    "столбец.\n",
    "\n",
    "- Проведите исследовательский анализ данных.\n",
    "Посмотрите, сколько игр выпускалось в разные годы. Важны ли данные за все\n",
    "периоды?\n",
    "Посмотрите, как менялись продажи по платформам. Выберите платформы с\n",
    "наибольшими суммарными продажами и постройте распределение по годам.\n",
    "За какой характерный срок появляются новые и исчезают старые платформы?\n",
    "Возьмите данные за соответствующий актуальный период. Актуальный\n",
    "период определите самостоятельно в результате исследования предыдущих\n",
    "вопросов. Основной фактор — эти данные помогут построить прогноз на 2017\n",
    "год.\n",
    "Не учитывайте в работе данные за предыдущие годы.\n",
    "Какие платформы лидируют по продажам, растут или падают? Выберите\n",
    "несколько потенциально прибыльных платформ.\n",
    "Постройте график «ящик с усами» по глобальным продажам игр в разбивке по\n",
    "платформам. Опишите результат.\n",
    "Посмотрите, как влияют на продажи внутри одной популярной платформы\n",
    "отзывы пользователей и критиков. Постройте диаграмму рассеяния и\n",
    "посчитайте корреляцию между отзывами и продажами. Сформулируйте\n",
    "выводы.\n",
    "Соотнесите выводы с продажами игр на других платформах.\n",
    "Посмотрите на общее распределение игр по жанрам. Что можно сказать о\n",
    "самых прибыльных жанрах? Выделяются ли жанры с высокими и низкими\n",
    "продажами?\n",
    "- Составьте портрет пользователя каждого региона.\n",
    "Определите для пользователя каждого региона (NA, EU, JP):\n",
    "Самые популярные платформы (топ-5). Опишите различия в долях продаж.\n",
    "Самые популярные жанры (топ-5). Поясните разницу.\n",
    "Влияет ли рейтинг ESRB на продажи в отдельном регионе?\n",
    "- Проверьте гипотезы.\n",
    "Средние пользовательские рейтинги платформ Xbox One и PC одинаковые;\n",
    "Средние пользовательские рейтинги жанров Action (англ. «действие», экшен-\n",
    "игры) и Sports (англ. «спортивные соревнования») разные.\n",
    "Задайте самостоятельно пороговое значение alpha.\n",
    "Поясните:\n",
    "Как вы сформулировали нулевую и альтернативную гипотезы;\n",
    "Какой критерий применили для проверки гипотез и почему.\n",
    "Шаг 6. Напишите общий вывод"
   ]
  },
  {
   "cell_type": "markdown",
   "id": "22fad912",
   "metadata": {},
   "source": [
    "## Изучение данных из файла"
   ]
  },
  {
   "cell_type": "code",
   "execution_count": 1,
   "id": "cc8ce04e",
   "metadata": {},
   "outputs": [],
   "source": [
    "import pandas as pd\n",
    "import numpy as np\n",
    "import matplotlib.pyplot as plt\n",
    "import scipy.stats as st"
   ]
  },
  {
   "cell_type": "code",
   "execution_count": 2,
   "id": "2fc39a49",
   "metadata": {},
   "outputs": [],
   "source": [
    "try:\n",
    "    games = pd.read_csv('/datasets/games.csv')\n",
    "except:\n",
    "    games = pd.read_csv('C:/Users/paulo/Desktop/Сборный проект1/games.csv')"
   ]
  },
  {
   "cell_type": "code",
   "execution_count": 3,
   "id": "ccfb9e0a",
   "metadata": {
    "scrolled": true
   },
   "outputs": [
    {
     "data": {
      "text/html": [
       "<div>\n",
       "<style scoped>\n",
       "    .dataframe tbody tr th:only-of-type {\n",
       "        vertical-align: middle;\n",
       "    }\n",
       "\n",
       "    .dataframe tbody tr th {\n",
       "        vertical-align: top;\n",
       "    }\n",
       "\n",
       "    .dataframe thead th {\n",
       "        text-align: right;\n",
       "    }\n",
       "</style>\n",
       "<table border=\"1\" class=\"dataframe\">\n",
       "  <thead>\n",
       "    <tr style=\"text-align: right;\">\n",
       "      <th></th>\n",
       "      <th>Name</th>\n",
       "      <th>Platform</th>\n",
       "      <th>Year_of_Release</th>\n",
       "      <th>Genre</th>\n",
       "      <th>NA_sales</th>\n",
       "      <th>EU_sales</th>\n",
       "      <th>JP_sales</th>\n",
       "      <th>Other_sales</th>\n",
       "      <th>Critic_Score</th>\n",
       "      <th>User_Score</th>\n",
       "      <th>Rating</th>\n",
       "    </tr>\n",
       "  </thead>\n",
       "  <tbody>\n",
       "    <tr>\n",
       "      <th>0</th>\n",
       "      <td>Wii Sports</td>\n",
       "      <td>Wii</td>\n",
       "      <td>2006.0</td>\n",
       "      <td>Sports</td>\n",
       "      <td>41.36</td>\n",
       "      <td>28.96</td>\n",
       "      <td>3.77</td>\n",
       "      <td>8.45</td>\n",
       "      <td>76.0</td>\n",
       "      <td>8</td>\n",
       "      <td>E</td>\n",
       "    </tr>\n",
       "    <tr>\n",
       "      <th>1</th>\n",
       "      <td>Super Mario Bros.</td>\n",
       "      <td>NES</td>\n",
       "      <td>1985.0</td>\n",
       "      <td>Platform</td>\n",
       "      <td>29.08</td>\n",
       "      <td>3.58</td>\n",
       "      <td>6.81</td>\n",
       "      <td>0.77</td>\n",
       "      <td>NaN</td>\n",
       "      <td>NaN</td>\n",
       "      <td>NaN</td>\n",
       "    </tr>\n",
       "    <tr>\n",
       "      <th>2</th>\n",
       "      <td>Mario Kart Wii</td>\n",
       "      <td>Wii</td>\n",
       "      <td>2008.0</td>\n",
       "      <td>Racing</td>\n",
       "      <td>15.68</td>\n",
       "      <td>12.76</td>\n",
       "      <td>3.79</td>\n",
       "      <td>3.29</td>\n",
       "      <td>82.0</td>\n",
       "      <td>8.3</td>\n",
       "      <td>E</td>\n",
       "    </tr>\n",
       "    <tr>\n",
       "      <th>3</th>\n",
       "      <td>Wii Sports Resort</td>\n",
       "      <td>Wii</td>\n",
       "      <td>2009.0</td>\n",
       "      <td>Sports</td>\n",
       "      <td>15.61</td>\n",
       "      <td>10.93</td>\n",
       "      <td>3.28</td>\n",
       "      <td>2.95</td>\n",
       "      <td>80.0</td>\n",
       "      <td>8</td>\n",
       "      <td>E</td>\n",
       "    </tr>\n",
       "    <tr>\n",
       "      <th>4</th>\n",
       "      <td>Pokemon Red/Pokemon Blue</td>\n",
       "      <td>GB</td>\n",
       "      <td>1996.0</td>\n",
       "      <td>Role-Playing</td>\n",
       "      <td>11.27</td>\n",
       "      <td>8.89</td>\n",
       "      <td>10.22</td>\n",
       "      <td>1.00</td>\n",
       "      <td>NaN</td>\n",
       "      <td>NaN</td>\n",
       "      <td>NaN</td>\n",
       "    </tr>\n",
       "    <tr>\n",
       "      <th>5</th>\n",
       "      <td>Tetris</td>\n",
       "      <td>GB</td>\n",
       "      <td>1989.0</td>\n",
       "      <td>Puzzle</td>\n",
       "      <td>23.20</td>\n",
       "      <td>2.26</td>\n",
       "      <td>4.22</td>\n",
       "      <td>0.58</td>\n",
       "      <td>NaN</td>\n",
       "      <td>NaN</td>\n",
       "      <td>NaN</td>\n",
       "    </tr>\n",
       "    <tr>\n",
       "      <th>6</th>\n",
       "      <td>New Super Mario Bros.</td>\n",
       "      <td>DS</td>\n",
       "      <td>2006.0</td>\n",
       "      <td>Platform</td>\n",
       "      <td>11.28</td>\n",
       "      <td>9.14</td>\n",
       "      <td>6.50</td>\n",
       "      <td>2.88</td>\n",
       "      <td>89.0</td>\n",
       "      <td>8.5</td>\n",
       "      <td>E</td>\n",
       "    </tr>\n",
       "    <tr>\n",
       "      <th>7</th>\n",
       "      <td>Wii Play</td>\n",
       "      <td>Wii</td>\n",
       "      <td>2006.0</td>\n",
       "      <td>Misc</td>\n",
       "      <td>13.96</td>\n",
       "      <td>9.18</td>\n",
       "      <td>2.93</td>\n",
       "      <td>2.84</td>\n",
       "      <td>58.0</td>\n",
       "      <td>6.6</td>\n",
       "      <td>E</td>\n",
       "    </tr>\n",
       "    <tr>\n",
       "      <th>8</th>\n",
       "      <td>New Super Mario Bros. Wii</td>\n",
       "      <td>Wii</td>\n",
       "      <td>2009.0</td>\n",
       "      <td>Platform</td>\n",
       "      <td>14.44</td>\n",
       "      <td>6.94</td>\n",
       "      <td>4.70</td>\n",
       "      <td>2.24</td>\n",
       "      <td>87.0</td>\n",
       "      <td>8.4</td>\n",
       "      <td>E</td>\n",
       "    </tr>\n",
       "    <tr>\n",
       "      <th>9</th>\n",
       "      <td>Duck Hunt</td>\n",
       "      <td>NES</td>\n",
       "      <td>1984.0</td>\n",
       "      <td>Shooter</td>\n",
       "      <td>26.93</td>\n",
       "      <td>0.63</td>\n",
       "      <td>0.28</td>\n",
       "      <td>0.47</td>\n",
       "      <td>NaN</td>\n",
       "      <td>NaN</td>\n",
       "      <td>NaN</td>\n",
       "    </tr>\n",
       "  </tbody>\n",
       "</table>\n",
       "</div>"
      ],
      "text/plain": [
       "                        Name Platform  Year_of_Release         Genre  \\\n",
       "0                 Wii Sports      Wii           2006.0        Sports   \n",
       "1          Super Mario Bros.      NES           1985.0      Platform   \n",
       "2             Mario Kart Wii      Wii           2008.0        Racing   \n",
       "3          Wii Sports Resort      Wii           2009.0        Sports   \n",
       "4   Pokemon Red/Pokemon Blue       GB           1996.0  Role-Playing   \n",
       "5                     Tetris       GB           1989.0        Puzzle   \n",
       "6      New Super Mario Bros.       DS           2006.0      Platform   \n",
       "7                   Wii Play      Wii           2006.0          Misc   \n",
       "8  New Super Mario Bros. Wii      Wii           2009.0      Platform   \n",
       "9                  Duck Hunt      NES           1984.0       Shooter   \n",
       "\n",
       "   NA_sales  EU_sales  JP_sales  Other_sales  Critic_Score User_Score Rating  \n",
       "0     41.36     28.96      3.77         8.45          76.0          8      E  \n",
       "1     29.08      3.58      6.81         0.77           NaN        NaN    NaN  \n",
       "2     15.68     12.76      3.79         3.29          82.0        8.3      E  \n",
       "3     15.61     10.93      3.28         2.95          80.0          8      E  \n",
       "4     11.27      8.89     10.22         1.00           NaN        NaN    NaN  \n",
       "5     23.20      2.26      4.22         0.58           NaN        NaN    NaN  \n",
       "6     11.28      9.14      6.50         2.88          89.0        8.5      E  \n",
       "7     13.96      9.18      2.93         2.84          58.0        6.6      E  \n",
       "8     14.44      6.94      4.70         2.24          87.0        8.4      E  \n",
       "9     26.93      0.63      0.28         0.47           NaN        NaN    NaN  "
      ]
     },
     "execution_count": 3,
     "metadata": {},
     "output_type": "execute_result"
    }
   ],
   "source": [
    "games.head(10)"
   ]
  },
  {
   "cell_type": "code",
   "execution_count": 4,
   "id": "8dfa49c9",
   "metadata": {
    "scrolled": false
   },
   "outputs": [
    {
     "name": "stdout",
     "output_type": "stream",
     "text": [
      "<class 'pandas.core.frame.DataFrame'>\n",
      "RangeIndex: 16715 entries, 0 to 16714\n",
      "Data columns (total 11 columns):\n",
      " #   Column           Non-Null Count  Dtype  \n",
      "---  ------           --------------  -----  \n",
      " 0   Name             16713 non-null  object \n",
      " 1   Platform         16715 non-null  object \n",
      " 2   Year_of_Release  16446 non-null  float64\n",
      " 3   Genre            16713 non-null  object \n",
      " 4   NA_sales         16715 non-null  float64\n",
      " 5   EU_sales         16715 non-null  float64\n",
      " 6   JP_sales         16715 non-null  float64\n",
      " 7   Other_sales      16715 non-null  float64\n",
      " 8   Critic_Score     8137 non-null   float64\n",
      " 9   User_Score       10014 non-null  object \n",
      " 10  Rating           9949 non-null   object \n",
      "dtypes: float64(6), object(5)\n",
      "memory usage: 1.4+ MB\n"
     ]
    }
   ],
   "source": [
    "#смотрю общую инф-ю о дф\n",
    "games.info()"
   ]
  },
  {
   "cell_type": "markdown",
   "id": "f49ec23b",
   "metadata": {},
   "source": [
    "### Вывод"
   ]
  },
  {
   "cell_type": "markdown",
   "id": "66450e2b",
   "metadata": {},
   "source": [
    "- необходимо исправить название столбцов\n",
    "- замена типа данных в столбцах Year_of_Release, Critic_Score\n",
    "- заполнение пропусков в столбцах Critic_Score, User_Score медианой/средним\n",
    "- в столбце User_Score имеется значение 'tbd'. Его можно приравнять к NaN и сделать замену на среднее значение\n",
    "- в столбце Rating пропуски означают, что данный продукт для всех возрастных категорий\n",
    "- пропуски в столбце Year_of_Release заменю на 0\n",
    "- удалю 2 строчки без названия игр"
   ]
  },
  {
   "cell_type": "markdown",
   "id": "4c4af7da",
   "metadata": {},
   "source": [
    "## Подготовка данных"
   ]
  },
  {
   "cell_type": "code",
   "execution_count": 5,
   "id": "8d8ebb9c",
   "metadata": {},
   "outputs": [
    {
     "data": {
      "text/plain": [
       "0"
      ]
     },
     "execution_count": 5,
     "metadata": {},
     "output_type": "execute_result"
    }
   ],
   "source": [
    "#поиск явных дубликатов\n",
    "games.duplicated().sum()"
   ]
  },
  {
   "cell_type": "code",
   "execution_count": 6,
   "id": "713c3bc8",
   "metadata": {
    "scrolled": true
   },
   "outputs": [
    {
     "data": {
      "text/html": [
       "<div>\n",
       "<style scoped>\n",
       "    .dataframe tbody tr th:only-of-type {\n",
       "        vertical-align: middle;\n",
       "    }\n",
       "\n",
       "    .dataframe tbody tr th {\n",
       "        vertical-align: top;\n",
       "    }\n",
       "\n",
       "    .dataframe thead th {\n",
       "        text-align: right;\n",
       "    }\n",
       "</style>\n",
       "<table border=\"1\" class=\"dataframe\">\n",
       "  <thead>\n",
       "    <tr style=\"text-align: right;\">\n",
       "      <th></th>\n",
       "      <th>name</th>\n",
       "      <th>platform</th>\n",
       "      <th>year_of_release</th>\n",
       "      <th>genre</th>\n",
       "      <th>na_sales</th>\n",
       "      <th>eu_sales</th>\n",
       "      <th>jp_sales</th>\n",
       "      <th>other_sales</th>\n",
       "      <th>critic_score</th>\n",
       "      <th>user_score</th>\n",
       "      <th>rating</th>\n",
       "    </tr>\n",
       "  </thead>\n",
       "  <tbody>\n",
       "    <tr>\n",
       "      <th>0</th>\n",
       "      <td>Wii Sports</td>\n",
       "      <td>Wii</td>\n",
       "      <td>2006.0</td>\n",
       "      <td>Sports</td>\n",
       "      <td>41.36</td>\n",
       "      <td>28.96</td>\n",
       "      <td>3.77</td>\n",
       "      <td>8.45</td>\n",
       "      <td>76.0</td>\n",
       "      <td>8</td>\n",
       "      <td>E</td>\n",
       "    </tr>\n",
       "    <tr>\n",
       "      <th>1</th>\n",
       "      <td>Super Mario Bros.</td>\n",
       "      <td>NES</td>\n",
       "      <td>1985.0</td>\n",
       "      <td>Platform</td>\n",
       "      <td>29.08</td>\n",
       "      <td>3.58</td>\n",
       "      <td>6.81</td>\n",
       "      <td>0.77</td>\n",
       "      <td>NaN</td>\n",
       "      <td>NaN</td>\n",
       "      <td>NaN</td>\n",
       "    </tr>\n",
       "    <tr>\n",
       "      <th>2</th>\n",
       "      <td>Mario Kart Wii</td>\n",
       "      <td>Wii</td>\n",
       "      <td>2008.0</td>\n",
       "      <td>Racing</td>\n",
       "      <td>15.68</td>\n",
       "      <td>12.76</td>\n",
       "      <td>3.79</td>\n",
       "      <td>3.29</td>\n",
       "      <td>82.0</td>\n",
       "      <td>8.3</td>\n",
       "      <td>E</td>\n",
       "    </tr>\n",
       "    <tr>\n",
       "      <th>3</th>\n",
       "      <td>Wii Sports Resort</td>\n",
       "      <td>Wii</td>\n",
       "      <td>2009.0</td>\n",
       "      <td>Sports</td>\n",
       "      <td>15.61</td>\n",
       "      <td>10.93</td>\n",
       "      <td>3.28</td>\n",
       "      <td>2.95</td>\n",
       "      <td>80.0</td>\n",
       "      <td>8</td>\n",
       "      <td>E</td>\n",
       "    </tr>\n",
       "    <tr>\n",
       "      <th>4</th>\n",
       "      <td>Pokemon Red/Pokemon Blue</td>\n",
       "      <td>GB</td>\n",
       "      <td>1996.0</td>\n",
       "      <td>Role-Playing</td>\n",
       "      <td>11.27</td>\n",
       "      <td>8.89</td>\n",
       "      <td>10.22</td>\n",
       "      <td>1.00</td>\n",
       "      <td>NaN</td>\n",
       "      <td>NaN</td>\n",
       "      <td>NaN</td>\n",
       "    </tr>\n",
       "    <tr>\n",
       "      <th>5</th>\n",
       "      <td>Tetris</td>\n",
       "      <td>GB</td>\n",
       "      <td>1989.0</td>\n",
       "      <td>Puzzle</td>\n",
       "      <td>23.20</td>\n",
       "      <td>2.26</td>\n",
       "      <td>4.22</td>\n",
       "      <td>0.58</td>\n",
       "      <td>NaN</td>\n",
       "      <td>NaN</td>\n",
       "      <td>NaN</td>\n",
       "    </tr>\n",
       "    <tr>\n",
       "      <th>6</th>\n",
       "      <td>New Super Mario Bros.</td>\n",
       "      <td>DS</td>\n",
       "      <td>2006.0</td>\n",
       "      <td>Platform</td>\n",
       "      <td>11.28</td>\n",
       "      <td>9.14</td>\n",
       "      <td>6.50</td>\n",
       "      <td>2.88</td>\n",
       "      <td>89.0</td>\n",
       "      <td>8.5</td>\n",
       "      <td>E</td>\n",
       "    </tr>\n",
       "    <tr>\n",
       "      <th>7</th>\n",
       "      <td>Wii Play</td>\n",
       "      <td>Wii</td>\n",
       "      <td>2006.0</td>\n",
       "      <td>Misc</td>\n",
       "      <td>13.96</td>\n",
       "      <td>9.18</td>\n",
       "      <td>2.93</td>\n",
       "      <td>2.84</td>\n",
       "      <td>58.0</td>\n",
       "      <td>6.6</td>\n",
       "      <td>E</td>\n",
       "    </tr>\n",
       "    <tr>\n",
       "      <th>8</th>\n",
       "      <td>New Super Mario Bros. Wii</td>\n",
       "      <td>Wii</td>\n",
       "      <td>2009.0</td>\n",
       "      <td>Platform</td>\n",
       "      <td>14.44</td>\n",
       "      <td>6.94</td>\n",
       "      <td>4.70</td>\n",
       "      <td>2.24</td>\n",
       "      <td>87.0</td>\n",
       "      <td>8.4</td>\n",
       "      <td>E</td>\n",
       "    </tr>\n",
       "    <tr>\n",
       "      <th>9</th>\n",
       "      <td>Duck Hunt</td>\n",
       "      <td>NES</td>\n",
       "      <td>1984.0</td>\n",
       "      <td>Shooter</td>\n",
       "      <td>26.93</td>\n",
       "      <td>0.63</td>\n",
       "      <td>0.28</td>\n",
       "      <td>0.47</td>\n",
       "      <td>NaN</td>\n",
       "      <td>NaN</td>\n",
       "      <td>NaN</td>\n",
       "    </tr>\n",
       "  </tbody>\n",
       "</table>\n",
       "</div>"
      ],
      "text/plain": [
       "                        name platform  year_of_release         genre  \\\n",
       "0                 Wii Sports      Wii           2006.0        Sports   \n",
       "1          Super Mario Bros.      NES           1985.0      Platform   \n",
       "2             Mario Kart Wii      Wii           2008.0        Racing   \n",
       "3          Wii Sports Resort      Wii           2009.0        Sports   \n",
       "4   Pokemon Red/Pokemon Blue       GB           1996.0  Role-Playing   \n",
       "5                     Tetris       GB           1989.0        Puzzle   \n",
       "6      New Super Mario Bros.       DS           2006.0      Platform   \n",
       "7                   Wii Play      Wii           2006.0          Misc   \n",
       "8  New Super Mario Bros. Wii      Wii           2009.0      Platform   \n",
       "9                  Duck Hunt      NES           1984.0       Shooter   \n",
       "\n",
       "   na_sales  eu_sales  jp_sales  other_sales  critic_score user_score rating  \n",
       "0     41.36     28.96      3.77         8.45          76.0          8      E  \n",
       "1     29.08      3.58      6.81         0.77           NaN        NaN    NaN  \n",
       "2     15.68     12.76      3.79         3.29          82.0        8.3      E  \n",
       "3     15.61     10.93      3.28         2.95          80.0          8      E  \n",
       "4     11.27      8.89     10.22         1.00           NaN        NaN    NaN  \n",
       "5     23.20      2.26      4.22         0.58           NaN        NaN    NaN  \n",
       "6     11.28      9.14      6.50         2.88          89.0        8.5      E  \n",
       "7     13.96      9.18      2.93         2.84          58.0        6.6      E  \n",
       "8     14.44      6.94      4.70         2.24          87.0        8.4      E  \n",
       "9     26.93      0.63      0.28         0.47           NaN        NaN    NaN  "
      ]
     },
     "execution_count": 6,
     "metadata": {},
     "output_type": "execute_result"
    }
   ],
   "source": [
    "#замена названий столбцов\n",
    "games.columns = ['name', 'platform', 'year_of_release', 'genre', 'na_sales', 'eu_sales', \n",
    "                 'jp_sales', 'other_sales', 'critic_score', 'user_score', 'rating']\n",
    "games.head(10)"
   ]
  },
  {
   "cell_type": "code",
   "execution_count": 7,
   "id": "f27ad69c",
   "metadata": {},
   "outputs": [
    {
     "data": {
      "text/html": [
       "<div>\n",
       "<style scoped>\n",
       "    .dataframe tbody tr th:only-of-type {\n",
       "        vertical-align: middle;\n",
       "    }\n",
       "\n",
       "    .dataframe tbody tr th {\n",
       "        vertical-align: top;\n",
       "    }\n",
       "\n",
       "    .dataframe thead th {\n",
       "        text-align: right;\n",
       "    }\n",
       "</style>\n",
       "<table border=\"1\" class=\"dataframe\">\n",
       "  <thead>\n",
       "    <tr style=\"text-align: right;\">\n",
       "      <th></th>\n",
       "      <th>name</th>\n",
       "      <th>platform</th>\n",
       "      <th>year_of_release</th>\n",
       "      <th>genre</th>\n",
       "      <th>na_sales</th>\n",
       "      <th>eu_sales</th>\n",
       "      <th>jp_sales</th>\n",
       "      <th>other_sales</th>\n",
       "      <th>critic_score</th>\n",
       "      <th>user_score</th>\n",
       "      <th>rating</th>\n",
       "    </tr>\n",
       "  </thead>\n",
       "  <tbody>\n",
       "    <tr>\n",
       "      <th>659</th>\n",
       "      <td>NaN</td>\n",
       "      <td>GEN</td>\n",
       "      <td>1993.0</td>\n",
       "      <td>NaN</td>\n",
       "      <td>1.78</td>\n",
       "      <td>0.53</td>\n",
       "      <td>0.00</td>\n",
       "      <td>0.08</td>\n",
       "      <td>NaN</td>\n",
       "      <td>NaN</td>\n",
       "      <td>NaN</td>\n",
       "    </tr>\n",
       "    <tr>\n",
       "      <th>14244</th>\n",
       "      <td>NaN</td>\n",
       "      <td>GEN</td>\n",
       "      <td>1993.0</td>\n",
       "      <td>NaN</td>\n",
       "      <td>0.00</td>\n",
       "      <td>0.00</td>\n",
       "      <td>0.03</td>\n",
       "      <td>0.00</td>\n",
       "      <td>NaN</td>\n",
       "      <td>NaN</td>\n",
       "      <td>NaN</td>\n",
       "    </tr>\n",
       "  </tbody>\n",
       "</table>\n",
       "</div>"
      ],
      "text/plain": [
       "      name platform  year_of_release genre  na_sales  eu_sales  jp_sales  \\\n",
       "659    NaN      GEN           1993.0   NaN      1.78      0.53      0.00   \n",
       "14244  NaN      GEN           1993.0   NaN      0.00      0.00      0.03   \n",
       "\n",
       "       other_sales  critic_score user_score rating  \n",
       "659           0.08           NaN        NaN    NaN  \n",
       "14244         0.00           NaN        NaN    NaN  "
      ]
     },
     "metadata": {},
     "output_type": "display_data"
    },
    {
     "name": "stdout",
     "output_type": "stream",
     "text": [
      "Доля безликих строчек в общем ДФ: 0.00011965300628178283\n"
     ]
    }
   ],
   "source": [
    "#думаю удалить две строчки, с рядом отсутствующих данных\n",
    "display(games[games.name.isna()])\n",
    "print('Доля безликих строчек в общем ДФ:', len(games[games.name.isna()])/len(games))\n",
    "games = games.dropna(subset=['name'])"
   ]
  },
  {
   "cell_type": "code",
   "execution_count": 8,
   "id": "5955d1de",
   "metadata": {},
   "outputs": [
    {
     "data": {
      "text/html": [
       "<div>\n",
       "<style scoped>\n",
       "    .dataframe tbody tr th:only-of-type {\n",
       "        vertical-align: middle;\n",
       "    }\n",
       "\n",
       "    .dataframe tbody tr th {\n",
       "        vertical-align: top;\n",
       "    }\n",
       "\n",
       "    .dataframe thead th {\n",
       "        text-align: right;\n",
       "    }\n",
       "</style>\n",
       "<table border=\"1\" class=\"dataframe\">\n",
       "  <thead>\n",
       "    <tr style=\"text-align: right;\">\n",
       "      <th></th>\n",
       "      <th>name</th>\n",
       "      <th>platform</th>\n",
       "      <th>year_of_release</th>\n",
       "      <th>genre</th>\n",
       "      <th>na_sales</th>\n",
       "      <th>eu_sales</th>\n",
       "      <th>jp_sales</th>\n",
       "      <th>other_sales</th>\n",
       "      <th>critic_score</th>\n",
       "      <th>user_score</th>\n",
       "      <th>rating</th>\n",
       "    </tr>\n",
       "  </thead>\n",
       "  <tbody>\n",
       "    <tr>\n",
       "      <th>0</th>\n",
       "      <td>Wii Sports</td>\n",
       "      <td>Wii</td>\n",
       "      <td>2006.0</td>\n",
       "      <td>Sports</td>\n",
       "      <td>41.36</td>\n",
       "      <td>28.96</td>\n",
       "      <td>3.77</td>\n",
       "      <td>8.45</td>\n",
       "      <td>76.0</td>\n",
       "      <td>8</td>\n",
       "      <td>E</td>\n",
       "    </tr>\n",
       "    <tr>\n",
       "      <th>1</th>\n",
       "      <td>Super Mario Bros.</td>\n",
       "      <td>NES</td>\n",
       "      <td>1985.0</td>\n",
       "      <td>Platform</td>\n",
       "      <td>29.08</td>\n",
       "      <td>3.58</td>\n",
       "      <td>6.81</td>\n",
       "      <td>0.77</td>\n",
       "      <td>NaN</td>\n",
       "      <td>NaN</td>\n",
       "      <td>NaN</td>\n",
       "    </tr>\n",
       "    <tr>\n",
       "      <th>2</th>\n",
       "      <td>Mario Kart Wii</td>\n",
       "      <td>Wii</td>\n",
       "      <td>2008.0</td>\n",
       "      <td>Racing</td>\n",
       "      <td>15.68</td>\n",
       "      <td>12.76</td>\n",
       "      <td>3.79</td>\n",
       "      <td>3.29</td>\n",
       "      <td>82.0</td>\n",
       "      <td>8.3</td>\n",
       "      <td>E</td>\n",
       "    </tr>\n",
       "    <tr>\n",
       "      <th>3</th>\n",
       "      <td>Wii Sports Resort</td>\n",
       "      <td>Wii</td>\n",
       "      <td>2009.0</td>\n",
       "      <td>Sports</td>\n",
       "      <td>15.61</td>\n",
       "      <td>10.93</td>\n",
       "      <td>3.28</td>\n",
       "      <td>2.95</td>\n",
       "      <td>80.0</td>\n",
       "      <td>8</td>\n",
       "      <td>E</td>\n",
       "    </tr>\n",
       "    <tr>\n",
       "      <th>4</th>\n",
       "      <td>Pokemon Red/Pokemon Blue</td>\n",
       "      <td>GB</td>\n",
       "      <td>1996.0</td>\n",
       "      <td>Role-Playing</td>\n",
       "      <td>11.27</td>\n",
       "      <td>8.89</td>\n",
       "      <td>10.22</td>\n",
       "      <td>1.00</td>\n",
       "      <td>NaN</td>\n",
       "      <td>NaN</td>\n",
       "      <td>NaN</td>\n",
       "    </tr>\n",
       "    <tr>\n",
       "      <th>5</th>\n",
       "      <td>Tetris</td>\n",
       "      <td>GB</td>\n",
       "      <td>1989.0</td>\n",
       "      <td>Puzzle</td>\n",
       "      <td>23.20</td>\n",
       "      <td>2.26</td>\n",
       "      <td>4.22</td>\n",
       "      <td>0.58</td>\n",
       "      <td>NaN</td>\n",
       "      <td>NaN</td>\n",
       "      <td>NaN</td>\n",
       "    </tr>\n",
       "    <tr>\n",
       "      <th>6</th>\n",
       "      <td>New Super Mario Bros.</td>\n",
       "      <td>DS</td>\n",
       "      <td>2006.0</td>\n",
       "      <td>Platform</td>\n",
       "      <td>11.28</td>\n",
       "      <td>9.14</td>\n",
       "      <td>6.50</td>\n",
       "      <td>2.88</td>\n",
       "      <td>89.0</td>\n",
       "      <td>8.5</td>\n",
       "      <td>E</td>\n",
       "    </tr>\n",
       "    <tr>\n",
       "      <th>7</th>\n",
       "      <td>Wii Play</td>\n",
       "      <td>Wii</td>\n",
       "      <td>2006.0</td>\n",
       "      <td>Misc</td>\n",
       "      <td>13.96</td>\n",
       "      <td>9.18</td>\n",
       "      <td>2.93</td>\n",
       "      <td>2.84</td>\n",
       "      <td>58.0</td>\n",
       "      <td>6.6</td>\n",
       "      <td>E</td>\n",
       "    </tr>\n",
       "    <tr>\n",
       "      <th>8</th>\n",
       "      <td>New Super Mario Bros. Wii</td>\n",
       "      <td>Wii</td>\n",
       "      <td>2009.0</td>\n",
       "      <td>Platform</td>\n",
       "      <td>14.44</td>\n",
       "      <td>6.94</td>\n",
       "      <td>4.70</td>\n",
       "      <td>2.24</td>\n",
       "      <td>87.0</td>\n",
       "      <td>8.4</td>\n",
       "      <td>E</td>\n",
       "    </tr>\n",
       "    <tr>\n",
       "      <th>9</th>\n",
       "      <td>Duck Hunt</td>\n",
       "      <td>NES</td>\n",
       "      <td>1984.0</td>\n",
       "      <td>Shooter</td>\n",
       "      <td>26.93</td>\n",
       "      <td>0.63</td>\n",
       "      <td>0.28</td>\n",
       "      <td>0.47</td>\n",
       "      <td>NaN</td>\n",
       "      <td>NaN</td>\n",
       "      <td>NaN</td>\n",
       "    </tr>\n",
       "  </tbody>\n",
       "</table>\n",
       "</div>"
      ],
      "text/plain": [
       "                        name platform  year_of_release         genre  \\\n",
       "0                 Wii Sports      Wii           2006.0        Sports   \n",
       "1          Super Mario Bros.      NES           1985.0      Platform   \n",
       "2             Mario Kart Wii      Wii           2008.0        Racing   \n",
       "3          Wii Sports Resort      Wii           2009.0        Sports   \n",
       "4   Pokemon Red/Pokemon Blue       GB           1996.0  Role-Playing   \n",
       "5                     Tetris       GB           1989.0        Puzzle   \n",
       "6      New Super Mario Bros.       DS           2006.0      Platform   \n",
       "7                   Wii Play      Wii           2006.0          Misc   \n",
       "8  New Super Mario Bros. Wii      Wii           2009.0      Platform   \n",
       "9                  Duck Hunt      NES           1984.0       Shooter   \n",
       "\n",
       "   na_sales  eu_sales  jp_sales  other_sales  critic_score user_score rating  \n",
       "0     41.36     28.96      3.77         8.45          76.0          8      E  \n",
       "1     29.08      3.58      6.81         0.77           NaN        NaN    NaN  \n",
       "2     15.68     12.76      3.79         3.29          82.0        8.3      E  \n",
       "3     15.61     10.93      3.28         2.95          80.0          8      E  \n",
       "4     11.27      8.89     10.22         1.00           NaN        NaN    NaN  \n",
       "5     23.20      2.26      4.22         0.58           NaN        NaN    NaN  \n",
       "6     11.28      9.14      6.50         2.88          89.0        8.5      E  \n",
       "7     13.96      9.18      2.93         2.84          58.0        6.6      E  \n",
       "8     14.44      6.94      4.70         2.24          87.0        8.4      E  \n",
       "9     26.93      0.63      0.28         0.47           NaN        NaN    NaN  "
      ]
     },
     "execution_count": 8,
     "metadata": {},
     "output_type": "execute_result"
    }
   ],
   "source": [
    "games.head(10)"
   ]
  },
  {
   "cell_type": "code",
   "execution_count": 9,
   "id": "fb27c1ad",
   "metadata": {},
   "outputs": [],
   "source": [
    "#заполнение пропусков в столбце year_of_release и изменение типа данных\n",
    "games.year_of_release = games.year_of_release.fillna(games.groupby('genre')['year_of_release'].transform('median'))\n",
    "games.year_of_release = games.year_of_release.astype(int)"
   ]
  },
  {
   "cell_type": "code",
   "execution_count": 10,
   "id": "1caf445e",
   "metadata": {
    "scrolled": false
   },
   "outputs": [
    {
     "name": "stdout",
     "output_type": "stream",
     "text": [
      "<class 'pandas.core.frame.DataFrame'>\n",
      "Int64Index: 16713 entries, 0 to 16714\n",
      "Data columns (total 11 columns):\n",
      " #   Column           Non-Null Count  Dtype  \n",
      "---  ------           --------------  -----  \n",
      " 0   name             16713 non-null  object \n",
      " 1   platform         16713 non-null  object \n",
      " 2   year_of_release  16713 non-null  int64  \n",
      " 3   genre            16713 non-null  object \n",
      " 4   na_sales         16713 non-null  float64\n",
      " 5   eu_sales         16713 non-null  float64\n",
      " 6   jp_sales         16713 non-null  float64\n",
      " 7   other_sales      16713 non-null  float64\n",
      " 8   critic_score     8137 non-null   float64\n",
      " 9   user_score       7590 non-null   float64\n",
      " 10  rating           9949 non-null   object \n",
      "dtypes: float64(6), int64(1), object(4)\n",
      "memory usage: 1.5+ MB\n"
     ]
    }
   ],
   "source": [
    "#значение tbd можно приравнять к Nan\n",
    "games.user_score = games.user_score.replace('tbd', np.nan)\n",
    "games.user_score = games.user_score.astype('float')\n",
    "games.info()"
   ]
  },
  {
   "cell_type": "code",
   "execution_count": 11,
   "id": "0f88f689",
   "metadata": {},
   "outputs": [],
   "source": [
    "#заполнение пропусков в столбце critic_score\n",
    "games.critic_score = games.critic_score.fillna(-1)\n",
    "\n",
    "#заполнение пропусков в столбце user_score\n",
    "games.user_score = games.user_score.fillna(-1)\n",
    "\n",
    "#заполнение пропусков в столбце rating\n",
    "games.rating = games.rating.fillna('no_rating')"
   ]
  },
  {
   "cell_type": "code",
   "execution_count": 12,
   "id": "46b2fbc8",
   "metadata": {},
   "outputs": [
    {
     "data": {
      "text/html": [
       "<div>\n",
       "<style scoped>\n",
       "    .dataframe tbody tr th:only-of-type {\n",
       "        vertical-align: middle;\n",
       "    }\n",
       "\n",
       "    .dataframe tbody tr th {\n",
       "        vertical-align: top;\n",
       "    }\n",
       "\n",
       "    .dataframe thead th {\n",
       "        text-align: right;\n",
       "    }\n",
       "</style>\n",
       "<table border=\"1\" class=\"dataframe\">\n",
       "  <thead>\n",
       "    <tr style=\"text-align: right;\">\n",
       "      <th></th>\n",
       "      <th>name</th>\n",
       "      <th>platform</th>\n",
       "      <th>year_of_release</th>\n",
       "      <th>genre</th>\n",
       "      <th>na_sales</th>\n",
       "      <th>eu_sales</th>\n",
       "      <th>jp_sales</th>\n",
       "      <th>other_sales</th>\n",
       "      <th>critic_score</th>\n",
       "      <th>user_score</th>\n",
       "      <th>rating</th>\n",
       "    </tr>\n",
       "  </thead>\n",
       "  <tbody>\n",
       "    <tr>\n",
       "      <th>0</th>\n",
       "      <td>Wii Sports</td>\n",
       "      <td>Wii</td>\n",
       "      <td>2006</td>\n",
       "      <td>Sports</td>\n",
       "      <td>41.36</td>\n",
       "      <td>28.96</td>\n",
       "      <td>3.77</td>\n",
       "      <td>8.45</td>\n",
       "      <td>76.0</td>\n",
       "      <td>8.0</td>\n",
       "      <td>E</td>\n",
       "    </tr>\n",
       "    <tr>\n",
       "      <th>1</th>\n",
       "      <td>Super Mario Bros.</td>\n",
       "      <td>NES</td>\n",
       "      <td>1985</td>\n",
       "      <td>Platform</td>\n",
       "      <td>29.08</td>\n",
       "      <td>3.58</td>\n",
       "      <td>6.81</td>\n",
       "      <td>0.77</td>\n",
       "      <td>-1.0</td>\n",
       "      <td>-1.0</td>\n",
       "      <td>no_rating</td>\n",
       "    </tr>\n",
       "    <tr>\n",
       "      <th>2</th>\n",
       "      <td>Mario Kart Wii</td>\n",
       "      <td>Wii</td>\n",
       "      <td>2008</td>\n",
       "      <td>Racing</td>\n",
       "      <td>15.68</td>\n",
       "      <td>12.76</td>\n",
       "      <td>3.79</td>\n",
       "      <td>3.29</td>\n",
       "      <td>82.0</td>\n",
       "      <td>8.3</td>\n",
       "      <td>E</td>\n",
       "    </tr>\n",
       "    <tr>\n",
       "      <th>3</th>\n",
       "      <td>Wii Sports Resort</td>\n",
       "      <td>Wii</td>\n",
       "      <td>2009</td>\n",
       "      <td>Sports</td>\n",
       "      <td>15.61</td>\n",
       "      <td>10.93</td>\n",
       "      <td>3.28</td>\n",
       "      <td>2.95</td>\n",
       "      <td>80.0</td>\n",
       "      <td>8.0</td>\n",
       "      <td>E</td>\n",
       "    </tr>\n",
       "    <tr>\n",
       "      <th>4</th>\n",
       "      <td>Pokemon Red/Pokemon Blue</td>\n",
       "      <td>GB</td>\n",
       "      <td>1996</td>\n",
       "      <td>Role-Playing</td>\n",
       "      <td>11.27</td>\n",
       "      <td>8.89</td>\n",
       "      <td>10.22</td>\n",
       "      <td>1.00</td>\n",
       "      <td>-1.0</td>\n",
       "      <td>-1.0</td>\n",
       "      <td>no_rating</td>\n",
       "    </tr>\n",
       "    <tr>\n",
       "      <th>5</th>\n",
       "      <td>Tetris</td>\n",
       "      <td>GB</td>\n",
       "      <td>1989</td>\n",
       "      <td>Puzzle</td>\n",
       "      <td>23.20</td>\n",
       "      <td>2.26</td>\n",
       "      <td>4.22</td>\n",
       "      <td>0.58</td>\n",
       "      <td>-1.0</td>\n",
       "      <td>-1.0</td>\n",
       "      <td>no_rating</td>\n",
       "    </tr>\n",
       "    <tr>\n",
       "      <th>6</th>\n",
       "      <td>New Super Mario Bros.</td>\n",
       "      <td>DS</td>\n",
       "      <td>2006</td>\n",
       "      <td>Platform</td>\n",
       "      <td>11.28</td>\n",
       "      <td>9.14</td>\n",
       "      <td>6.50</td>\n",
       "      <td>2.88</td>\n",
       "      <td>89.0</td>\n",
       "      <td>8.5</td>\n",
       "      <td>E</td>\n",
       "    </tr>\n",
       "    <tr>\n",
       "      <th>7</th>\n",
       "      <td>Wii Play</td>\n",
       "      <td>Wii</td>\n",
       "      <td>2006</td>\n",
       "      <td>Misc</td>\n",
       "      <td>13.96</td>\n",
       "      <td>9.18</td>\n",
       "      <td>2.93</td>\n",
       "      <td>2.84</td>\n",
       "      <td>58.0</td>\n",
       "      <td>6.6</td>\n",
       "      <td>E</td>\n",
       "    </tr>\n",
       "    <tr>\n",
       "      <th>8</th>\n",
       "      <td>New Super Mario Bros. Wii</td>\n",
       "      <td>Wii</td>\n",
       "      <td>2009</td>\n",
       "      <td>Platform</td>\n",
       "      <td>14.44</td>\n",
       "      <td>6.94</td>\n",
       "      <td>4.70</td>\n",
       "      <td>2.24</td>\n",
       "      <td>87.0</td>\n",
       "      <td>8.4</td>\n",
       "      <td>E</td>\n",
       "    </tr>\n",
       "    <tr>\n",
       "      <th>9</th>\n",
       "      <td>Duck Hunt</td>\n",
       "      <td>NES</td>\n",
       "      <td>1984</td>\n",
       "      <td>Shooter</td>\n",
       "      <td>26.93</td>\n",
       "      <td>0.63</td>\n",
       "      <td>0.28</td>\n",
       "      <td>0.47</td>\n",
       "      <td>-1.0</td>\n",
       "      <td>-1.0</td>\n",
       "      <td>no_rating</td>\n",
       "    </tr>\n",
       "  </tbody>\n",
       "</table>\n",
       "</div>"
      ],
      "text/plain": [
       "                        name platform  year_of_release         genre  \\\n",
       "0                 Wii Sports      Wii             2006        Sports   \n",
       "1          Super Mario Bros.      NES             1985      Platform   \n",
       "2             Mario Kart Wii      Wii             2008        Racing   \n",
       "3          Wii Sports Resort      Wii             2009        Sports   \n",
       "4   Pokemon Red/Pokemon Blue       GB             1996  Role-Playing   \n",
       "5                     Tetris       GB             1989        Puzzle   \n",
       "6      New Super Mario Bros.       DS             2006      Platform   \n",
       "7                   Wii Play      Wii             2006          Misc   \n",
       "8  New Super Mario Bros. Wii      Wii             2009      Platform   \n",
       "9                  Duck Hunt      NES             1984       Shooter   \n",
       "\n",
       "   na_sales  eu_sales  jp_sales  other_sales  critic_score  user_score  \\\n",
       "0     41.36     28.96      3.77         8.45          76.0         8.0   \n",
       "1     29.08      3.58      6.81         0.77          -1.0        -1.0   \n",
       "2     15.68     12.76      3.79         3.29          82.0         8.3   \n",
       "3     15.61     10.93      3.28         2.95          80.0         8.0   \n",
       "4     11.27      8.89     10.22         1.00          -1.0        -1.0   \n",
       "5     23.20      2.26      4.22         0.58          -1.0        -1.0   \n",
       "6     11.28      9.14      6.50         2.88          89.0         8.5   \n",
       "7     13.96      9.18      2.93         2.84          58.0         6.6   \n",
       "8     14.44      6.94      4.70         2.24          87.0         8.4   \n",
       "9     26.93      0.63      0.28         0.47          -1.0        -1.0   \n",
       "\n",
       "      rating  \n",
       "0          E  \n",
       "1  no_rating  \n",
       "2          E  \n",
       "3          E  \n",
       "4  no_rating  \n",
       "5  no_rating  \n",
       "6          E  \n",
       "7          E  \n",
       "8          E  \n",
       "9  no_rating  "
      ]
     },
     "execution_count": 12,
     "metadata": {},
     "output_type": "execute_result"
    }
   ],
   "source": [
    "games.head(10)"
   ]
  },
  {
   "cell_type": "code",
   "execution_count": 13,
   "id": "66800c1f",
   "metadata": {},
   "outputs": [],
   "source": [
    "#суммарные продажи во всех регионах\n",
    "games['sum_sales'] = games['na_sales'] + games['eu_sales'] + games['jp_sales'] + games['other_sales']"
   ]
  },
  {
   "cell_type": "markdown",
   "id": "51a5da91",
   "metadata": {},
   "source": [
    "### Вывод"
   ]
  },
  {
   "cell_type": "markdown",
   "id": "affb10c8",
   "metadata": {},
   "source": [
    "- заменил название столбцов в соответствии с правилами хорошего тона\n",
    "- заменил тип данных там, где он необходим\n",
    "- заполнил пропуски в столбцах user_score, critic_score, rating\n",
    "- удалил 2 безликие строчки"
   ]
  },
  {
   "cell_type": "markdown",
   "id": "8c280ce3",
   "metadata": {},
   "source": [
    "## Исследовательский анализ данных"
   ]
  },
  {
   "cell_type": "code",
   "execution_count": 14,
   "id": "1ae28a3d",
   "metadata": {
    "scrolled": true
   },
   "outputs": [
    {
     "data": {
      "text/html": [
       "<div>\n",
       "<style scoped>\n",
       "    .dataframe tbody tr th:only-of-type {\n",
       "        vertical-align: middle;\n",
       "    }\n",
       "\n",
       "    .dataframe tbody tr th {\n",
       "        vertical-align: top;\n",
       "    }\n",
       "\n",
       "    .dataframe thead th {\n",
       "        text-align: right;\n",
       "    }\n",
       "</style>\n",
       "<table border=\"1\" class=\"dataframe\">\n",
       "  <thead>\n",
       "    <tr style=\"text-align: right;\">\n",
       "      <th></th>\n",
       "      <th>name</th>\n",
       "      <th>platform</th>\n",
       "      <th>year_of_release</th>\n",
       "      <th>genre</th>\n",
       "      <th>na_sales</th>\n",
       "      <th>eu_sales</th>\n",
       "      <th>jp_sales</th>\n",
       "      <th>other_sales</th>\n",
       "      <th>critic_score</th>\n",
       "      <th>user_score</th>\n",
       "      <th>rating</th>\n",
       "      <th>sum_sales</th>\n",
       "    </tr>\n",
       "  </thead>\n",
       "  <tbody>\n",
       "    <tr>\n",
       "      <th>0</th>\n",
       "      <td>Wii Sports</td>\n",
       "      <td>Wii</td>\n",
       "      <td>2006</td>\n",
       "      <td>Sports</td>\n",
       "      <td>41.36</td>\n",
       "      <td>28.96</td>\n",
       "      <td>3.77</td>\n",
       "      <td>8.45</td>\n",
       "      <td>76.0</td>\n",
       "      <td>8.0</td>\n",
       "      <td>E</td>\n",
       "      <td>82.54</td>\n",
       "    </tr>\n",
       "    <tr>\n",
       "      <th>1</th>\n",
       "      <td>Super Mario Bros.</td>\n",
       "      <td>NES</td>\n",
       "      <td>1985</td>\n",
       "      <td>Platform</td>\n",
       "      <td>29.08</td>\n",
       "      <td>3.58</td>\n",
       "      <td>6.81</td>\n",
       "      <td>0.77</td>\n",
       "      <td>-1.0</td>\n",
       "      <td>-1.0</td>\n",
       "      <td>no_rating</td>\n",
       "      <td>40.24</td>\n",
       "    </tr>\n",
       "    <tr>\n",
       "      <th>2</th>\n",
       "      <td>Mario Kart Wii</td>\n",
       "      <td>Wii</td>\n",
       "      <td>2008</td>\n",
       "      <td>Racing</td>\n",
       "      <td>15.68</td>\n",
       "      <td>12.76</td>\n",
       "      <td>3.79</td>\n",
       "      <td>3.29</td>\n",
       "      <td>82.0</td>\n",
       "      <td>8.3</td>\n",
       "      <td>E</td>\n",
       "      <td>35.52</td>\n",
       "    </tr>\n",
       "    <tr>\n",
       "      <th>3</th>\n",
       "      <td>Wii Sports Resort</td>\n",
       "      <td>Wii</td>\n",
       "      <td>2009</td>\n",
       "      <td>Sports</td>\n",
       "      <td>15.61</td>\n",
       "      <td>10.93</td>\n",
       "      <td>3.28</td>\n",
       "      <td>2.95</td>\n",
       "      <td>80.0</td>\n",
       "      <td>8.0</td>\n",
       "      <td>E</td>\n",
       "      <td>32.77</td>\n",
       "    </tr>\n",
       "    <tr>\n",
       "      <th>4</th>\n",
       "      <td>Pokemon Red/Pokemon Blue</td>\n",
       "      <td>GB</td>\n",
       "      <td>1996</td>\n",
       "      <td>Role-Playing</td>\n",
       "      <td>11.27</td>\n",
       "      <td>8.89</td>\n",
       "      <td>10.22</td>\n",
       "      <td>1.00</td>\n",
       "      <td>-1.0</td>\n",
       "      <td>-1.0</td>\n",
       "      <td>no_rating</td>\n",
       "      <td>31.38</td>\n",
       "    </tr>\n",
       "  </tbody>\n",
       "</table>\n",
       "</div>"
      ],
      "text/plain": [
       "                       name platform  year_of_release         genre  na_sales  \\\n",
       "0                Wii Sports      Wii             2006        Sports     41.36   \n",
       "1         Super Mario Bros.      NES             1985      Platform     29.08   \n",
       "2            Mario Kart Wii      Wii             2008        Racing     15.68   \n",
       "3         Wii Sports Resort      Wii             2009        Sports     15.61   \n",
       "4  Pokemon Red/Pokemon Blue       GB             1996  Role-Playing     11.27   \n",
       "\n",
       "   eu_sales  jp_sales  other_sales  critic_score  user_score     rating  \\\n",
       "0     28.96      3.77         8.45          76.0         8.0          E   \n",
       "1      3.58      6.81         0.77          -1.0        -1.0  no_rating   \n",
       "2     12.76      3.79         3.29          82.0         8.3          E   \n",
       "3     10.93      3.28         2.95          80.0         8.0          E   \n",
       "4      8.89     10.22         1.00          -1.0        -1.0  no_rating   \n",
       "\n",
       "   sum_sales  \n",
       "0      82.54  \n",
       "1      40.24  \n",
       "2      35.52  \n",
       "3      32.77  \n",
       "4      31.38  "
      ]
     },
     "execution_count": 14,
     "metadata": {},
     "output_type": "execute_result"
    }
   ],
   "source": [
    "games.head(5)"
   ]
  },
  {
   "cell_type": "code",
   "execution_count": 15,
   "id": "b2da21a3",
   "metadata": {
    "scrolled": false
   },
   "outputs": [
    {
     "data": {
      "image/png": "[encoded data removed]",
      "text/plain": [
       "<Figure size 720x576 with 1 Axes>"
      ]
     },
     "metadata": {
      "needs_background": "light"
     },
     "output_type": "display_data"
    }
   ],
   "source": [
    "#Количество выпущенных игр в разные годы\n",
    "count_in_year = games.pivot_table(index='year_of_release', values='name', aggfunc='count').reset_index()\n",
    "count_in_year.columns=['year_of_release', 'games_in_year']\n",
    "count_in_year.plot(x='year_of_release', y='games_in_year', figsize=(10,8))\n",
    "plt.show()"
   ]
  },
  {
   "cell_type": "markdown",
   "id": "6ae3f27b",
   "metadata": {},
   "source": [
    "Видно, что максимальное количество выпущенных игр приходится на 2007-2009 года."
   ]
  },
  {
   "cell_type": "code",
   "execution_count": 16,
   "id": "2d76aa3a",
   "metadata": {
    "scrolled": true
   },
   "outputs": [
    {
     "data": {
      "text/html": [
       "<div>\n",
       "<style scoped>\n",
       "    .dataframe tbody tr th:only-of-type {\n",
       "        vertical-align: middle;\n",
       "    }\n",
       "\n",
       "    .dataframe tbody tr th {\n",
       "        vertical-align: top;\n",
       "    }\n",
       "\n",
       "    .dataframe thead th {\n",
       "        text-align: right;\n",
       "    }\n",
       "</style>\n",
       "<table border=\"1\" class=\"dataframe\">\n",
       "  <thead>\n",
       "    <tr style=\"text-align: right;\">\n",
       "      <th></th>\n",
       "      <th>platform</th>\n",
       "      <th>sum_sales</th>\n",
       "    </tr>\n",
       "  </thead>\n",
       "  <tbody>\n",
       "    <tr>\n",
       "      <th>16</th>\n",
       "      <td>PS2</td>\n",
       "      <td>1255.77</td>\n",
       "    </tr>\n",
       "    <tr>\n",
       "      <th>28</th>\n",
       "      <td>X360</td>\n",
       "      <td>971.42</td>\n",
       "    </tr>\n",
       "    <tr>\n",
       "      <th>17</th>\n",
       "      <td>PS3</td>\n",
       "      <td>939.65</td>\n",
       "    </tr>\n",
       "    <tr>\n",
       "      <th>26</th>\n",
       "      <td>Wii</td>\n",
       "      <td>907.51</td>\n",
       "    </tr>\n",
       "    <tr>\n",
       "      <th>4</th>\n",
       "      <td>DS</td>\n",
       "      <td>806.12</td>\n",
       "    </tr>\n",
       "    <tr>\n",
       "      <th>15</th>\n",
       "      <td>PS</td>\n",
       "      <td>730.86</td>\n",
       "    </tr>\n",
       "    <tr>\n",
       "      <th>6</th>\n",
       "      <td>GBA</td>\n",
       "      <td>317.85</td>\n",
       "    </tr>\n",
       "    <tr>\n",
       "      <th>18</th>\n",
       "      <td>PS4</td>\n",
       "      <td>314.14</td>\n",
       "    </tr>\n",
       "    <tr>\n",
       "      <th>19</th>\n",
       "      <td>PSP</td>\n",
       "      <td>294.05</td>\n",
       "    </tr>\n",
       "    <tr>\n",
       "      <th>13</th>\n",
       "      <td>PC</td>\n",
       "      <td>259.52</td>\n",
       "    </tr>\n",
       "  </tbody>\n",
       "</table>\n",
       "</div>"
      ],
      "text/plain": [
       "   platform  sum_sales\n",
       "16      PS2    1255.77\n",
       "28     X360     971.42\n",
       "17      PS3     939.65\n",
       "26      Wii     907.51\n",
       "4        DS     806.12\n",
       "15       PS     730.86\n",
       "6       GBA     317.85\n",
       "18      PS4     314.14\n",
       "19      PSP     294.05\n",
       "13       PC     259.52"
      ]
     },
     "execution_count": 16,
     "metadata": {},
     "output_type": "execute_result"
    }
   ],
   "source": [
    "#Суммарные продажи по платформам\n",
    "sales_of_platform = (games.pivot_table(index=['platform'], values='sum_sales', aggfunc='sum').reset_index()\n",
    "                     .sort_values(by='sum_sales', ascending=False))\n",
    "sales_of_platform.head(10)"
   ]
  },
  {
   "cell_type": "markdown",
   "id": "cf4a06ab",
   "metadata": {},
   "source": [
    "Можно выделить явных лидеров по суммарным продажам: PS2, X360, Wii, PS3, DS, PS.  "
   ]
  },
  {
   "cell_type": "code",
   "execution_count": 17,
   "id": "8c1cf249",
   "metadata": {},
   "outputs": [
    {
     "data": {
      "text/plain": [
       "['PS2', 'X360', 'PS3', 'Wii', 'DS', 'PS', 'GBA', 'PS4', 'PSP', 'PC']"
      ]
     },
     "execution_count": 17,
     "metadata": {},
     "output_type": "execute_result"
    }
   ],
   "source": [
    "#Топ-10 платформ по суммарным продажам\n",
    "list_top_platform = sales_of_platform[:10]['platform'].tolist()\n",
    "list_top_platform"
   ]
  },
  {
   "cell_type": "code",
   "execution_count": 18,
   "id": "8be95c6c",
   "metadata": {
    "scrolled": false
   },
   "outputs": [
    {
     "data": {
      "image/png": "[encoded data removed]",
      "text/plain": [
       "<Figure size 720x576 with 1 Axes>"
      ]
     },
     "metadata": {
      "needs_background": "light"
     },
     "output_type": "display_data"
    }
   ],
   "source": [
    "#Графики изменения продаж для топ-10 платформам\n",
    "sales_of_platform = games.pivot_table(index=['year_of_release'], columns='platform', values='sum_sales', aggfunc='sum').reset_index()\n",
    "#display(sales_of_platform)\n",
    "sales_of_platform.plot(x='year_of_release', y=list_top_platform, figsize=(10,8), xlim=(1992,2017))\n",
    "plt.xlabel('Годы')\n",
    "plt.ylabel('Продажи')\n",
    "plt.show()"
   ]
  },
  {
   "cell_type": "code",
   "execution_count": 19,
   "id": "97c10202",
   "metadata": {},
   "outputs": [
    {
     "data": {
      "text/html": [
       "<div>\n",
       "<style scoped>\n",
       "    .dataframe tbody tr th:only-of-type {\n",
       "        vertical-align: middle;\n",
       "    }\n",
       "\n",
       "    .dataframe tbody tr th {\n",
       "        vertical-align: top;\n",
       "    }\n",
       "\n",
       "    .dataframe thead th {\n",
       "        text-align: right;\n",
       "    }\n",
       "</style>\n",
       "<table border=\"1\" class=\"dataframe\">\n",
       "  <thead>\n",
       "    <tr style=\"text-align: right;\">\n",
       "      <th></th>\n",
       "      <th>platform</th>\n",
       "      <th>start</th>\n",
       "      <th>finish</th>\n",
       "      <th>duration</th>\n",
       "    </tr>\n",
       "  </thead>\n",
       "  <tbody>\n",
       "    <tr>\n",
       "      <th>0</th>\n",
       "      <td>2600</td>\n",
       "      <td>2009</td>\n",
       "      <td>1980</td>\n",
       "      <td>29</td>\n",
       "    </tr>\n",
       "    <tr>\n",
       "      <th>1</th>\n",
       "      <td>3DO</td>\n",
       "      <td>1995</td>\n",
       "      <td>1994</td>\n",
       "      <td>1</td>\n",
       "    </tr>\n",
       "    <tr>\n",
       "      <th>2</th>\n",
       "      <td>3DS</td>\n",
       "      <td>2016</td>\n",
       "      <td>2005</td>\n",
       "      <td>11</td>\n",
       "    </tr>\n",
       "    <tr>\n",
       "      <th>3</th>\n",
       "      <td>DC</td>\n",
       "      <td>2008</td>\n",
       "      <td>1998</td>\n",
       "      <td>10</td>\n",
       "    </tr>\n",
       "    <tr>\n",
       "      <th>4</th>\n",
       "      <td>DS</td>\n",
       "      <td>2013</td>\n",
       "      <td>1985</td>\n",
       "      <td>28</td>\n",
       "    </tr>\n",
       "    <tr>\n",
       "      <th>5</th>\n",
       "      <td>GB</td>\n",
       "      <td>2004</td>\n",
       "      <td>1988</td>\n",
       "      <td>16</td>\n",
       "    </tr>\n",
       "    <tr>\n",
       "      <th>6</th>\n",
       "      <td>GBA</td>\n",
       "      <td>2009</td>\n",
       "      <td>2000</td>\n",
       "      <td>9</td>\n",
       "    </tr>\n",
       "    <tr>\n",
       "      <th>7</th>\n",
       "      <td>GC</td>\n",
       "      <td>2009</td>\n",
       "      <td>2001</td>\n",
       "      <td>8</td>\n",
       "    </tr>\n",
       "    <tr>\n",
       "      <th>8</th>\n",
       "      <td>GEN</td>\n",
       "      <td>1994</td>\n",
       "      <td>1990</td>\n",
       "      <td>4</td>\n",
       "    </tr>\n",
       "    <tr>\n",
       "      <th>9</th>\n",
       "      <td>GG</td>\n",
       "      <td>1992</td>\n",
       "      <td>1992</td>\n",
       "      <td>0</td>\n",
       "    </tr>\n",
       "  </tbody>\n",
       "</table>\n",
       "</div>"
      ],
      "text/plain": [
       "  platform  start  finish  duration\n",
       "0     2600   2009    1980        29\n",
       "1      3DO   1995    1994         1\n",
       "2      3DS   2016    2005        11\n",
       "3       DC   2008    1998        10\n",
       "4       DS   2013    1985        28\n",
       "5       GB   2004    1988        16\n",
       "6      GBA   2009    2000         9\n",
       "7       GC   2009    2001         8\n",
       "8      GEN   1994    1990         4\n",
       "9       GG   1992    1992         0"
      ]
     },
     "metadata": {},
     "output_type": "display_data"
    },
    {
     "name": "stdout",
     "output_type": "stream",
     "text": [
      "Средний жизненный цикл платформы составляет: 9.35483870967742\n"
     ]
    }
   ],
   "source": [
    "#считаю средний жизненный цикл платформы\n",
    "average_of_platform = games.pivot_table(index='platform', values='year_of_release', aggfunc=['max', 'min']).reset_index()\n",
    "average_of_platform.columns = ['platform', 'start', 'finish']\n",
    "average_of_platform['duration'] = average_of_platform['start'] - average_of_platform['finish']\n",
    "display(average_of_platform.head(10))\n",
    "\n",
    "print('Средний жизненный цикл платформы составляет:', average_of_platform.duration.mean())"
   ]
  },
  {
   "cell_type": "markdown",
   "id": "1685d547",
   "metadata": {},
   "source": [
    "**По приведенным данным за актуальный период возьму 2013-2016 годы.** "
   ]
  },
  {
   "cell_type": "code",
   "execution_count": 20,
   "id": "caac193b",
   "metadata": {
    "scrolled": true
   },
   "outputs": [],
   "source": [
    "#делаю срез по годам с 2013 по 2016\n",
    "segment_games = games.copy()\n",
    "segment_games = segment_games.query('2013 <= year_of_release <= 2016').reset_index(drop=True)\n",
    "#segment_games"
   ]
  },
  {
   "cell_type": "markdown",
   "id": "7d64c184",
   "metadata": {},
   "source": [
    "Какие платформы лидируют по продажам, растут или падают?"
   ]
  },
  {
   "cell_type": "code",
   "execution_count": 21,
   "id": "85af3433",
   "metadata": {
    "scrolled": false
   },
   "outputs": [
    {
     "data": {
      "text/html": [
       "<div>\n",
       "<style scoped>\n",
       "    .dataframe tbody tr th:only-of-type {\n",
       "        vertical-align: middle;\n",
       "    }\n",
       "\n",
       "    .dataframe tbody tr th {\n",
       "        vertical-align: top;\n",
       "    }\n",
       "\n",
       "    .dataframe thead th {\n",
       "        text-align: right;\n",
       "    }\n",
       "</style>\n",
       "<table border=\"1\" class=\"dataframe\">\n",
       "  <thead>\n",
       "    <tr style=\"text-align: right;\">\n",
       "      <th>platform</th>\n",
       "      <th>year_of_release</th>\n",
       "      <th>3DS</th>\n",
       "      <th>DS</th>\n",
       "      <th>PC</th>\n",
       "      <th>PS3</th>\n",
       "      <th>PS4</th>\n",
       "      <th>PSP</th>\n",
       "      <th>PSV</th>\n",
       "      <th>Wii</th>\n",
       "      <th>WiiU</th>\n",
       "      <th>X360</th>\n",
       "      <th>XOne</th>\n",
       "    </tr>\n",
       "  </thead>\n",
       "  <tbody>\n",
       "    <tr>\n",
       "      <th>0</th>\n",
       "      <td>2013</td>\n",
       "      <td>56.57</td>\n",
       "      <td>1.54</td>\n",
       "      <td>12.38</td>\n",
       "      <td>113.25</td>\n",
       "      <td>25.99</td>\n",
       "      <td>3.14</td>\n",
       "      <td>10.59</td>\n",
       "      <td>8.59</td>\n",
       "      <td>21.65</td>\n",
       "      <td>88.58</td>\n",
       "      <td>18.96</td>\n",
       "    </tr>\n",
       "    <tr>\n",
       "      <th>1</th>\n",
       "      <td>2014</td>\n",
       "      <td>43.76</td>\n",
       "      <td>NaN</td>\n",
       "      <td>13.28</td>\n",
       "      <td>47.76</td>\n",
       "      <td>100.00</td>\n",
       "      <td>0.24</td>\n",
       "      <td>11.90</td>\n",
       "      <td>3.75</td>\n",
       "      <td>22.03</td>\n",
       "      <td>34.74</td>\n",
       "      <td>54.07</td>\n",
       "    </tr>\n",
       "    <tr>\n",
       "      <th>2</th>\n",
       "      <td>2015</td>\n",
       "      <td>27.78</td>\n",
       "      <td>NaN</td>\n",
       "      <td>8.52</td>\n",
       "      <td>16.82</td>\n",
       "      <td>118.90</td>\n",
       "      <td>0.12</td>\n",
       "      <td>6.25</td>\n",
       "      <td>1.14</td>\n",
       "      <td>16.35</td>\n",
       "      <td>11.96</td>\n",
       "      <td>60.14</td>\n",
       "    </tr>\n",
       "    <tr>\n",
       "      <th>3</th>\n",
       "      <td>2016</td>\n",
       "      <td>15.14</td>\n",
       "      <td>NaN</td>\n",
       "      <td>5.25</td>\n",
       "      <td>3.60</td>\n",
       "      <td>69.25</td>\n",
       "      <td>NaN</td>\n",
       "      <td>4.25</td>\n",
       "      <td>0.18</td>\n",
       "      <td>4.60</td>\n",
       "      <td>1.52</td>\n",
       "      <td>26.15</td>\n",
       "    </tr>\n",
       "  </tbody>\n",
       "</table>\n",
       "</div>"
      ],
      "text/plain": [
       "platform  year_of_release    3DS    DS     PC     PS3     PS4   PSP    PSV  \\\n",
       "0                    2013  56.57  1.54  12.38  113.25   25.99  3.14  10.59   \n",
       "1                    2014  43.76   NaN  13.28   47.76  100.00  0.24  11.90   \n",
       "2                    2015  27.78   NaN   8.52   16.82  118.90  0.12   6.25   \n",
       "3                    2016  15.14   NaN   5.25    3.60   69.25   NaN   4.25   \n",
       "\n",
       "platform   Wii   WiiU   X360   XOne  \n",
       "0         8.59  21.65  88.58  18.96  \n",
       "1         3.75  22.03  34.74  54.07  \n",
       "2         1.14  16.35  11.96  60.14  \n",
       "3         0.18   4.60   1.52  26.15  "
      ]
     },
     "metadata": {},
     "output_type": "display_data"
    },
    {
     "data": {
      "image/png": "[encoded data removed]",
      "text/plain": [
       "<Figure size 576x576 with 1 Axes>"
      ]
     },
     "metadata": {
      "needs_background": "light"
     },
     "output_type": "display_data"
    }
   ],
   "source": [
    "#Графики изменения продаж для платформ в период 2013-2016 годов\n",
    "seg_sales_of_platform = segment_games.pivot_table(index=['year_of_release'], columns='platform', values='sum_sales', aggfunc='sum').reset_index()\n",
    "display(seg_sales_of_platform)\n",
    "\n",
    "seg_sales_of_platform.plot(x='year_of_release', figsize=(8,8), xlim=(2012,2017))\n",
    "plt.xlabel('Годы')\n",
    "plt.ylabel('Продажи')\n",
    "plt.show()"
   ]
  },
  {
   "cell_type": "code",
   "execution_count": 22,
   "id": "b34fcb6e",
   "metadata": {
    "scrolled": true
   },
   "outputs": [
    {
     "data": {
      "text/html": [
       "<div>\n",
       "<style scoped>\n",
       "    .dataframe tbody tr th:only-of-type {\n",
       "        vertical-align: middle;\n",
       "    }\n",
       "\n",
       "    .dataframe tbody tr th {\n",
       "        vertical-align: top;\n",
       "    }\n",
       "\n",
       "    .dataframe thead th {\n",
       "        text-align: right;\n",
       "    }\n",
       "</style>\n",
       "<table border=\"1\" class=\"dataframe\">\n",
       "  <thead>\n",
       "    <tr style=\"text-align: right;\">\n",
       "      <th></th>\n",
       "      <th>platform</th>\n",
       "      <th>sum_sales</th>\n",
       "    </tr>\n",
       "  </thead>\n",
       "  <tbody>\n",
       "    <tr>\n",
       "      <th>4</th>\n",
       "      <td>PS4</td>\n",
       "      <td>314.14</td>\n",
       "    </tr>\n",
       "    <tr>\n",
       "      <th>3</th>\n",
       "      <td>PS3</td>\n",
       "      <td>181.43</td>\n",
       "    </tr>\n",
       "    <tr>\n",
       "      <th>10</th>\n",
       "      <td>XOne</td>\n",
       "      <td>159.32</td>\n",
       "    </tr>\n",
       "    <tr>\n",
       "      <th>0</th>\n",
       "      <td>3DS</td>\n",
       "      <td>143.25</td>\n",
       "    </tr>\n",
       "    <tr>\n",
       "      <th>9</th>\n",
       "      <td>X360</td>\n",
       "      <td>136.80</td>\n",
       "    </tr>\n",
       "    <tr>\n",
       "      <th>8</th>\n",
       "      <td>WiiU</td>\n",
       "      <td>64.63</td>\n",
       "    </tr>\n",
       "    <tr>\n",
       "      <th>2</th>\n",
       "      <td>PC</td>\n",
       "      <td>39.43</td>\n",
       "    </tr>\n",
       "    <tr>\n",
       "      <th>6</th>\n",
       "      <td>PSV</td>\n",
       "      <td>32.99</td>\n",
       "    </tr>\n",
       "    <tr>\n",
       "      <th>7</th>\n",
       "      <td>Wii</td>\n",
       "      <td>13.66</td>\n",
       "    </tr>\n",
       "    <tr>\n",
       "      <th>5</th>\n",
       "      <td>PSP</td>\n",
       "      <td>3.50</td>\n",
       "    </tr>\n",
       "    <tr>\n",
       "      <th>1</th>\n",
       "      <td>DS</td>\n",
       "      <td>1.54</td>\n",
       "    </tr>\n",
       "  </tbody>\n",
       "</table>\n",
       "</div>"
      ],
      "text/plain": [
       "   platform  sum_sales\n",
       "4       PS4     314.14\n",
       "3       PS3     181.43\n",
       "10     XOne     159.32\n",
       "0       3DS     143.25\n",
       "9      X360     136.80\n",
       "8      WiiU      64.63\n",
       "2        PC      39.43\n",
       "6       PSV      32.99\n",
       "7       Wii      13.66\n",
       "5       PSP       3.50\n",
       "1        DS       1.54"
      ]
     },
     "execution_count": 22,
     "metadata": {},
     "output_type": "execute_result"
    }
   ],
   "source": [
    "#Лидеры по продажам за 2010-2016\n",
    "seg_sum_sales = (segment_games.pivot_table(index='platform', values='sum_sales', aggfunc='sum')\n",
    "                 .reset_index().sort_values(by='sum_sales', ascending=False))\n",
    "seg_sum_sales"
   ]
  },
  {
   "cell_type": "markdown",
   "id": "6440a1d8",
   "metadata": {},
   "source": [
    "У лидеров продаж X360, Wii, PS3, DS наблюдается падение продаж к 2016 году."
   ]
  },
  {
   "cell_type": "code",
   "execution_count": 23,
   "id": "3e34f74f",
   "metadata": {},
   "outputs": [
    {
     "data": {
      "text/html": [
       "<div>\n",
       "<style scoped>\n",
       "    .dataframe tbody tr th:only-of-type {\n",
       "        vertical-align: middle;\n",
       "    }\n",
       "\n",
       "    .dataframe tbody tr th {\n",
       "        vertical-align: top;\n",
       "    }\n",
       "\n",
       "    .dataframe thead th {\n",
       "        text-align: right;\n",
       "    }\n",
       "</style>\n",
       "<table border=\"1\" class=\"dataframe\">\n",
       "  <thead>\n",
       "    <tr style=\"text-align: right;\">\n",
       "      <th></th>\n",
       "      <th>name</th>\n",
       "      <th>platform</th>\n",
       "      <th>year_of_release</th>\n",
       "      <th>genre</th>\n",
       "      <th>na_sales</th>\n",
       "      <th>eu_sales</th>\n",
       "      <th>jp_sales</th>\n",
       "      <th>other_sales</th>\n",
       "      <th>critic_score</th>\n",
       "      <th>user_score</th>\n",
       "      <th>rating</th>\n",
       "      <th>sum_sales</th>\n",
       "    </tr>\n",
       "  </thead>\n",
       "  <tbody>\n",
       "    <tr>\n",
       "      <th>0</th>\n",
       "      <td>Grand Theft Auto V</td>\n",
       "      <td>PS3</td>\n",
       "      <td>2013</td>\n",
       "      <td>Action</td>\n",
       "      <td>7.02</td>\n",
       "      <td>9.09</td>\n",
       "      <td>0.98</td>\n",
       "      <td>3.96</td>\n",
       "      <td>97.0</td>\n",
       "      <td>8.2</td>\n",
       "      <td>M</td>\n",
       "      <td>21.05</td>\n",
       "    </tr>\n",
       "    <tr>\n",
       "      <th>1</th>\n",
       "      <td>Grand Theft Auto V</td>\n",
       "      <td>X360</td>\n",
       "      <td>2013</td>\n",
       "      <td>Action</td>\n",
       "      <td>9.66</td>\n",
       "      <td>5.14</td>\n",
       "      <td>0.06</td>\n",
       "      <td>1.41</td>\n",
       "      <td>97.0</td>\n",
       "      <td>8.1</td>\n",
       "      <td>M</td>\n",
       "      <td>16.27</td>\n",
       "    </tr>\n",
       "    <tr>\n",
       "      <th>2</th>\n",
       "      <td>Call of Duty: Black Ops 3</td>\n",
       "      <td>PS4</td>\n",
       "      <td>2015</td>\n",
       "      <td>Shooter</td>\n",
       "      <td>6.03</td>\n",
       "      <td>5.86</td>\n",
       "      <td>0.36</td>\n",
       "      <td>2.38</td>\n",
       "      <td>-1.0</td>\n",
       "      <td>-1.0</td>\n",
       "      <td>no_rating</td>\n",
       "      <td>14.63</td>\n",
       "    </tr>\n",
       "    <tr>\n",
       "      <th>3</th>\n",
       "      <td>Pokemon X/Pokemon Y</td>\n",
       "      <td>3DS</td>\n",
       "      <td>2013</td>\n",
       "      <td>Role-Playing</td>\n",
       "      <td>5.28</td>\n",
       "      <td>4.19</td>\n",
       "      <td>4.35</td>\n",
       "      <td>0.78</td>\n",
       "      <td>-1.0</td>\n",
       "      <td>-1.0</td>\n",
       "      <td>no_rating</td>\n",
       "      <td>14.60</td>\n",
       "    </tr>\n",
       "    <tr>\n",
       "      <th>4</th>\n",
       "      <td>Grand Theft Auto V</td>\n",
       "      <td>PS4</td>\n",
       "      <td>2014</td>\n",
       "      <td>Action</td>\n",
       "      <td>3.96</td>\n",
       "      <td>6.31</td>\n",
       "      <td>0.38</td>\n",
       "      <td>1.97</td>\n",
       "      <td>97.0</td>\n",
       "      <td>8.3</td>\n",
       "      <td>M</td>\n",
       "      <td>12.62</td>\n",
       "    </tr>\n",
       "  </tbody>\n",
       "</table>\n",
       "</div>"
      ],
      "text/plain": [
       "                        name platform  year_of_release         genre  \\\n",
       "0         Grand Theft Auto V      PS3             2013        Action   \n",
       "1         Grand Theft Auto V     X360             2013        Action   \n",
       "2  Call of Duty: Black Ops 3      PS4             2015       Shooter   \n",
       "3        Pokemon X/Pokemon Y      3DS             2013  Role-Playing   \n",
       "4         Grand Theft Auto V      PS4             2014        Action   \n",
       "\n",
       "   na_sales  eu_sales  jp_sales  other_sales  critic_score  user_score  \\\n",
       "0      7.02      9.09      0.98         3.96          97.0         8.2   \n",
       "1      9.66      5.14      0.06         1.41          97.0         8.1   \n",
       "2      6.03      5.86      0.36         2.38          -1.0        -1.0   \n",
       "3      5.28      4.19      4.35         0.78          -1.0        -1.0   \n",
       "4      3.96      6.31      0.38         1.97          97.0         8.3   \n",
       "\n",
       "      rating  sum_sales  \n",
       "0          M      21.05  \n",
       "1          M      16.27  \n",
       "2  no_rating      14.63  \n",
       "3  no_rating      14.60  \n",
       "4          M      12.62  "
      ]
     },
     "execution_count": 23,
     "metadata": {},
     "output_type": "execute_result"
    }
   ],
   "source": [
    "segment_games.head()"
   ]
  },
  {
   "cell_type": "code",
   "execution_count": 24,
   "id": "c4b60342",
   "metadata": {
    "scrolled": false
   },
   "outputs": [
    {
     "data": {
      "image/png": "[encoded data removed]",
      "text/plain": [
       "<Figure size 720x504 with 1 Axes>"
      ]
     },
     "metadata": {
      "needs_background": "light"
     },
     "output_type": "display_data"
    }
   ],
   "source": [
    "#«Ящик с усами» по глобальным продажам игр в разбивке по платформам\n",
    "segment_games.boxplot(column=['sum_sales'], by=['platform'], figsize=(10,7))\n",
    "plt.ylim(0,5)\n",
    "plt.title('BoxPlot')\n",
    "plt.xlabel('Платформа')\n",
    "plt.ylabel('Продажи')\n",
    "plt.show()"
   ]
  },
  {
   "cell_type": "markdown",
   "id": "5d6e135d",
   "metadata": {},
   "source": [
    "По данным диаграммы размаха видно, что распределение продаж смещено вправо. Предположу, что пик продаж случается сразу после выхода какой-то игры, а после идет снижение продаж. "
   ]
  },
  {
   "cell_type": "markdown",
   "id": "72d08412",
   "metadata": {},
   "source": [
    "**Влияние на продажи внутри одной популярной платформы отзывы пользователей и критиков.**"
   ]
  },
  {
   "cell_type": "code",
   "execution_count": 25,
   "id": "e33051da",
   "metadata": {
    "scrolled": true
   },
   "outputs": [
    {
     "data": {
      "image/png": "[encoded data removed]",
      "text/plain": [
       "<Figure size 432x288 with 1 Axes>"
      ]
     },
     "metadata": {
      "needs_background": "light"
     },
     "output_type": "display_data"
    },
    {
     "name": "stdout",
     "output_type": "stream",
     "text": [
      "Корреляция между отзывами критиков и продажами для X360: 0.3503445460228664\n"
     ]
    },
    {
     "data": {
      "image/png": "[encoded data removed]",
      "text/plain": [
       "<Figure size 432x288 with 1 Axes>"
      ]
     },
     "metadata": {
      "needs_background": "light"
     },
     "output_type": "display_data"
    },
    {
     "name": "stdout",
     "output_type": "stream",
     "text": [
      "Корреляция между отзывами пользователей и продажами для X360: -0.006238179532306317\n"
     ]
    }
   ],
   "source": [
    "#проверим платформу X360\n",
    "score_x360 = segment_games.query('platform == \"X360\" and critic_score > 0 and user_score > 0')\n",
    "score_x360.plot(kind='scatter', x='critic_score', y='sum_sales', sharex=False)\n",
    "plt.title('Зависимость продаж от отзывов критиков')\n",
    "plt.xlabel('Оценка критиков')\n",
    "#plt.уlabel('Продажи')\n",
    "plt.show()\n",
    "print('Корреляция между отзывами критиков и продажами для X360:', score_x360['critic_score'].corr(score_x360['sum_sales']))\n",
    "\n",
    "score_x360.plot(kind='scatter', x='user_score', y='sum_sales')\n",
    "plt.title('Зависимость продаж от отзывов пользователей')\n",
    "plt.xlabel('Оценка критиков')\n",
    "#plt.уlabel('Продажи')\n",
    "plt.show()\n",
    "print('Корреляция между отзывами пользователей и продажами для X360:', score_x360['user_score'].corr(score_x360['sum_sales']))"
   ]
  },
  {
   "cell_type": "code",
   "execution_count": 26,
   "id": "225ac3b4",
   "metadata": {
    "scrolled": true
   },
   "outputs": [
    {
     "data": {
      "image/png": "[encoded data removed]",
      "text/plain": [
       "<Figure size 432x288 with 1 Axes>"
      ]
     },
     "metadata": {
      "needs_background": "light"
     },
     "output_type": "display_data"
    },
    {
     "name": "stdout",
     "output_type": "stream",
     "text": [
      "Корреляция между отзывами критиков и продажами для PS3: 0.33380663565061736\n"
     ]
    },
    {
     "data": {
      "image/png": "[encoded data removed]",
      "text/plain": [
       "<Figure size 432x288 with 1 Axes>"
      ]
     },
     "metadata": {
      "needs_background": "light"
     },
     "output_type": "display_data"
    },
    {
     "name": "stdout",
     "output_type": "stream",
     "text": [
      "Корреляция между отзывами пользователей и продажами для PS3: 0.02269094327112414\n"
     ]
    }
   ],
   "source": [
    "#проверим платформу PS3\n",
    "score_ps3 = segment_games.query('platform == \"PS3\" and critic_score > 0 and user_score > 0')\n",
    "score_ps3.plot(kind='scatter', x='critic_score', y='sum_sales', sharex=False)\n",
    "plt.title('Зависимость продаж от отзывов критиков')\n",
    "plt.xlabel('Оценка критиков')\n",
    "#plt.уlabel('Продажи')\n",
    "plt.show()\n",
    "print('Корреляция между отзывами критиков и продажами для PS3:', score_ps3['critic_score'].corr(score_ps3['sum_sales']))\n",
    "\n",
    "score_ps3.plot(kind='scatter', x='user_score', y='sum_sales')\n",
    "plt.title('Зависимость продаж от отзывов пользователей')\n",
    "plt.xlabel('Оценка критиков')\n",
    "#plt.уlabel('Продажи')\n",
    "plt.show()\n",
    "print('Корреляция между отзывами пользователей и продажами для PS3:', score_ps3['user_score'].corr(score_ps3['sum_sales']))"
   ]
  },
  {
   "cell_type": "code",
   "execution_count": 27,
   "id": "3650669f",
   "metadata": {
    "scrolled": true
   },
   "outputs": [
    {
     "data": {
      "image/png": "[encoded data removed]",
      "text/plain": [
       "<Figure size 432x288 with 1 Axes>"
      ]
     },
     "metadata": {
      "needs_background": "light"
     },
     "output_type": "display_data"
    },
    {
     "name": "stdout",
     "output_type": "stream",
     "text": [
      "Корреляция между отзывами критиков и продажами для PS4: 0.40589480145836687\n"
     ]
    },
    {
     "data": {
      "image/png": "[encoded data removed]",
      "text/plain": [
       "<Figure size 432x288 with 1 Axes>"
      ]
     },
     "metadata": {
      "needs_background": "light"
     },
     "output_type": "display_data"
    },
    {
     "name": "stdout",
     "output_type": "stream",
     "text": [
      "Корреляция между отзывами пользователей и продажами для PS4: -0.03362497596528878\n"
     ]
    }
   ],
   "source": [
    "#проверим платформу PS4\n",
    "score_ps4 = segment_games.query('platform == \"PS4\" and critic_score > 0 and user_score > 0')\n",
    "score_ps4.plot(kind='scatter', x='critic_score', y='sum_sales', sharex=False)\n",
    "plt.title('Зависимость продаж от отзывов критиков')\n",
    "plt.xlabel('Оценка критиков')\n",
    "#plt.уlabel('Продажи')\n",
    "plt.show()\n",
    "print('Корреляция между отзывами критиков и продажами для PS4:', score_ps4['critic_score'].corr(score_ps4['sum_sales']))\n",
    "\n",
    "score_ps4.plot(kind='scatter', x='user_score', y='sum_sales')\n",
    "plt.title('Зависимость продаж от отзывов пользователей')\n",
    "plt.xlabel('Оценка критиков')\n",
    "#plt.уlabel('Продажи')\n",
    "plt.show()\n",
    "print('Корреляция между отзывами пользователей и продажами для PS4:', score_ps4['user_score'].corr(score_ps4['sum_sales']))"
   ]
  },
  {
   "cell_type": "markdown",
   "id": "6705a884",
   "metadata": {},
   "source": [
    "По данным диаграммам X360 и PS3 нельзя сказать, что оценка пользователей и критиков явно влияет на продажи. Но по зависимости продаж от отзывов критиков для платформы PS4 видно, что хорошие оценки критиков положительно влияют на продажи. \n"
   ]
  },
  {
   "cell_type": "code",
   "execution_count": 29,
   "id": "7b4621ee",
   "metadata": {
    "scrolled": true
   },
   "outputs": [
    {
     "data": {
      "text/html": [
       "<div>\n",
       "<style scoped>\n",
       "    .dataframe tbody tr th:only-of-type {\n",
       "        vertical-align: middle;\n",
       "    }\n",
       "\n",
       "    .dataframe tbody tr th {\n",
       "        vertical-align: top;\n",
       "    }\n",
       "\n",
       "    .dataframe thead th {\n",
       "        text-align: right;\n",
       "    }\n",
       "</style>\n",
       "<table border=\"1\" class=\"dataframe\">\n",
       "  <thead>\n",
       "    <tr style=\"text-align: right;\">\n",
       "      <th></th>\n",
       "      <th>genre</th>\n",
       "      <th>name</th>\n",
       "    </tr>\n",
       "  </thead>\n",
       "  <tbody>\n",
       "    <tr>\n",
       "      <th>0</th>\n",
       "      <td>Action</td>\n",
       "      <td>766</td>\n",
       "    </tr>\n",
       "    <tr>\n",
       "      <th>7</th>\n",
       "      <td>Role-Playing</td>\n",
       "      <td>292</td>\n",
       "    </tr>\n",
       "    <tr>\n",
       "      <th>1</th>\n",
       "      <td>Adventure</td>\n",
       "      <td>245</td>\n",
       "    </tr>\n",
       "    <tr>\n",
       "      <th>10</th>\n",
       "      <td>Sports</td>\n",
       "      <td>214</td>\n",
       "    </tr>\n",
       "    <tr>\n",
       "      <th>8</th>\n",
       "      <td>Shooter</td>\n",
       "      <td>187</td>\n",
       "    </tr>\n",
       "    <tr>\n",
       "      <th>3</th>\n",
       "      <td>Misc</td>\n",
       "      <td>155</td>\n",
       "    </tr>\n",
       "    <tr>\n",
       "      <th>6</th>\n",
       "      <td>Racing</td>\n",
       "      <td>85</td>\n",
       "    </tr>\n",
       "    <tr>\n",
       "      <th>2</th>\n",
       "      <td>Fighting</td>\n",
       "      <td>80</td>\n",
       "    </tr>\n",
       "    <tr>\n",
       "      <th>4</th>\n",
       "      <td>Platform</td>\n",
       "      <td>74</td>\n",
       "    </tr>\n",
       "    <tr>\n",
       "      <th>9</th>\n",
       "      <td>Simulation</td>\n",
       "      <td>62</td>\n",
       "    </tr>\n",
       "    <tr>\n",
       "      <th>11</th>\n",
       "      <td>Strategy</td>\n",
       "      <td>56</td>\n",
       "    </tr>\n",
       "    <tr>\n",
       "      <th>5</th>\n",
       "      <td>Puzzle</td>\n",
       "      <td>17</td>\n",
       "    </tr>\n",
       "  </tbody>\n",
       "</table>\n",
       "</div>"
      ],
      "text/plain": [
       "           genre  name\n",
       "0         Action   766\n",
       "7   Role-Playing   292\n",
       "1      Adventure   245\n",
       "10        Sports   214\n",
       "8        Shooter   187\n",
       "3           Misc   155\n",
       "6         Racing    85\n",
       "2       Fighting    80\n",
       "4       Platform    74\n",
       "9     Simulation    62\n",
       "11      Strategy    56\n",
       "5         Puzzle    17"
      ]
     },
     "execution_count": 29,
     "metadata": {},
     "output_type": "execute_result"
    }
   ],
   "source": [
    "#общее распределение игр по жанрам\n",
    "games_of_genre = (segment_games.pivot_table(index='genre', values='name', aggfunc='count').reset_index()\n",
    "                  .sort_values(by='name', ascending=False))\n",
    "games_of_genre"
   ]
  },
  {
   "cell_type": "code",
   "execution_count": 30,
   "id": "cecdcdca",
   "metadata": {
    "scrolled": false
   },
   "outputs": [
    {
     "data": {
      "text/html": [
       "<div>\n",
       "<style scoped>\n",
       "    .dataframe tbody tr th:only-of-type {\n",
       "        vertical-align: middle;\n",
       "    }\n",
       "\n",
       "    .dataframe tbody tr th {\n",
       "        vertical-align: top;\n",
       "    }\n",
       "\n",
       "    .dataframe thead th {\n",
       "        text-align: right;\n",
       "    }\n",
       "</style>\n",
       "<table border=\"1\" class=\"dataframe\">\n",
       "  <thead>\n",
       "    <tr style=\"text-align: right;\">\n",
       "      <th></th>\n",
       "      <th>genre</th>\n",
       "      <th>sum_sales</th>\n",
       "    </tr>\n",
       "  </thead>\n",
       "  <tbody>\n",
       "    <tr>\n",
       "      <th>8</th>\n",
       "      <td>Shooter</td>\n",
       "      <td>0.450</td>\n",
       "    </tr>\n",
       "    <tr>\n",
       "      <th>10</th>\n",
       "      <td>Sports</td>\n",
       "      <td>0.240</td>\n",
       "    </tr>\n",
       "    <tr>\n",
       "      <th>4</th>\n",
       "      <td>Platform</td>\n",
       "      <td>0.225</td>\n",
       "    </tr>\n",
       "    <tr>\n",
       "      <th>7</th>\n",
       "      <td>Role-Playing</td>\n",
       "      <td>0.125</td>\n",
       "    </tr>\n",
       "    <tr>\n",
       "      <th>2</th>\n",
       "      <td>Fighting</td>\n",
       "      <td>0.125</td>\n",
       "    </tr>\n",
       "    <tr>\n",
       "      <th>6</th>\n",
       "      <td>Racing</td>\n",
       "      <td>0.120</td>\n",
       "    </tr>\n",
       "    <tr>\n",
       "      <th>0</th>\n",
       "      <td>Action</td>\n",
       "      <td>0.110</td>\n",
       "    </tr>\n",
       "    <tr>\n",
       "      <th>9</th>\n",
       "      <td>Simulation</td>\n",
       "      <td>0.100</td>\n",
       "    </tr>\n",
       "    <tr>\n",
       "      <th>3</th>\n",
       "      <td>Misc</td>\n",
       "      <td>0.100</td>\n",
       "    </tr>\n",
       "    <tr>\n",
       "      <th>11</th>\n",
       "      <td>Strategy</td>\n",
       "      <td>0.080</td>\n",
       "    </tr>\n",
       "    <tr>\n",
       "      <th>5</th>\n",
       "      <td>Puzzle</td>\n",
       "      <td>0.060</td>\n",
       "    </tr>\n",
       "    <tr>\n",
       "      <th>1</th>\n",
       "      <td>Adventure</td>\n",
       "      <td>0.030</td>\n",
       "    </tr>\n",
       "  </tbody>\n",
       "</table>\n",
       "</div>"
      ],
      "text/plain": [
       "           genre  sum_sales\n",
       "8        Shooter      0.450\n",
       "10        Sports      0.240\n",
       "4       Platform      0.225\n",
       "7   Role-Playing      0.125\n",
       "2       Fighting      0.125\n",
       "6         Racing      0.120\n",
       "0         Action      0.110\n",
       "9     Simulation      0.100\n",
       "3           Misc      0.100\n",
       "11      Strategy      0.080\n",
       "5         Puzzle      0.060\n",
       "1      Adventure      0.030"
      ]
     },
     "execution_count": 30,
     "metadata": {},
     "output_type": "execute_result"
    }
   ],
   "source": [
    "#самые прибыльные жанры\n",
    "(segment_games.pivot_table(index='genre', values='sum_sales', aggfunc='median').reset_index()\n",
    " .sort_values(by='sum_sales', ascending=False))"
   ]
  },
  {
   "cell_type": "markdown",
   "id": "67dc0d32",
   "metadata": {},
   "source": [
    "Большое количество выпускаемых игр соответствует таким жанрам, как Action, Misc, Sports, Role-Playing, Adventure, Shooter. Среди них выделяется жанр Action, почти в 3 раза опережающий по количеству игр последующую строчку.\n",
    "\n",
    "Топ-5 самых прибыльных жанров: Shooter, Platform, Sports, Fighting, Racing, Role-Playing. Shooter (по-русски стрелялка) уверенно закрепился в лидерах по прибыли."
   ]
  },
  {
   "cell_type": "markdown",
   "id": "365684c8",
   "metadata": {},
   "source": [
    "### Вывод"
   ]
  },
  {
   "cell_type": "markdown",
   "id": "00311cab",
   "metadata": {},
   "source": [
    "- выбрал актуальный период для анализа 2017 года\n",
    "- рассмотрел потенциально прибыльные платформы\n",
    "- оценил зависимость продаж от отзывов\n",
    "- рассмотрел распределение игр по жанрам, а также прибыль по жанрам"
   ]
  },
  {
   "cell_type": "markdown",
   "id": "198993ec",
   "metadata": {},
   "source": [
    "## Портрет пользователя каждого региона"
   ]
  },
  {
   "cell_type": "code",
   "execution_count": 31,
   "id": "187827f8",
   "metadata": {
    "scrolled": true
   },
   "outputs": [
    {
     "data": {
      "text/html": [
       "<div>\n",
       "<style scoped>\n",
       "    .dataframe tbody tr th:only-of-type {\n",
       "        vertical-align: middle;\n",
       "    }\n",
       "\n",
       "    .dataframe tbody tr th {\n",
       "        vertical-align: top;\n",
       "    }\n",
       "\n",
       "    .dataframe thead th {\n",
       "        text-align: right;\n",
       "    }\n",
       "</style>\n",
       "<table border=\"1\" class=\"dataframe\">\n",
       "  <thead>\n",
       "    <tr style=\"text-align: right;\">\n",
       "      <th></th>\n",
       "      <th>name</th>\n",
       "      <th>platform</th>\n",
       "      <th>year_of_release</th>\n",
       "      <th>genre</th>\n",
       "      <th>na_sales</th>\n",
       "      <th>eu_sales</th>\n",
       "      <th>jp_sales</th>\n",
       "      <th>other_sales</th>\n",
       "      <th>critic_score</th>\n",
       "      <th>user_score</th>\n",
       "      <th>rating</th>\n",
       "      <th>sum_sales</th>\n",
       "    </tr>\n",
       "  </thead>\n",
       "  <tbody>\n",
       "    <tr>\n",
       "      <th>0</th>\n",
       "      <td>Grand Theft Auto V</td>\n",
       "      <td>PS3</td>\n",
       "      <td>2013</td>\n",
       "      <td>Action</td>\n",
       "      <td>7.02</td>\n",
       "      <td>9.09</td>\n",
       "      <td>0.98</td>\n",
       "      <td>3.96</td>\n",
       "      <td>97.0</td>\n",
       "      <td>8.2</td>\n",
       "      <td>M</td>\n",
       "      <td>21.05</td>\n",
       "    </tr>\n",
       "    <tr>\n",
       "      <th>1</th>\n",
       "      <td>Grand Theft Auto V</td>\n",
       "      <td>X360</td>\n",
       "      <td>2013</td>\n",
       "      <td>Action</td>\n",
       "      <td>9.66</td>\n",
       "      <td>5.14</td>\n",
       "      <td>0.06</td>\n",
       "      <td>1.41</td>\n",
       "      <td>97.0</td>\n",
       "      <td>8.1</td>\n",
       "      <td>M</td>\n",
       "      <td>16.27</td>\n",
       "    </tr>\n",
       "    <tr>\n",
       "      <th>2</th>\n",
       "      <td>Call of Duty: Black Ops 3</td>\n",
       "      <td>PS4</td>\n",
       "      <td>2015</td>\n",
       "      <td>Shooter</td>\n",
       "      <td>6.03</td>\n",
       "      <td>5.86</td>\n",
       "      <td>0.36</td>\n",
       "      <td>2.38</td>\n",
       "      <td>-1.0</td>\n",
       "      <td>-1.0</td>\n",
       "      <td>no_rating</td>\n",
       "      <td>14.63</td>\n",
       "    </tr>\n",
       "    <tr>\n",
       "      <th>3</th>\n",
       "      <td>Pokemon X/Pokemon Y</td>\n",
       "      <td>3DS</td>\n",
       "      <td>2013</td>\n",
       "      <td>Role-Playing</td>\n",
       "      <td>5.28</td>\n",
       "      <td>4.19</td>\n",
       "      <td>4.35</td>\n",
       "      <td>0.78</td>\n",
       "      <td>-1.0</td>\n",
       "      <td>-1.0</td>\n",
       "      <td>no_rating</td>\n",
       "      <td>14.60</td>\n",
       "    </tr>\n",
       "    <tr>\n",
       "      <th>4</th>\n",
       "      <td>Grand Theft Auto V</td>\n",
       "      <td>PS4</td>\n",
       "      <td>2014</td>\n",
       "      <td>Action</td>\n",
       "      <td>3.96</td>\n",
       "      <td>6.31</td>\n",
       "      <td>0.38</td>\n",
       "      <td>1.97</td>\n",
       "      <td>97.0</td>\n",
       "      <td>8.3</td>\n",
       "      <td>M</td>\n",
       "      <td>12.62</td>\n",
       "    </tr>\n",
       "  </tbody>\n",
       "</table>\n",
       "</div>"
      ],
      "text/plain": [
       "                        name platform  year_of_release         genre  \\\n",
       "0         Grand Theft Auto V      PS3             2013        Action   \n",
       "1         Grand Theft Auto V     X360             2013        Action   \n",
       "2  Call of Duty: Black Ops 3      PS4             2015       Shooter   \n",
       "3        Pokemon X/Pokemon Y      3DS             2013  Role-Playing   \n",
       "4         Grand Theft Auto V      PS4             2014        Action   \n",
       "\n",
       "   na_sales  eu_sales  jp_sales  other_sales  critic_score  user_score  \\\n",
       "0      7.02      9.09      0.98         3.96          97.0         8.2   \n",
       "1      9.66      5.14      0.06         1.41          97.0         8.1   \n",
       "2      6.03      5.86      0.36         2.38          -1.0        -1.0   \n",
       "3      5.28      4.19      4.35         0.78          -1.0        -1.0   \n",
       "4      3.96      6.31      0.38         1.97          97.0         8.3   \n",
       "\n",
       "      rating  sum_sales  \n",
       "0          M      21.05  \n",
       "1          M      16.27  \n",
       "2  no_rating      14.63  \n",
       "3  no_rating      14.60  \n",
       "4          M      12.62  "
      ]
     },
     "execution_count": 31,
     "metadata": {},
     "output_type": "execute_result"
    }
   ],
   "source": [
    "segment_games.head()"
   ]
  },
  {
   "cell_type": "code",
   "execution_count": 32,
   "id": "7a0350ff",
   "metadata": {
    "scrolled": true
   },
   "outputs": [
    {
     "data": {
      "text/html": [
       "<div>\n",
       "<style scoped>\n",
       "    .dataframe tbody tr th:only-of-type {\n",
       "        vertical-align: middle;\n",
       "    }\n",
       "\n",
       "    .dataframe tbody tr th {\n",
       "        vertical-align: top;\n",
       "    }\n",
       "\n",
       "    .dataframe thead th {\n",
       "        text-align: right;\n",
       "    }\n",
       "</style>\n",
       "<table border=\"1\" class=\"dataframe\">\n",
       "  <thead>\n",
       "    <tr style=\"text-align: right;\">\n",
       "      <th></th>\n",
       "      <th>platform</th>\n",
       "      <th>na_sales</th>\n",
       "      <th>sum_sales</th>\n",
       "    </tr>\n",
       "  </thead>\n",
       "  <tbody>\n",
       "    <tr>\n",
       "      <th>4</th>\n",
       "      <td>PS4</td>\n",
       "      <td>108.74</td>\n",
       "      <td>314.14</td>\n",
       "    </tr>\n",
       "    <tr>\n",
       "      <th>10</th>\n",
       "      <td>XOne</td>\n",
       "      <td>93.12</td>\n",
       "      <td>159.32</td>\n",
       "    </tr>\n",
       "    <tr>\n",
       "      <th>9</th>\n",
       "      <td>X360</td>\n",
       "      <td>81.66</td>\n",
       "      <td>136.80</td>\n",
       "    </tr>\n",
       "    <tr>\n",
       "      <th>3</th>\n",
       "      <td>PS3</td>\n",
       "      <td>63.50</td>\n",
       "      <td>181.43</td>\n",
       "    </tr>\n",
       "    <tr>\n",
       "      <th>0</th>\n",
       "      <td>3DS</td>\n",
       "      <td>38.20</td>\n",
       "      <td>143.25</td>\n",
       "    </tr>\n",
       "  </tbody>\n",
       "</table>\n",
       "</div>"
      ],
      "text/plain": [
       "   platform  na_sales  sum_sales\n",
       "4       PS4    108.74     314.14\n",
       "10     XOne     93.12     159.32\n",
       "9      X360     81.66     136.80\n",
       "3       PS3     63.50     181.43\n",
       "0       3DS     38.20     143.25"
      ]
     },
     "metadata": {},
     "output_type": "display_data"
    },
    {
     "data": {
      "text/html": [
       "<div>\n",
       "<style scoped>\n",
       "    .dataframe tbody tr th:only-of-type {\n",
       "        vertical-align: middle;\n",
       "    }\n",
       "\n",
       "    .dataframe tbody tr th {\n",
       "        vertical-align: top;\n",
       "    }\n",
       "\n",
       "    .dataframe thead th {\n",
       "        text-align: right;\n",
       "    }\n",
       "</style>\n",
       "<table border=\"1\" class=\"dataframe\">\n",
       "  <thead>\n",
       "    <tr style=\"text-align: right;\">\n",
       "      <th></th>\n",
       "      <th>platform</th>\n",
       "      <th>eu_sales</th>\n",
       "      <th>sum_sales</th>\n",
       "    </tr>\n",
       "  </thead>\n",
       "  <tbody>\n",
       "    <tr>\n",
       "      <th>4</th>\n",
       "      <td>PS4</td>\n",
       "      <td>141.09</td>\n",
       "      <td>314.14</td>\n",
       "    </tr>\n",
       "    <tr>\n",
       "      <th>3</th>\n",
       "      <td>PS3</td>\n",
       "      <td>67.81</td>\n",
       "      <td>181.43</td>\n",
       "    </tr>\n",
       "    <tr>\n",
       "      <th>10</th>\n",
       "      <td>XOne</td>\n",
       "      <td>51.59</td>\n",
       "      <td>159.32</td>\n",
       "    </tr>\n",
       "    <tr>\n",
       "      <th>9</th>\n",
       "      <td>X360</td>\n",
       "      <td>42.52</td>\n",
       "      <td>136.80</td>\n",
       "    </tr>\n",
       "    <tr>\n",
       "      <th>0</th>\n",
       "      <td>3DS</td>\n",
       "      <td>30.96</td>\n",
       "      <td>143.25</td>\n",
       "    </tr>\n",
       "  </tbody>\n",
       "</table>\n",
       "</div>"
      ],
      "text/plain": [
       "   platform  eu_sales  sum_sales\n",
       "4       PS4    141.09     314.14\n",
       "3       PS3     67.81     181.43\n",
       "10     XOne     51.59     159.32\n",
       "9      X360     42.52     136.80\n",
       "0       3DS     30.96     143.25"
      ]
     },
     "metadata": {},
     "output_type": "display_data"
    },
    {
     "data": {
      "text/html": [
       "<div>\n",
       "<style scoped>\n",
       "    .dataframe tbody tr th:only-of-type {\n",
       "        vertical-align: middle;\n",
       "    }\n",
       "\n",
       "    .dataframe tbody tr th {\n",
       "        vertical-align: top;\n",
       "    }\n",
       "\n",
       "    .dataframe thead th {\n",
       "        text-align: right;\n",
       "    }\n",
       "</style>\n",
       "<table border=\"1\" class=\"dataframe\">\n",
       "  <thead>\n",
       "    <tr style=\"text-align: right;\">\n",
       "      <th></th>\n",
       "      <th>platform</th>\n",
       "      <th>jp_sales</th>\n",
       "      <th>sum_sales</th>\n",
       "    </tr>\n",
       "  </thead>\n",
       "  <tbody>\n",
       "    <tr>\n",
       "      <th>0</th>\n",
       "      <td>3DS</td>\n",
       "      <td>67.81</td>\n",
       "      <td>143.25</td>\n",
       "    </tr>\n",
       "    <tr>\n",
       "      <th>3</th>\n",
       "      <td>PS3</td>\n",
       "      <td>23.35</td>\n",
       "      <td>181.43</td>\n",
       "    </tr>\n",
       "    <tr>\n",
       "      <th>6</th>\n",
       "      <td>PSV</td>\n",
       "      <td>18.59</td>\n",
       "      <td>32.99</td>\n",
       "    </tr>\n",
       "    <tr>\n",
       "      <th>4</th>\n",
       "      <td>PS4</td>\n",
       "      <td>15.96</td>\n",
       "      <td>314.14</td>\n",
       "    </tr>\n",
       "    <tr>\n",
       "      <th>8</th>\n",
       "      <td>WiiU</td>\n",
       "      <td>10.88</td>\n",
       "      <td>64.63</td>\n",
       "    </tr>\n",
       "  </tbody>\n",
       "</table>\n",
       "</div>"
      ],
      "text/plain": [
       "  platform  jp_sales  sum_sales\n",
       "0      3DS     67.81     143.25\n",
       "3      PS3     23.35     181.43\n",
       "6      PSV     18.59      32.99\n",
       "4      PS4     15.96     314.14\n",
       "8     WiiU     10.88      64.63"
      ]
     },
     "metadata": {},
     "output_type": "display_data"
    },
    {
     "data": {
      "image/png": "[encoded data removed]",
      "text/plain": [
       "<Figure size 432x288 with 1 Axes>"
      ]
     },
     "metadata": {},
     "output_type": "display_data"
    },
    {
     "data": {
      "image/png": "[encoded data removed]",
      "text/plain": [
       "<Figure size 432x288 with 1 Axes>"
      ]
     },
     "metadata": {},
     "output_type": "display_data"
    },
    {
     "data": {
      "image/png": "[encoded data removed]",
      "text/plain": [
       "<Figure size 432x288 with 1 Axes>"
      ]
     },
     "metadata": {},
     "output_type": "display_data"
    }
   ],
   "source": [
    "#Самые популярные платформы (топ-5) для пользователя каждого региона\n",
    "top_na_sales = (segment_games.pivot_table(index='platform', values=['na_sales', 'sum_sales'], aggfunc='sum').reset_index()\n",
    "                .sort_values(by='na_sales', ascending=False).head())\n",
    "display(top_na_sales)\n",
    "    \n",
    "top_eu_sales = (segment_games.pivot_table(index='platform', values=['eu_sales', 'sum_sales'], aggfunc='sum').reset_index()\n",
    "                .sort_values(by='eu_sales', ascending=False).head())\n",
    "display(top_eu_sales)\n",
    "\n",
    "top_jp_sales = (segment_games.pivot_table(index='platform', values=['jp_sales', 'sum_sales'], aggfunc='sum').reset_index()\n",
    "                .sort_values(by='jp_sales', ascending=False).head())\n",
    "display(top_jp_sales)\n",
    "\n",
    "fig1, ax1 = plt.subplots()\n",
    "ax1.pie(top_na_sales.na_sales, labels=top_na_sales.platform, autopct='%1.1f%%')\n",
    "plt.title('Распределение популярных платформ в Северной Америке')\n",
    "plt.show()\n",
    "\n",
    "fig1, ax1 = plt.subplots()\n",
    "ax1.pie(top_eu_sales.eu_sales, labels=top_eu_sales.platform, autopct='%1.1f%%')\n",
    "plt.title('Распределение популярных платформ в Европе')\n",
    "plt.show()\n",
    "\n",
    "fig1, ax1 = plt.subplots()\n",
    "ax1.pie(top_jp_sales.jp_sales, labels=top_jp_sales.platform, autopct='%1.1f%%')\n",
    "plt.title('Распределение популярных платформ в Японии')\n",
    "plt.show()"
   ]
  },
  {
   "cell_type": "markdown",
   "id": "c439da57",
   "metadata": {},
   "source": [
    "Видно, что в регионах популярностью пользуются разные платформы: в Северной Америке и Европе - PS4, в Японии - 3DS. "
   ]
  },
  {
   "cell_type": "code",
   "execution_count": 33,
   "id": "9f3e24d8",
   "metadata": {
    "scrolled": false
   },
   "outputs": [
    {
     "name": "stdout",
     "output_type": "stream",
     "text": [
      "Доля продаж в Северной Америке: 0.41202644019937157\n",
      "Доля продаж в Европе: 0.35721008834791607\n",
      "Доля продаж в Японии: 0.1854733583183969\n"
     ]
    }
   ],
   "source": [
    "#Доля продаж\n",
    "ratio_of_sales_na = top_na_sales['na_sales'].sum() / top_na_sales['sum_sales'].sum()\n",
    "print('Доля продаж в Северной Америке:', ratio_of_sales_na)\n",
    "\n",
    "ratio_of_sales_eu = top_eu_sales['eu_sales'].sum() / top_eu_sales['sum_sales'].sum()\n",
    "print('Доля продаж в Европе:', ratio_of_sales_eu)\n",
    "\n",
    "ratio_of_sales_jp = top_jp_sales['jp_sales'].sum() / top_jp_sales['sum_sales'].sum()\n",
    "print('Доля продаж в Японии:', ratio_of_sales_jp)"
   ]
  },
  {
   "cell_type": "markdown",
   "id": "caace243",
   "metadata": {},
   "source": [
    "Видно, что в Северной Америке осуществляется почти половина продаж. Это ожидаемо, т.к. большинство геймеров на разных соревнованиях представляют Америку."
   ]
  },
  {
   "cell_type": "code",
   "execution_count": 34,
   "id": "6649583d",
   "metadata": {
    "scrolled": false
   },
   "outputs": [
    {
     "data": {
      "text/html": [
       "<div>\n",
       "<style scoped>\n",
       "    .dataframe tbody tr th:only-of-type {\n",
       "        vertical-align: middle;\n",
       "    }\n",
       "\n",
       "    .dataframe tbody tr th {\n",
       "        vertical-align: top;\n",
       "    }\n",
       "\n",
       "    .dataframe thead th {\n",
       "        text-align: right;\n",
       "    }\n",
       "</style>\n",
       "<table border=\"1\" class=\"dataframe\">\n",
       "  <thead>\n",
       "    <tr style=\"text-align: right;\">\n",
       "      <th></th>\n",
       "      <th>genre</th>\n",
       "      <th>na_sales</th>\n",
       "    </tr>\n",
       "  </thead>\n",
       "  <tbody>\n",
       "    <tr>\n",
       "      <th>0</th>\n",
       "      <td>Action</td>\n",
       "      <td>126.05</td>\n",
       "    </tr>\n",
       "    <tr>\n",
       "      <th>8</th>\n",
       "      <td>Shooter</td>\n",
       "      <td>109.74</td>\n",
       "    </tr>\n",
       "    <tr>\n",
       "      <th>10</th>\n",
       "      <td>Sports</td>\n",
       "      <td>65.27</td>\n",
       "    </tr>\n",
       "    <tr>\n",
       "      <th>7</th>\n",
       "      <td>Role-Playing</td>\n",
       "      <td>46.40</td>\n",
       "    </tr>\n",
       "    <tr>\n",
       "      <th>3</th>\n",
       "      <td>Misc</td>\n",
       "      <td>27.49</td>\n",
       "    </tr>\n",
       "  </tbody>\n",
       "</table>\n",
       "</div>"
      ],
      "text/plain": [
       "           genre  na_sales\n",
       "0         Action    126.05\n",
       "8        Shooter    109.74\n",
       "10        Sports     65.27\n",
       "7   Role-Playing     46.40\n",
       "3           Misc     27.49"
      ]
     },
     "metadata": {},
     "output_type": "display_data"
    },
    {
     "data": {
      "text/html": [
       "<div>\n",
       "<style scoped>\n",
       "    .dataframe tbody tr th:only-of-type {\n",
       "        vertical-align: middle;\n",
       "    }\n",
       "\n",
       "    .dataframe tbody tr th {\n",
       "        vertical-align: top;\n",
       "    }\n",
       "\n",
       "    .dataframe thead th {\n",
       "        text-align: right;\n",
       "    }\n",
       "</style>\n",
       "<table border=\"1\" class=\"dataframe\">\n",
       "  <thead>\n",
       "    <tr style=\"text-align: right;\">\n",
       "      <th></th>\n",
       "      <th>genre</th>\n",
       "      <th>eu_sales</th>\n",
       "    </tr>\n",
       "  </thead>\n",
       "  <tbody>\n",
       "    <tr>\n",
       "      <th>0</th>\n",
       "      <td>Action</td>\n",
       "      <td>118.13</td>\n",
       "    </tr>\n",
       "    <tr>\n",
       "      <th>8</th>\n",
       "      <td>Shooter</td>\n",
       "      <td>87.86</td>\n",
       "    </tr>\n",
       "    <tr>\n",
       "      <th>10</th>\n",
       "      <td>Sports</td>\n",
       "      <td>60.52</td>\n",
       "    </tr>\n",
       "    <tr>\n",
       "      <th>7</th>\n",
       "      <td>Role-Playing</td>\n",
       "      <td>36.97</td>\n",
       "    </tr>\n",
       "    <tr>\n",
       "      <th>6</th>\n",
       "      <td>Racing</td>\n",
       "      <td>20.19</td>\n",
       "    </tr>\n",
       "  </tbody>\n",
       "</table>\n",
       "</div>"
      ],
      "text/plain": [
       "           genre  eu_sales\n",
       "0         Action    118.13\n",
       "8        Shooter     87.86\n",
       "10        Sports     60.52\n",
       "7   Role-Playing     36.97\n",
       "6         Racing     20.19"
      ]
     },
     "metadata": {},
     "output_type": "display_data"
    },
    {
     "data": {
      "text/html": [
       "<div>\n",
       "<style scoped>\n",
       "    .dataframe tbody tr th:only-of-type {\n",
       "        vertical-align: middle;\n",
       "    }\n",
       "\n",
       "    .dataframe tbody tr th {\n",
       "        vertical-align: top;\n",
       "    }\n",
       "\n",
       "    .dataframe thead th {\n",
       "        text-align: right;\n",
       "    }\n",
       "</style>\n",
       "<table border=\"1\" class=\"dataframe\">\n",
       "  <thead>\n",
       "    <tr style=\"text-align: right;\">\n",
       "      <th></th>\n",
       "      <th>genre</th>\n",
       "      <th>jp_sales</th>\n",
       "    </tr>\n",
       "  </thead>\n",
       "  <tbody>\n",
       "    <tr>\n",
       "      <th>7</th>\n",
       "      <td>Role-Playing</td>\n",
       "      <td>51.04</td>\n",
       "    </tr>\n",
       "    <tr>\n",
       "      <th>0</th>\n",
       "      <td>Action</td>\n",
       "      <td>40.49</td>\n",
       "    </tr>\n",
       "    <tr>\n",
       "      <th>3</th>\n",
       "      <td>Misc</td>\n",
       "      <td>9.20</td>\n",
       "    </tr>\n",
       "    <tr>\n",
       "      <th>2</th>\n",
       "      <td>Fighting</td>\n",
       "      <td>7.65</td>\n",
       "    </tr>\n",
       "    <tr>\n",
       "      <th>8</th>\n",
       "      <td>Shooter</td>\n",
       "      <td>6.61</td>\n",
       "    </tr>\n",
       "  </tbody>\n",
       "</table>\n",
       "</div>"
      ],
      "text/plain": [
       "          genre  jp_sales\n",
       "7  Role-Playing     51.04\n",
       "0        Action     40.49\n",
       "3          Misc      9.20\n",
       "2      Fighting      7.65\n",
       "8       Shooter      6.61"
      ]
     },
     "metadata": {},
     "output_type": "display_data"
    },
    {
     "data": {
      "image/png": "[encoded data removed]",
      "text/plain": [
       "<Figure size 432x288 with 1 Axes>"
      ]
     },
     "metadata": {},
     "output_type": "display_data"
    },
    {
     "data": {
      "image/png": "[encoded data removed]",
      "text/plain": [
       "<Figure size 432x288 with 1 Axes>"
      ]
     },
     "metadata": {},
     "output_type": "display_data"
    },
    {
     "data": {
      "image/png": "[encoded data removed]",
      "text/plain": [
       "<Figure size 432x288 with 1 Axes>"
      ]
     },
     "metadata": {},
     "output_type": "display_data"
    }
   ],
   "source": [
    "#Самые популярные жанры (топ-5) для пользоватлеля каждого региона\n",
    "top_na_genre = (segment_games.pivot_table(index='genre', values=['na_sales'], aggfunc='sum').reset_index()\n",
    "              .sort_values(by='na_sales', ascending=False).head())\n",
    "display(top_na_genre)\n",
    "\n",
    "top_eu_genre = (segment_games.pivot_table(index='genre', values=['eu_sales'], aggfunc='sum').reset_index()\n",
    "              .sort_values(by='eu_sales', ascending=False).head())\n",
    "display(top_eu_genre)\n",
    "\n",
    "top_jp_genre = (segment_games.pivot_table(index='genre', values=['jp_sales'], aggfunc='sum').reset_index()\n",
    "              .sort_values(by='jp_sales', ascending=False).head())\n",
    "display(top_jp_genre)\n",
    "\n",
    "fig1, ax1 = plt.subplots()\n",
    "ax1.pie(top_na_genre.na_sales, labels=top_na_genre.genre, autopct='%1.1f%%')\n",
    "plt.title('Распределение популярных платформ в Северной Америке')\n",
    "plt.show()\n",
    "\n",
    "fig1, ax1 = plt.subplots()\n",
    "ax1.pie(top_eu_genre.eu_sales, labels=top_eu_genre.genre, autopct='%1.1f%%')\n",
    "plt.title('Распределение популярных платформ в Европе')\n",
    "plt.show()\n",
    "\n",
    "fig1, ax1 = plt.subplots()\n",
    "ax1.pie(top_jp_genre.jp_sales, labels=top_jp_genre.genre, autopct='%1.1f%%')\n",
    "plt.title('Распределение популярных платформ в Японии')\n",
    "plt.show()   "
   ]
  },
  {
   "cell_type": "markdown",
   "id": "85f44ee4",
   "metadata": {},
   "source": [
    "У пользователей из Северной Америке и Европы выбор по жанрам практически одинаков. Популярностью в этих регионах пользуется Action.\n",
    "\n",
    "На первом месте в Японии стоит Role-Playing, хотя Action занимает вторую строчку. "
   ]
  },
  {
   "cell_type": "code",
   "execution_count": 42,
   "id": "a752206b",
   "metadata": {},
   "outputs": [
    {
     "name": "stdout",
     "output_type": "stream",
     "text": [
      "na_sales\n"
     ]
    },
    {
     "data": {
      "text/plain": [
       "platform\n",
       "PS4     108.74\n",
       "XOne     93.12\n",
       "X360     81.66\n",
       "PS3      63.50\n",
       "3DS      38.20\n",
       "Name: na_sales, dtype: float64"
      ]
     },
     "metadata": {},
     "output_type": "display_data"
    },
    {
     "data": {
      "image/png": "[encoded data removed]",
      "text/plain": [
       "<Figure size 432x288 with 1 Axes>"
      ]
     },
     "metadata": {},
     "output_type": "display_data"
    },
    {
     "name": "stdout",
     "output_type": "stream",
     "text": [
      "eu_sales\n"
     ]
    },
    {
     "data": {
      "text/plain": [
       "platform\n",
       "PS4     141.09\n",
       "PS3      67.81\n",
       "XOne     51.59\n",
       "X360     42.52\n",
       "3DS      30.96\n",
       "Name: eu_sales, dtype: float64"
      ]
     },
     "metadata": {},
     "output_type": "display_data"
    },
    {
     "data": {
      "image/png": "[encoded data removed]",
      "text/plain": [
       "<Figure size 432x288 with 1 Axes>"
      ]
     },
     "metadata": {},
     "output_type": "display_data"
    },
    {
     "name": "stdout",
     "output_type": "stream",
     "text": [
      "jp_sales\n"
     ]
    },
    {
     "data": {
      "text/plain": [
       "platform\n",
       "3DS     67.81\n",
       "PS3     23.35\n",
       "PSV     18.59\n",
       "PS4     15.96\n",
       "WiiU    10.88\n",
       "Name: jp_sales, dtype: float64"
      ]
     },
     "metadata": {},
     "output_type": "display_data"
    },
    {
     "data": {
      "image/png": "[encoded data removed]",
      "text/plain": [
       "<Figure size 432x288 with 1 Axes>"
      ]
     },
     "metadata": {},
     "output_type": "display_data"
    }
   ],
   "source": [
    "#Код ревьюера\n",
    "regions_list = ['na_sales', 'eu_sales', 'jp_sales']\n",
    "\n",
    "for value in regions_list:\n",
    "  print(value)\n",
    "  display(segment_games.groupby('platform')[value].sum()\\\n",
    "      .sort_values(ascending = False).head(5))\n",
    "  segment_games.groupby('platform')[value].sum()\\\n",
    "      .sort_values(ascending = False).head(5).plot(kind = 'pie', autopct = '%.1f%%')\n",
    "  plt.show()"
   ]
  },
  {
   "cell_type": "markdown",
   "id": "f39a7a1c",
   "metadata": {},
   "source": [
    "**Влияет ли рейтинг ESRB на продажи в отдельном регионе?**"
   ]
  },
  {
   "cell_type": "code",
   "execution_count": 35,
   "id": "63b25484",
   "metadata": {
    "scrolled": false
   },
   "outputs": [
    {
     "data": {
      "text/plain": [
       "no_rating    977\n",
       "M            369\n",
       "T            333\n",
       "E            302\n",
       "E10+         252\n",
       "Name: rating, dtype: int64"
      ]
     },
     "execution_count": 35,
     "metadata": {},
     "output_type": "execute_result"
    }
   ],
   "source": [
    "segment_games.rating.value_counts()"
   ]
  },
  {
   "cell_type": "code",
   "execution_count": 36,
   "id": "e3458ebe",
   "metadata": {
    "scrolled": true
   },
   "outputs": [
    {
     "data": {
      "text/html": [
       "<div>\n",
       "<style scoped>\n",
       "    .dataframe tbody tr th:only-of-type {\n",
       "        vertical-align: middle;\n",
       "    }\n",
       "\n",
       "    .dataframe tbody tr th {\n",
       "        vertical-align: top;\n",
       "    }\n",
       "\n",
       "    .dataframe thead th {\n",
       "        text-align: right;\n",
       "    }\n",
       "</style>\n",
       "<table border=\"1\" class=\"dataframe\">\n",
       "  <thead>\n",
       "    <tr style=\"text-align: right;\">\n",
       "      <th></th>\n",
       "      <th>name</th>\n",
       "      <th>platform</th>\n",
       "      <th>year_of_release</th>\n",
       "      <th>genre</th>\n",
       "      <th>na_sales</th>\n",
       "      <th>eu_sales</th>\n",
       "      <th>jp_sales</th>\n",
       "      <th>other_sales</th>\n",
       "      <th>critic_score</th>\n",
       "      <th>user_score</th>\n",
       "      <th>rating</th>\n",
       "      <th>sum_sales</th>\n",
       "    </tr>\n",
       "  </thead>\n",
       "  <tbody>\n",
       "    <tr>\n",
       "      <th>0</th>\n",
       "      <td>Grand Theft Auto V</td>\n",
       "      <td>PS3</td>\n",
       "      <td>2013</td>\n",
       "      <td>Action</td>\n",
       "      <td>7.02</td>\n",
       "      <td>9.09</td>\n",
       "      <td>0.98</td>\n",
       "      <td>3.96</td>\n",
       "      <td>97.0</td>\n",
       "      <td>8.2</td>\n",
       "      <td>M</td>\n",
       "      <td>21.05</td>\n",
       "    </tr>\n",
       "    <tr>\n",
       "      <th>1</th>\n",
       "      <td>Grand Theft Auto V</td>\n",
       "      <td>X360</td>\n",
       "      <td>2013</td>\n",
       "      <td>Action</td>\n",
       "      <td>9.66</td>\n",
       "      <td>5.14</td>\n",
       "      <td>0.06</td>\n",
       "      <td>1.41</td>\n",
       "      <td>97.0</td>\n",
       "      <td>8.1</td>\n",
       "      <td>M</td>\n",
       "      <td>16.27</td>\n",
       "    </tr>\n",
       "    <tr>\n",
       "      <th>2</th>\n",
       "      <td>Call of Duty: Black Ops 3</td>\n",
       "      <td>PS4</td>\n",
       "      <td>2015</td>\n",
       "      <td>Shooter</td>\n",
       "      <td>6.03</td>\n",
       "      <td>5.86</td>\n",
       "      <td>0.36</td>\n",
       "      <td>2.38</td>\n",
       "      <td>-1.0</td>\n",
       "      <td>-1.0</td>\n",
       "      <td>no_rating</td>\n",
       "      <td>14.63</td>\n",
       "    </tr>\n",
       "    <tr>\n",
       "      <th>3</th>\n",
       "      <td>Pokemon X/Pokemon Y</td>\n",
       "      <td>3DS</td>\n",
       "      <td>2013</td>\n",
       "      <td>Role-Playing</td>\n",
       "      <td>5.28</td>\n",
       "      <td>4.19</td>\n",
       "      <td>4.35</td>\n",
       "      <td>0.78</td>\n",
       "      <td>-1.0</td>\n",
       "      <td>-1.0</td>\n",
       "      <td>no_rating</td>\n",
       "      <td>14.60</td>\n",
       "    </tr>\n",
       "    <tr>\n",
       "      <th>4</th>\n",
       "      <td>Grand Theft Auto V</td>\n",
       "      <td>PS4</td>\n",
       "      <td>2014</td>\n",
       "      <td>Action</td>\n",
       "      <td>3.96</td>\n",
       "      <td>6.31</td>\n",
       "      <td>0.38</td>\n",
       "      <td>1.97</td>\n",
       "      <td>97.0</td>\n",
       "      <td>8.3</td>\n",
       "      <td>M</td>\n",
       "      <td>12.62</td>\n",
       "    </tr>\n",
       "  </tbody>\n",
       "</table>\n",
       "</div>"
      ],
      "text/plain": [
       "                        name platform  year_of_release         genre  \\\n",
       "0         Grand Theft Auto V      PS3             2013        Action   \n",
       "1         Grand Theft Auto V     X360             2013        Action   \n",
       "2  Call of Duty: Black Ops 3      PS4             2015       Shooter   \n",
       "3        Pokemon X/Pokemon Y      3DS             2013  Role-Playing   \n",
       "4         Grand Theft Auto V      PS4             2014        Action   \n",
       "\n",
       "   na_sales  eu_sales  jp_sales  other_sales  critic_score  user_score  \\\n",
       "0      7.02      9.09      0.98         3.96          97.0         8.2   \n",
       "1      9.66      5.14      0.06         1.41          97.0         8.1   \n",
       "2      6.03      5.86      0.36         2.38          -1.0        -1.0   \n",
       "3      5.28      4.19      4.35         0.78          -1.0        -1.0   \n",
       "4      3.96      6.31      0.38         1.97          97.0         8.3   \n",
       "\n",
       "      rating  sum_sales  \n",
       "0          M      21.05  \n",
       "1          M      16.27  \n",
       "2  no_rating      14.63  \n",
       "3  no_rating      14.60  \n",
       "4          M      12.62  "
      ]
     },
     "execution_count": 36,
     "metadata": {},
     "output_type": "execute_result"
    }
   ],
   "source": [
    "segment_games.head()"
   ]
  },
  {
   "cell_type": "code",
   "execution_count": 37,
   "id": "92396781",
   "metadata": {
    "scrolled": false
   },
   "outputs": [
    {
     "data": {
      "text/html": [
       "<div>\n",
       "<style scoped>\n",
       "    .dataframe tbody tr th:only-of-type {\n",
       "        vertical-align: middle;\n",
       "    }\n",
       "\n",
       "    .dataframe tbody tr th {\n",
       "        vertical-align: top;\n",
       "    }\n",
       "\n",
       "    .dataframe thead th {\n",
       "        text-align: right;\n",
       "    }\n",
       "</style>\n",
       "<table border=\"1\" class=\"dataframe\">\n",
       "  <thead>\n",
       "    <tr style=\"text-align: right;\">\n",
       "      <th></th>\n",
       "      <th>rating</th>\n",
       "      <th>na_sales</th>\n",
       "    </tr>\n",
       "  </thead>\n",
       "  <tbody>\n",
       "    <tr>\n",
       "      <th>2</th>\n",
       "      <td>M</td>\n",
       "      <td>165.21</td>\n",
       "    </tr>\n",
       "    <tr>\n",
       "      <th>4</th>\n",
       "      <td>no_rating</td>\n",
       "      <td>89.42</td>\n",
       "    </tr>\n",
       "    <tr>\n",
       "      <th>0</th>\n",
       "      <td>E</td>\n",
       "      <td>79.05</td>\n",
       "    </tr>\n",
       "    <tr>\n",
       "      <th>1</th>\n",
       "      <td>E10+</td>\n",
       "      <td>54.24</td>\n",
       "    </tr>\n",
       "    <tr>\n",
       "      <th>3</th>\n",
       "      <td>T</td>\n",
       "      <td>49.79</td>\n",
       "    </tr>\n",
       "  </tbody>\n",
       "</table>\n",
       "</div>"
      ],
      "text/plain": [
       "      rating  na_sales\n",
       "2          M    165.21\n",
       "4  no_rating     89.42\n",
       "0          E     79.05\n",
       "1       E10+     54.24\n",
       "3          T     49.79"
      ]
     },
     "metadata": {},
     "output_type": "display_data"
    },
    {
     "data": {
      "text/html": [
       "<div>\n",
       "<style scoped>\n",
       "    .dataframe tbody tr th:only-of-type {\n",
       "        vertical-align: middle;\n",
       "    }\n",
       "\n",
       "    .dataframe tbody tr th {\n",
       "        vertical-align: top;\n",
       "    }\n",
       "\n",
       "    .dataframe thead th {\n",
       "        text-align: right;\n",
       "    }\n",
       "</style>\n",
       "<table border=\"1\" class=\"dataframe\">\n",
       "  <thead>\n",
       "    <tr style=\"text-align: right;\">\n",
       "      <th></th>\n",
       "      <th>rating</th>\n",
       "      <th>eu_sales</th>\n",
       "    </tr>\n",
       "  </thead>\n",
       "  <tbody>\n",
       "    <tr>\n",
       "      <th>2</th>\n",
       "      <td>M</td>\n",
       "      <td>145.32</td>\n",
       "    </tr>\n",
       "    <tr>\n",
       "      <th>0</th>\n",
       "      <td>E</td>\n",
       "      <td>83.36</td>\n",
       "    </tr>\n",
       "    <tr>\n",
       "      <th>4</th>\n",
       "      <td>no_rating</td>\n",
       "      <td>78.91</td>\n",
       "    </tr>\n",
       "    <tr>\n",
       "      <th>1</th>\n",
       "      <td>E10+</td>\n",
       "      <td>42.69</td>\n",
       "    </tr>\n",
       "    <tr>\n",
       "      <th>3</th>\n",
       "      <td>T</td>\n",
       "      <td>41.95</td>\n",
       "    </tr>\n",
       "  </tbody>\n",
       "</table>\n",
       "</div>"
      ],
      "text/plain": [
       "      rating  eu_sales\n",
       "2          M    145.32\n",
       "0          E     83.36\n",
       "4  no_rating     78.91\n",
       "1       E10+     42.69\n",
       "3          T     41.95"
      ]
     },
     "metadata": {},
     "output_type": "display_data"
    },
    {
     "data": {
      "text/html": [
       "<div>\n",
       "<style scoped>\n",
       "    .dataframe tbody tr th:only-of-type {\n",
       "        vertical-align: middle;\n",
       "    }\n",
       "\n",
       "    .dataframe tbody tr th {\n",
       "        vertical-align: top;\n",
       "    }\n",
       "\n",
       "    .dataframe thead th {\n",
       "        text-align: right;\n",
       "    }\n",
       "</style>\n",
       "<table border=\"1\" class=\"dataframe\">\n",
       "  <thead>\n",
       "    <tr style=\"text-align: right;\">\n",
       "      <th></th>\n",
       "      <th>rating</th>\n",
       "      <th>jp_sales</th>\n",
       "    </tr>\n",
       "  </thead>\n",
       "  <tbody>\n",
       "    <tr>\n",
       "      <th>4</th>\n",
       "      <td>no_rating</td>\n",
       "      <td>85.05</td>\n",
       "    </tr>\n",
       "    <tr>\n",
       "      <th>3</th>\n",
       "      <td>T</td>\n",
       "      <td>20.59</td>\n",
       "    </tr>\n",
       "    <tr>\n",
       "      <th>0</th>\n",
       "      <td>E</td>\n",
       "      <td>15.14</td>\n",
       "    </tr>\n",
       "    <tr>\n",
       "      <th>2</th>\n",
       "      <td>M</td>\n",
       "      <td>14.11</td>\n",
       "    </tr>\n",
       "    <tr>\n",
       "      <th>1</th>\n",
       "      <td>E10+</td>\n",
       "      <td>5.89</td>\n",
       "    </tr>\n",
       "  </tbody>\n",
       "</table>\n",
       "</div>"
      ],
      "text/plain": [
       "      rating  jp_sales\n",
       "4  no_rating     85.05\n",
       "3          T     20.59\n",
       "0          E     15.14\n",
       "2          M     14.11\n",
       "1       E10+      5.89"
      ]
     },
     "metadata": {},
     "output_type": "display_data"
    }
   ],
   "source": [
    "#в Северной Америке\n",
    "na_rating = (segment_games.pivot_table(index='rating', values=['na_sales'], aggfunc='sum').reset_index()\n",
    "              .sort_values(by='na_sales', ascending=False).head())\n",
    "display(na_rating)\n",
    "\n",
    "#в Европе\n",
    "eu_rating = (segment_games.pivot_table(index='rating', values=['eu_sales'], aggfunc='sum').reset_index()\n",
    "              .sort_values(by='eu_sales', ascending=False).head())\n",
    "display(eu_rating)\n",
    "        \n",
    "#в Японии\n",
    "jp_rating = (segment_games.pivot_table(index='rating', values=['jp_sales'], aggfunc='sum').reset_index()\n",
    "              .sort_values(by='jp_sales', ascending=False).head())\n",
    "display(jp_rating)"
   ]
  },
  {
   "cell_type": "markdown",
   "id": "8ba8a82e",
   "metadata": {},
   "source": [
    "Видно, что продажи игр для взрослых в Северной Америке и Европе преобладают. В Японии наоборот, они занимают 4ое место.\n",
    "\n",
    "Следует отметить, что игры без рейтинга занимают значительную долю в регионах.\n",
    "\n",
    "В Японии на первом месте по продажам - \"игры без рейтинга\".  "
   ]
  },
  {
   "cell_type": "markdown",
   "id": "f9f7516c",
   "metadata": {},
   "source": [
    "### Вывод\n",
    "- рассмотрел топ-5 платформ. Нашел долю в продажах\n",
    "- рассмотрел топ-5 жанров. Вкус пользователей из Японии отличается\n",
    "- рассмотрел влияние рейтинга ESRB на продажи"
   ]
  },
  {
   "cell_type": "markdown",
   "id": "9fa89890",
   "metadata": {},
   "source": [
    "## Проверка гипотез"
   ]
  },
  {
   "cell_type": "markdown",
   "id": "fce0db62",
   "metadata": {},
   "source": [
    "### Гипотеза: \"Средние пользовательские рейтинги платформ Xbox One и PC одинаковые\""
   ]
  },
  {
   "cell_type": "markdown",
   "id": "fecac820",
   "metadata": {},
   "source": [
    "Нулевая гипотеза: \"Средние пользовательские рейтинги платформ Xbox One и PC равны\"\n",
    "\n",
    "Альтернативная гипотеза: \"Средние пользовательские рейтинги платформ Xbox One и PC не равны\""
   ]
  },
  {
   "cell_type": "code",
   "execution_count": 38,
   "id": "c7d9f1d8",
   "metadata": {},
   "outputs": [
    {
     "data": {
      "text/html": [
       "<div>\n",
       "<style scoped>\n",
       "    .dataframe tbody tr th:only-of-type {\n",
       "        vertical-align: middle;\n",
       "    }\n",
       "\n",
       "    .dataframe tbody tr th {\n",
       "        vertical-align: top;\n",
       "    }\n",
       "\n",
       "    .dataframe thead th {\n",
       "        text-align: right;\n",
       "    }\n",
       "</style>\n",
       "<table border=\"1\" class=\"dataframe\">\n",
       "  <thead>\n",
       "    <tr style=\"text-align: right;\">\n",
       "      <th></th>\n",
       "      <th>name</th>\n",
       "      <th>platform</th>\n",
       "      <th>year_of_release</th>\n",
       "      <th>genre</th>\n",
       "      <th>na_sales</th>\n",
       "      <th>eu_sales</th>\n",
       "      <th>jp_sales</th>\n",
       "      <th>other_sales</th>\n",
       "      <th>critic_score</th>\n",
       "      <th>user_score</th>\n",
       "      <th>rating</th>\n",
       "      <th>sum_sales</th>\n",
       "    </tr>\n",
       "  </thead>\n",
       "  <tbody>\n",
       "    <tr>\n",
       "      <th>0</th>\n",
       "      <td>Grand Theft Auto V</td>\n",
       "      <td>PS3</td>\n",
       "      <td>2013</td>\n",
       "      <td>Action</td>\n",
       "      <td>7.02</td>\n",
       "      <td>9.09</td>\n",
       "      <td>0.98</td>\n",
       "      <td>3.96</td>\n",
       "      <td>97.0</td>\n",
       "      <td>8.2</td>\n",
       "      <td>M</td>\n",
       "      <td>21.05</td>\n",
       "    </tr>\n",
       "    <tr>\n",
       "      <th>1</th>\n",
       "      <td>Grand Theft Auto V</td>\n",
       "      <td>X360</td>\n",
       "      <td>2013</td>\n",
       "      <td>Action</td>\n",
       "      <td>9.66</td>\n",
       "      <td>5.14</td>\n",
       "      <td>0.06</td>\n",
       "      <td>1.41</td>\n",
       "      <td>97.0</td>\n",
       "      <td>8.1</td>\n",
       "      <td>M</td>\n",
       "      <td>16.27</td>\n",
       "    </tr>\n",
       "    <tr>\n",
       "      <th>2</th>\n",
       "      <td>Call of Duty: Black Ops 3</td>\n",
       "      <td>PS4</td>\n",
       "      <td>2015</td>\n",
       "      <td>Shooter</td>\n",
       "      <td>6.03</td>\n",
       "      <td>5.86</td>\n",
       "      <td>0.36</td>\n",
       "      <td>2.38</td>\n",
       "      <td>-1.0</td>\n",
       "      <td>-1.0</td>\n",
       "      <td>no_rating</td>\n",
       "      <td>14.63</td>\n",
       "    </tr>\n",
       "    <tr>\n",
       "      <th>3</th>\n",
       "      <td>Pokemon X/Pokemon Y</td>\n",
       "      <td>3DS</td>\n",
       "      <td>2013</td>\n",
       "      <td>Role-Playing</td>\n",
       "      <td>5.28</td>\n",
       "      <td>4.19</td>\n",
       "      <td>4.35</td>\n",
       "      <td>0.78</td>\n",
       "      <td>-1.0</td>\n",
       "      <td>-1.0</td>\n",
       "      <td>no_rating</td>\n",
       "      <td>14.60</td>\n",
       "    </tr>\n",
       "    <tr>\n",
       "      <th>4</th>\n",
       "      <td>Grand Theft Auto V</td>\n",
       "      <td>PS4</td>\n",
       "      <td>2014</td>\n",
       "      <td>Action</td>\n",
       "      <td>3.96</td>\n",
       "      <td>6.31</td>\n",
       "      <td>0.38</td>\n",
       "      <td>1.97</td>\n",
       "      <td>97.0</td>\n",
       "      <td>8.3</td>\n",
       "      <td>M</td>\n",
       "      <td>12.62</td>\n",
       "    </tr>\n",
       "  </tbody>\n",
       "</table>\n",
       "</div>"
      ],
      "text/plain": [
       "                        name platform  year_of_release         genre  \\\n",
       "0         Grand Theft Auto V      PS3             2013        Action   \n",
       "1         Grand Theft Auto V     X360             2013        Action   \n",
       "2  Call of Duty: Black Ops 3      PS4             2015       Shooter   \n",
       "3        Pokemon X/Pokemon Y      3DS             2013  Role-Playing   \n",
       "4         Grand Theft Auto V      PS4             2014        Action   \n",
       "\n",
       "   na_sales  eu_sales  jp_sales  other_sales  critic_score  user_score  \\\n",
       "0      7.02      9.09      0.98         3.96          97.0         8.2   \n",
       "1      9.66      5.14      0.06         1.41          97.0         8.1   \n",
       "2      6.03      5.86      0.36         2.38          -1.0        -1.0   \n",
       "3      5.28      4.19      4.35         0.78          -1.0        -1.0   \n",
       "4      3.96      6.31      0.38         1.97          97.0         8.3   \n",
       "\n",
       "      rating  sum_sales  \n",
       "0          M      21.05  \n",
       "1          M      16.27  \n",
       "2  no_rating      14.63  \n",
       "3  no_rating      14.60  \n",
       "4          M      12.62  "
      ]
     },
     "execution_count": 38,
     "metadata": {},
     "output_type": "execute_result"
    }
   ],
   "source": [
    "segment_games.head()"
   ]
  },
  {
   "cell_type": "code",
   "execution_count": 39,
   "id": "b2edece2",
   "metadata": {
    "scrolled": true
   },
   "outputs": [
    {
     "name": "stdout",
     "output_type": "stream",
     "text": [
      "p-значение равно 0.14012658403611647\n",
      "Не получилось отвергнуть нулевую гипотезу\n"
     ]
    }
   ],
   "source": [
    "#Проверка гипотезы о равенстве 2-х генеральных совокупностей \n",
    "platform_xone = segment_games.query('platform == \"XOne\" and user_score > 0')\n",
    "platform_pc = segment_games.query('platform == \"PC\" and user_score > 0')\n",
    "alpha = .01\n",
    "# platform_pc.info()\n",
    "# platform_xone.info()\n",
    "\n",
    "#Выборки у платформ разные, поэтому возьму equal_var=False\n",
    "results = st.ttest_ind(platform_xone['user_score'], platform_pc['user_score'])#, equal_var=False)\n",
    "print('p-значение равно', results.pvalue)\n",
    "\n",
    "if results.pvalue < alpha:\n",
    "    print('Отвергаем нулевую гипотезу')\n",
    "else:\n",
    "    print('Не получилось отвергнуть нулевую гипотезу')"
   ]
  },
  {
   "cell_type": "markdown",
   "id": "4b0c6c72",
   "metadata": {},
   "source": [
    "По полученным данным можно сказать, что вероятность равенства средних оценок пользователей для плафторм XOne и PC велика."
   ]
  },
  {
   "cell_type": "markdown",
   "id": "827008ef",
   "metadata": {},
   "source": [
    "### Гипотеза: \"Средние пользовательские рейтинги жанров Action и Sports разные\""
   ]
  },
  {
   "cell_type": "markdown",
   "id": "b06fe5a4",
   "metadata": {},
   "source": [
    "Нулевая гипотеза: \"Средние пользовательские рейтинги жанров Action и Sports равны\"\n",
    "\n",
    "Альтернативная гипотеза: \"Средние пользовательские рейтинги жанров Action и Sports не равны\""
   ]
  },
  {
   "cell_type": "code",
   "execution_count": 40,
   "id": "65dbf044",
   "metadata": {
    "scrolled": true
   },
   "outputs": [
    {
     "name": "stdout",
     "output_type": "stream",
     "text": [
      "p-значение равно 1.4460039700704315e-20\n",
      "Отвергаем нулевую гипотезу\n"
     ]
    }
   ],
   "source": [
    "#Проверка гипотезы о равенстве 2-х генеральных совокупностей \n",
    "genre_action = segment_games.query('genre == \"Action\" and user_score > 0')\n",
    "genre_sports = segment_games.query('genre == \"Sports\" and user_score > 0')\n",
    "alpha = .01\n",
    "\n",
    "#genre_action.info()\n",
    "#genre_sports.info()\n",
    "\n",
    "#Выборки у жанров разные. Буду брать equal_var=False\n",
    "\n",
    "results2 = st.ttest_ind(genre_action['user_score'], genre_sports['user_score'], equal_var=False)\n",
    "print('p-значение равно', results2.pvalue)\n",
    "\n",
    "if results2.pvalue < alpha:\n",
    "    print('Отвергаем нулевую гипотезу')\n",
    "else:\n",
    "    print('Не получилось отвергнуть нулевую гипотезу')"
   ]
  },
  {
   "cell_type": "markdown",
   "id": "5190a36a",
   "metadata": {},
   "source": [
    "По результатам скажу, что гипотеза: \"Средние пользовательские рейтинги жанров Action (англ. «действие», экшен-игры) и Sports (англ. «спортивные соревнования») разные\" - подтвердилась. "
   ]
  },
  {
   "cell_type": "markdown",
   "id": "c53982ce",
   "metadata": {},
   "source": [
    "## Общий вывод"
   ]
  },
  {
   "cell_type": "markdown",
   "id": "14fd940a",
   "metadata": {},
   "source": [
    "- По приведенным данным выбрал актуальный период: 2010-2016 годы.\n",
    "\n",
    "- У лидеров продаж X360, Wii, PS3, DS наблюдается падение продаж к 2016 году.\n",
    "\n",
    "- Проанализировал 3 платформы: PS3, PS4, X360. Оценка пользователей и критиков явно не влияет на продажи. Но для PS4 зависимость продаж от оценки критиков заметна.\n",
    "\n",
    "- Большое количество выпускаемых игр соответствует таким жанрам, как Action, Misc, Sports, Role-Playing, Adventure, Shooter. Среди них выделяется жанр Action, почти в 3 раза опережающий по количеству игр последующий жанр.\n",
    "\n",
    "- Топ-5 самых прибыльных жанров: Shooter, Platform, Sports, Fighting, Racing, Role-Playing. Shooter (по-русски стрелялка) уверенно закрепился в лидерах по прибыли.\n",
    "\n",
    "- В регионах популярностью пользуются разные платформы: в Северной Америке и Европе - PS4, в Японии - 3DS. \n",
    "\n",
    "- По данным видно, что в Северной Америке осуществляется почти половина продаж.\n",
    "\n",
    "- У пользователей из Северной Америке и Европы выбор по жанрам практически одинаков. Популярностью в этих регионах пользуется Action. На первом месте в Японии стоит Role-Playing, хотя Action занимает вторую строчку. \n",
    "\n",
    "- Видно, что продажи игр для взрослых в Северной Америке и Европе преобладают. В Японии наоборот, они занимают 4ое место. \n",
    "Следует отметить, что игры без рейтинга занимают значительную долю в регионах. В Японии на первом месте по продажам - \"игры без рейтинга\". \n",
    "\n",
    "**В заключении скажу, для успеха игры необходимо: жанр - Action/Shooter, локация - Северная Америка.**"
   ]
  }
 ],
 "metadata": {
  "ExecuteTimeLog": [
   {
    "duration": 1088,
    "start_time": "2022-04-24T07:44:35.308Z"
   },
   {
    "duration": 39,
    "start_time": "2022-04-24T07:44:36.400Z"
   },
   {
    "duration": 18,
    "start_time": "2022-04-24T07:44:36.440Z"
   },
   {
    "duration": 12,
    "start_time": "2022-04-24T07:44:36.460Z"
   },
   {
    "duration": 13,
    "start_time": "2022-04-24T07:44:36.473Z"
   },
   {
    "duration": 22,
    "start_time": "2022-04-24T07:44:36.487Z"
   },
   {
    "duration": 26,
    "start_time": "2022-04-24T07:44:36.510Z"
   },
   {
    "duration": 7,
    "start_time": "2022-04-24T07:44:36.538Z"
   },
   {
    "duration": 6,
    "start_time": "2022-04-24T07:44:36.546Z"
   },
   {
    "duration": 17,
    "start_time": "2022-04-24T07:44:36.555Z"
   },
   {
    "duration": 13,
    "start_time": "2022-04-24T07:44:36.600Z"
   },
   {
    "duration": 6,
    "start_time": "2022-04-24T07:44:36.615Z"
   },
   {
    "duration": 14,
    "start_time": "2022-04-24T07:44:36.622Z"
   },
   {
    "duration": 150,
    "start_time": "2022-04-24T07:44:36.637Z"
   },
   {
    "duration": 19,
    "start_time": "2022-04-24T07:44:36.788Z"
   },
   {
    "duration": 4,
    "start_time": "2022-04-24T07:44:36.808Z"
   },
   {
    "duration": 215,
    "start_time": "2022-04-24T07:44:36.813Z"
   },
   {
    "duration": 26,
    "start_time": "2022-04-24T07:44:37.030Z"
   },
   {
    "duration": 301,
    "start_time": "2022-04-24T07:44:37.057Z"
   },
   {
    "duration": 14,
    "start_time": "2022-04-24T07:44:37.360Z"
   },
   {
    "duration": 25,
    "start_time": "2022-04-24T07:44:37.375Z"
   },
   {
    "duration": 263,
    "start_time": "2022-04-24T07:44:37.401Z"
   },
   {
    "duration": 132,
    "start_time": "2022-04-24T07:44:37.665Z"
   },
   {
    "duration": 126,
    "start_time": "2022-04-24T07:44:37.799Z"
   },
   {
    "duration": 12,
    "start_time": "2022-04-24T07:44:37.927Z"
   },
   {
    "duration": 13,
    "start_time": "2022-04-24T07:44:37.940Z"
   },
   {
    "duration": 11,
    "start_time": "2022-04-24T07:44:37.954Z"
   },
   {
    "duration": 61,
    "start_time": "2022-04-24T07:44:37.967Z"
   },
   {
    "duration": 5,
    "start_time": "2022-04-24T07:44:38.030Z"
   },
   {
    "duration": 34,
    "start_time": "2022-04-24T07:44:38.036Z"
   },
   {
    "duration": 6,
    "start_time": "2022-04-24T07:44:38.071Z"
   },
   {
    "duration": 30,
    "start_time": "2022-04-24T07:44:38.078Z"
   },
   {
    "duration": 24,
    "start_time": "2022-04-24T07:44:38.109Z"
   },
   {
    "duration": 10,
    "start_time": "2022-04-24T07:44:38.135Z"
   },
   {
    "duration": 12,
    "start_time": "2022-04-24T07:44:38.147Z"
   },
   {
    "duration": 10,
    "start_time": "2022-04-24T07:44:38.160Z"
   },
   {
    "duration": 108,
    "start_time": "2022-04-24T08:01:23.845Z"
   },
   {
    "duration": 1816,
    "start_time": "2022-04-26T06:36:18.453Z"
   },
   {
    "duration": 54,
    "start_time": "2022-04-26T06:36:20.271Z"
   },
   {
    "duration": 32,
    "start_time": "2022-04-26T06:36:20.328Z"
   },
   {
    "duration": 22,
    "start_time": "2022-04-26T06:36:20.364Z"
   },
   {
    "duration": 54,
    "start_time": "2022-04-26T06:36:20.389Z"
   },
   {
    "duration": 24,
    "start_time": "2022-04-26T06:36:20.447Z"
   },
   {
    "duration": 68,
    "start_time": "2022-04-26T06:36:20.473Z"
   },
   {
    "duration": 11,
    "start_time": "2022-04-26T06:36:20.544Z"
   },
   {
    "duration": 9,
    "start_time": "2022-04-26T06:36:20.557Z"
   },
   {
    "duration": 66,
    "start_time": "2022-04-26T06:36:20.570Z"
   },
   {
    "duration": 26,
    "start_time": "2022-04-26T06:36:20.640Z"
   },
   {
    "duration": 11,
    "start_time": "2022-04-26T06:36:20.668Z"
   },
   {
    "duration": 44,
    "start_time": "2022-04-26T06:36:20.682Z"
   },
   {
    "duration": 263,
    "start_time": "2022-04-26T06:36:20.728Z"
   },
   {
    "duration": 37,
    "start_time": "2022-04-26T06:36:20.994Z"
   },
   {
    "duration": 8,
    "start_time": "2022-04-26T06:36:21.034Z"
   },
   {
    "duration": 468,
    "start_time": "2022-04-26T06:36:21.045Z"
   },
   {
    "duration": 50,
    "start_time": "2022-04-26T06:36:21.516Z"
   },
   {
    "duration": 622,
    "start_time": "2022-04-26T06:36:21.568Z"
   },
   {
    "duration": 35,
    "start_time": "2022-04-26T06:36:22.193Z"
   },
   {
    "duration": 24,
    "start_time": "2022-04-26T06:36:22.232Z"
   },
   {
    "duration": 570,
    "start_time": "2022-04-26T06:36:22.258Z"
   },
   {
    "duration": 276,
    "start_time": "2022-04-26T06:36:22.831Z"
   },
   {
    "duration": 280,
    "start_time": "2022-04-26T06:36:23.109Z"
   },
   {
    "duration": 42,
    "start_time": "2022-04-26T06:36:23.391Z"
   },
   {
    "duration": 25,
    "start_time": "2022-04-26T06:36:23.435Z"
   },
   {
    "duration": 21,
    "start_time": "2022-04-26T06:36:23.463Z"
   },
   {
    "duration": 65,
    "start_time": "2022-04-26T06:36:23.525Z"
   },
   {
    "duration": 32,
    "start_time": "2022-04-26T06:36:23.592Z"
   },
   {
    "duration": 73,
    "start_time": "2022-04-26T06:36:23.627Z"
   },
   {
    "duration": 36,
    "start_time": "2022-04-26T06:36:23.702Z"
   },
   {
    "duration": 28,
    "start_time": "2022-04-26T06:36:23.741Z"
   },
   {
    "duration": 80,
    "start_time": "2022-04-26T06:36:23.772Z"
   },
   {
    "duration": 21,
    "start_time": "2022-04-26T06:36:23.854Z"
   },
   {
    "duration": 17,
    "start_time": "2022-04-26T06:36:23.878Z"
   },
   {
    "duration": 21,
    "start_time": "2022-04-26T06:36:23.932Z"
   },
   {
    "duration": 34,
    "start_time": "2022-04-26T06:38:42.465Z"
   },
   {
    "duration": 1460,
    "start_time": "2022-04-26T06:38:52.976Z"
   },
   {
    "duration": 49,
    "start_time": "2022-04-26T06:38:54.440Z"
   },
   {
    "duration": 52,
    "start_time": "2022-04-26T06:38:54.492Z"
   },
   {
    "duration": 21,
    "start_time": "2022-04-26T06:38:54.547Z"
   },
   {
    "duration": 26,
    "start_time": "2022-04-26T06:38:54.571Z"
   },
   {
    "duration": 35,
    "start_time": "2022-04-26T06:38:54.625Z"
   },
   {
    "duration": 61,
    "start_time": "2022-04-26T06:38:54.664Z"
   },
   {
    "duration": 40,
    "start_time": "2022-04-26T06:38:54.728Z"
   },
   {
    "duration": 11,
    "start_time": "2022-04-26T06:38:54.771Z"
   },
   {
    "duration": 49,
    "start_time": "2022-04-26T06:38:54.784Z"
   },
   {
    "duration": 38,
    "start_time": "2022-04-26T06:38:54.835Z"
   },
   {
    "duration": 23,
    "start_time": "2022-04-26T06:38:54.876Z"
   },
   {
    "duration": 27,
    "start_time": "2022-04-26T06:38:54.901Z"
   },
   {
    "duration": 22,
    "start_time": "2022-04-26T06:38:54.936Z"
   },
   {
    "duration": 303,
    "start_time": "2022-04-26T06:38:54.960Z"
   },
   {
    "duration": 23,
    "start_time": "2022-04-26T06:38:55.266Z"
   },
   {
    "duration": 6,
    "start_time": "2022-04-26T06:38:55.291Z"
   },
   {
    "duration": 461,
    "start_time": "2022-04-26T06:38:55.300Z"
   },
   {
    "duration": 41,
    "start_time": "2022-04-26T06:38:55.764Z"
   },
   {
    "duration": 589,
    "start_time": "2022-04-26T06:38:55.807Z"
   },
   {
    "duration": 48,
    "start_time": "2022-04-26T06:38:56.398Z"
   },
   {
    "duration": 23,
    "start_time": "2022-04-26T06:38:56.449Z"
   },
   {
    "duration": 568,
    "start_time": "2022-04-26T06:38:56.475Z"
   },
   {
    "duration": 254,
    "start_time": "2022-04-26T06:38:57.046Z"
   },
   {
    "duration": 269,
    "start_time": "2022-04-26T06:38:57.302Z"
   },
   {
    "duration": 23,
    "start_time": "2022-04-26T06:38:57.573Z"
   },
   {
    "duration": 52,
    "start_time": "2022-04-26T06:38:57.598Z"
   },
   {
    "duration": 22,
    "start_time": "2022-04-26T06:38:57.652Z"
   },
   {
    "duration": 92,
    "start_time": "2022-04-26T06:38:57.676Z"
   },
   {
    "duration": 9,
    "start_time": "2022-04-26T06:38:57.770Z"
   },
   {
    "duration": 93,
    "start_time": "2022-04-26T06:38:57.782Z"
   },
   {
    "duration": 10,
    "start_time": "2022-04-26T06:38:57.877Z"
   },
   {
    "duration": 52,
    "start_time": "2022-04-26T06:38:57.890Z"
   },
   {
    "duration": 42,
    "start_time": "2022-04-26T06:38:57.945Z"
   },
   {
    "duration": 57,
    "start_time": "2022-04-26T06:38:57.989Z"
   },
   {
    "duration": 17,
    "start_time": "2022-04-26T06:38:58.049Z"
   },
   {
    "duration": 16,
    "start_time": "2022-04-26T06:38:58.068Z"
   },
   {
    "duration": 28,
    "start_time": "2022-04-26T06:42:20.945Z"
   },
   {
    "duration": 1567,
    "start_time": "2022-04-26T06:42:35.157Z"
   },
   {
    "duration": 63,
    "start_time": "2022-04-26T06:42:36.729Z"
   },
   {
    "duration": 31,
    "start_time": "2022-04-26T06:42:36.794Z"
   },
   {
    "duration": 54,
    "start_time": "2022-04-26T06:42:36.828Z"
   },
   {
    "duration": 24,
    "start_time": "2022-04-26T06:42:36.886Z"
   },
   {
    "duration": 38,
    "start_time": "2022-04-26T06:42:36.912Z"
   },
   {
    "duration": 36,
    "start_time": "2022-04-26T06:42:36.953Z"
   },
   {
    "duration": 54,
    "start_time": "2022-04-26T06:42:36.992Z"
   },
   {
    "duration": 16,
    "start_time": "2022-04-26T06:42:37.050Z"
   },
   {
    "duration": 11,
    "start_time": "2022-04-26T06:42:37.068Z"
   },
   {
    "duration": 70,
    "start_time": "2022-04-26T06:42:37.082Z"
   },
   {
    "duration": 22,
    "start_time": "2022-04-26T06:42:37.155Z"
   },
   {
    "duration": 8,
    "start_time": "2022-04-26T06:42:37.179Z"
   },
   {
    "duration": 54,
    "start_time": "2022-04-26T06:42:37.194Z"
   },
   {
    "duration": 319,
    "start_time": "2022-04-26T06:42:37.251Z"
   },
   {
    "duration": 24,
    "start_time": "2022-04-26T06:42:37.572Z"
   },
   {
    "duration": 7,
    "start_time": "2022-04-26T06:42:37.598Z"
   },
   {
    "duration": 475,
    "start_time": "2022-04-26T06:42:37.634Z"
   },
   {
    "duration": 58,
    "start_time": "2022-04-26T06:42:38.112Z"
   },
   {
    "duration": 602,
    "start_time": "2022-04-26T06:42:38.172Z"
   },
   {
    "duration": 24,
    "start_time": "2022-04-26T06:42:38.776Z"
   },
   {
    "duration": 53,
    "start_time": "2022-04-26T06:42:38.802Z"
   },
   {
    "duration": 560,
    "start_time": "2022-04-26T06:42:38.857Z"
   },
   {
    "duration": 276,
    "start_time": "2022-04-26T06:42:39.424Z"
   },
   {
    "duration": 271,
    "start_time": "2022-04-26T06:42:39.702Z"
   },
   {
    "duration": 22,
    "start_time": "2022-04-26T06:42:39.976Z"
   },
   {
    "duration": 52,
    "start_time": "2022-04-26T06:42:40.001Z"
   },
   {
    "duration": 28,
    "start_time": "2022-04-26T06:42:40.056Z"
   },
   {
    "duration": 98,
    "start_time": "2022-04-26T06:42:40.087Z"
   },
   {
    "duration": 8,
    "start_time": "2022-04-26T06:42:40.187Z"
   },
   {
    "duration": 90,
    "start_time": "2022-04-26T06:42:40.197Z"
   },
   {
    "duration": 8,
    "start_time": "2022-04-26T06:42:40.290Z"
   },
   {
    "duration": 52,
    "start_time": "2022-04-26T06:42:40.300Z"
   },
   {
    "duration": 40,
    "start_time": "2022-04-26T06:42:40.354Z"
   },
   {
    "duration": 47,
    "start_time": "2022-04-26T06:42:40.396Z"
   },
   {
    "duration": 21,
    "start_time": "2022-04-26T06:42:40.446Z"
   },
   {
    "duration": 20,
    "start_time": "2022-04-26T06:42:40.470Z"
   },
   {
    "duration": 1546,
    "start_time": "2022-04-26T06:44:10.368Z"
   },
   {
    "duration": 69,
    "start_time": "2022-04-26T06:44:11.918Z"
   },
   {
    "duration": 30,
    "start_time": "2022-04-26T06:44:11.989Z"
   },
   {
    "duration": 35,
    "start_time": "2022-04-26T06:44:12.021Z"
   },
   {
    "duration": 30,
    "start_time": "2022-04-26T06:44:12.059Z"
   },
   {
    "duration": 49,
    "start_time": "2022-04-26T06:44:12.092Z"
   },
   {
    "duration": 61,
    "start_time": "2022-04-26T06:44:12.145Z"
   },
   {
    "duration": 73,
    "start_time": "2022-04-26T06:44:12.208Z"
   },
   {
    "duration": 11,
    "start_time": "2022-04-26T06:44:12.284Z"
   },
   {
    "duration": 32,
    "start_time": "2022-04-26T06:44:12.297Z"
   },
   {
    "duration": 45,
    "start_time": "2022-04-26T06:44:12.333Z"
   },
   {
    "duration": 51,
    "start_time": "2022-04-26T06:44:12.380Z"
   },
   {
    "duration": 32,
    "start_time": "2022-04-26T06:44:12.434Z"
   },
   {
    "duration": 21,
    "start_time": "2022-04-26T06:44:12.472Z"
   },
   {
    "duration": 322,
    "start_time": "2022-04-26T06:44:12.496Z"
   },
   {
    "duration": 38,
    "start_time": "2022-04-26T06:44:12.826Z"
   },
   {
    "duration": 7,
    "start_time": "2022-04-26T06:44:12.867Z"
   },
   {
    "duration": 525,
    "start_time": "2022-04-26T06:44:12.876Z"
   },
   {
    "duration": 63,
    "start_time": "2022-04-26T06:44:13.403Z"
   },
   {
    "duration": 593,
    "start_time": "2022-04-26T06:44:13.469Z"
   },
   {
    "duration": 24,
    "start_time": "2022-04-26T06:44:14.064Z"
   },
   {
    "duration": 47,
    "start_time": "2022-04-26T06:44:14.091Z"
   },
   {
    "duration": 600,
    "start_time": "2022-04-26T06:44:14.141Z"
   },
   {
    "duration": 266,
    "start_time": "2022-04-26T06:44:14.745Z"
   },
   {
    "duration": 281,
    "start_time": "2022-04-26T06:44:15.014Z"
   },
   {
    "duration": 32,
    "start_time": "2022-04-26T06:44:15.298Z"
   },
   {
    "duration": 39,
    "start_time": "2022-04-26T06:44:15.333Z"
   },
   {
    "duration": 21,
    "start_time": "2022-04-26T06:44:15.374Z"
   },
   {
    "duration": 96,
    "start_time": "2022-04-26T06:44:15.397Z"
   },
   {
    "duration": 9,
    "start_time": "2022-04-26T06:44:15.496Z"
   },
   {
    "duration": 68,
    "start_time": "2022-04-26T06:44:15.527Z"
   },
   {
    "duration": 28,
    "start_time": "2022-04-26T06:44:15.597Z"
   },
   {
    "duration": 32,
    "start_time": "2022-04-26T06:44:15.628Z"
   },
   {
    "duration": 74,
    "start_time": "2022-04-26T06:44:15.662Z"
   },
   {
    "duration": 23,
    "start_time": "2022-04-26T06:44:15.740Z"
   },
   {
    "duration": 28,
    "start_time": "2022-04-26T06:44:15.766Z"
   },
   {
    "duration": 39,
    "start_time": "2022-04-26T06:44:15.796Z"
   },
   {
    "duration": 1587,
    "start_time": "2022-04-26T06:57:02.451Z"
   },
   {
    "duration": 56,
    "start_time": "2022-04-26T06:57:04.042Z"
   },
   {
    "duration": 52,
    "start_time": "2022-04-26T06:57:04.100Z"
   },
   {
    "duration": 21,
    "start_time": "2022-04-26T06:57:04.156Z"
   },
   {
    "duration": 22,
    "start_time": "2022-04-26T06:57:04.179Z"
   },
   {
    "duration": 63,
    "start_time": "2022-04-26T06:57:04.203Z"
   },
   {
    "duration": 34,
    "start_time": "2022-04-26T06:57:04.268Z"
   },
   {
    "duration": 88,
    "start_time": "2022-04-26T06:57:04.304Z"
   },
   {
    "duration": 187,
    "start_time": "2022-04-26T06:57:04.394Z"
   },
   {
    "duration": 0,
    "start_time": "2022-04-26T06:57:04.585Z"
   },
   {
    "duration": 0,
    "start_time": "2022-04-26T06:57:04.587Z"
   },
   {
    "duration": 0,
    "start_time": "2022-04-26T06:57:04.589Z"
   },
   {
    "duration": 1,
    "start_time": "2022-04-26T06:57:04.590Z"
   },
   {
    "duration": 0,
    "start_time": "2022-04-26T06:57:04.592Z"
   },
   {
    "duration": 0,
    "start_time": "2022-04-26T06:57:04.593Z"
   },
   {
    "duration": 0,
    "start_time": "2022-04-26T06:57:04.594Z"
   },
   {
    "duration": 0,
    "start_time": "2022-04-26T06:57:04.597Z"
   },
   {
    "duration": 0,
    "start_time": "2022-04-26T06:57:04.598Z"
   },
   {
    "duration": 0,
    "start_time": "2022-04-26T06:57:04.599Z"
   },
   {
    "duration": 0,
    "start_time": "2022-04-26T06:57:04.600Z"
   },
   {
    "duration": 0,
    "start_time": "2022-04-26T06:57:04.625Z"
   },
   {
    "duration": 0,
    "start_time": "2022-04-26T06:57:04.627Z"
   },
   {
    "duration": 0,
    "start_time": "2022-04-26T06:57:04.629Z"
   },
   {
    "duration": 0,
    "start_time": "2022-04-26T06:57:04.631Z"
   },
   {
    "duration": 0,
    "start_time": "2022-04-26T06:57:04.633Z"
   },
   {
    "duration": 0,
    "start_time": "2022-04-26T06:57:04.635Z"
   },
   {
    "duration": 0,
    "start_time": "2022-04-26T06:57:04.636Z"
   },
   {
    "duration": 0,
    "start_time": "2022-04-26T06:57:04.638Z"
   },
   {
    "duration": 1,
    "start_time": "2022-04-26T06:57:04.640Z"
   },
   {
    "duration": 0,
    "start_time": "2022-04-26T06:57:04.642Z"
   },
   {
    "duration": 0,
    "start_time": "2022-04-26T06:57:04.644Z"
   },
   {
    "duration": 0,
    "start_time": "2022-04-26T06:57:04.646Z"
   },
   {
    "duration": 0,
    "start_time": "2022-04-26T06:57:04.647Z"
   },
   {
    "duration": 0,
    "start_time": "2022-04-26T06:57:04.649Z"
   },
   {
    "duration": 0,
    "start_time": "2022-04-26T06:57:04.651Z"
   },
   {
    "duration": 0,
    "start_time": "2022-04-26T06:57:04.653Z"
   },
   {
    "duration": 0,
    "start_time": "2022-04-26T06:57:04.654Z"
   },
   {
    "duration": 0,
    "start_time": "2022-04-26T06:57:04.655Z"
   },
   {
    "duration": 3,
    "start_time": "2022-04-26T07:02:18.754Z"
   },
   {
    "duration": 3,
    "start_time": "2022-04-26T07:02:22.276Z"
   },
   {
    "duration": 23,
    "start_time": "2022-04-26T07:02:27.817Z"
   },
   {
    "duration": 5,
    "start_time": "2022-04-26T07:02:31.386Z"
   },
   {
    "duration": 26,
    "start_time": "2022-04-26T07:02:34.474Z"
   },
   {
    "duration": 181,
    "start_time": "2022-04-26T07:04:08.484Z"
   },
   {
    "duration": 27,
    "start_time": "2022-04-26T07:14:19.158Z"
   },
   {
    "duration": 7,
    "start_time": "2022-04-26T07:15:07.268Z"
   },
   {
    "duration": 13,
    "start_time": "2022-04-26T07:16:50.056Z"
   },
   {
    "duration": 3,
    "start_time": "2022-04-26T07:17:07.442Z"
   },
   {
    "duration": 21,
    "start_time": "2022-04-26T07:17:07.922Z"
   },
   {
    "duration": 7,
    "start_time": "2022-04-26T07:17:32.987Z"
   },
   {
    "duration": 4,
    "start_time": "2022-04-26T07:17:33.432Z"
   },
   {
    "duration": 22,
    "start_time": "2022-04-26T07:17:33.991Z"
   },
   {
    "duration": 1554,
    "start_time": "2022-04-26T07:19:10.405Z"
   },
   {
    "duration": 63,
    "start_time": "2022-04-26T07:19:11.962Z"
   },
   {
    "duration": 32,
    "start_time": "2022-04-26T07:19:12.028Z"
   },
   {
    "duration": 23,
    "start_time": "2022-04-26T07:19:12.063Z"
   },
   {
    "duration": 47,
    "start_time": "2022-04-26T07:19:12.088Z"
   },
   {
    "duration": 25,
    "start_time": "2022-04-26T07:19:12.137Z"
   },
   {
    "duration": 67,
    "start_time": "2022-04-26T07:19:12.164Z"
   },
   {
    "duration": 49,
    "start_time": "2022-04-26T07:19:12.234Z"
   },
   {
    "duration": 59,
    "start_time": "2022-04-26T07:19:12.285Z"
   },
   {
    "duration": 5,
    "start_time": "2022-04-26T07:19:12.350Z"
   },
   {
    "duration": 30,
    "start_time": "2022-04-26T07:19:12.358Z"
   },
   {
    "duration": 9,
    "start_time": "2022-04-26T07:19:12.390Z"
   },
   {
    "duration": 43,
    "start_time": "2022-04-26T07:19:12.401Z"
   },
   {
    "duration": 369,
    "start_time": "2022-04-26T07:19:12.446Z"
   },
   {
    "duration": 31,
    "start_time": "2022-04-26T07:19:12.818Z"
   },
   {
    "duration": 9,
    "start_time": "2022-04-26T07:19:12.852Z"
   },
   {
    "duration": 433,
    "start_time": "2022-04-26T07:19:12.864Z"
   },
   {
    "duration": 43,
    "start_time": "2022-04-26T07:19:13.299Z"
   },
   {
    "duration": 544,
    "start_time": "2022-04-26T07:19:13.344Z"
   },
   {
    "duration": 41,
    "start_time": "2022-04-26T07:19:13.891Z"
   },
   {
    "duration": 22,
    "start_time": "2022-04-26T07:19:13.934Z"
   },
   {
    "duration": 516,
    "start_time": "2022-04-26T07:19:13.958Z"
   },
   {
    "duration": 237,
    "start_time": "2022-04-26T07:19:14.476Z"
   },
   {
    "duration": 238,
    "start_time": "2022-04-26T07:19:14.715Z"
   },
   {
    "duration": 21,
    "start_time": "2022-04-26T07:19:14.956Z"
   },
   {
    "duration": 56,
    "start_time": "2022-04-26T07:19:14.979Z"
   },
   {
    "duration": 22,
    "start_time": "2022-04-26T07:19:15.037Z"
   },
   {
    "duration": 99,
    "start_time": "2022-04-26T07:19:15.064Z"
   },
   {
    "duration": 10,
    "start_time": "2022-04-26T07:19:15.166Z"
   },
   {
    "duration": 87,
    "start_time": "2022-04-26T07:19:15.179Z"
   },
   {
    "duration": 10,
    "start_time": "2022-04-26T07:19:15.268Z"
   },
   {
    "duration": 53,
    "start_time": "2022-04-26T07:19:15.281Z"
   },
   {
    "duration": 43,
    "start_time": "2022-04-26T07:19:15.336Z"
   },
   {
    "duration": 46,
    "start_time": "2022-04-26T07:19:15.381Z"
   },
   {
    "duration": 54,
    "start_time": "2022-04-26T07:19:15.430Z"
   },
   {
    "duration": 17,
    "start_time": "2022-04-26T07:19:15.488Z"
   },
   {
    "duration": 23,
    "start_time": "2022-04-26T07:23:43.637Z"
   },
   {
    "duration": 23,
    "start_time": "2022-04-26T07:23:45.802Z"
   },
   {
    "duration": 25,
    "start_time": "2022-04-26T07:24:10.891Z"
   },
   {
    "duration": 22,
    "start_time": "2022-04-26T07:24:11.438Z"
   },
   {
    "duration": 25,
    "start_time": "2022-04-26T07:24:17.318Z"
   },
   {
    "duration": 24,
    "start_time": "2022-04-26T07:24:17.689Z"
   },
   {
    "duration": 24,
    "start_time": "2022-04-26T07:24:18.272Z"
   },
   {
    "duration": 23,
    "start_time": "2022-04-26T07:24:19.209Z"
   },
   {
    "duration": 26,
    "start_time": "2022-04-26T07:24:20.076Z"
   },
   {
    "duration": 32,
    "start_time": "2022-04-26T07:24:20.685Z"
   },
   {
    "duration": 4,
    "start_time": "2022-04-26T07:24:21.573Z"
   },
   {
    "duration": 27,
    "start_time": "2022-04-26T07:24:24.081Z"
   },
   {
    "duration": 11,
    "start_time": "2022-04-26T07:24:39.032Z"
   },
   {
    "duration": 1525,
    "start_time": "2022-04-26T07:24:44.739Z"
   },
   {
    "duration": 49,
    "start_time": "2022-04-26T07:24:46.267Z"
   },
   {
    "duration": 30,
    "start_time": "2022-04-26T07:24:46.325Z"
   },
   {
    "duration": 26,
    "start_time": "2022-04-26T07:24:46.359Z"
   },
   {
    "duration": 63,
    "start_time": "2022-04-26T07:24:46.388Z"
   },
   {
    "duration": 37,
    "start_time": "2022-04-26T07:24:46.454Z"
   },
   {
    "duration": 64,
    "start_time": "2022-04-26T07:24:46.494Z"
   },
   {
    "duration": 66,
    "start_time": "2022-04-26T07:24:46.560Z"
   },
   {
    "duration": 19,
    "start_time": "2022-04-26T07:24:46.629Z"
   },
   {
    "duration": 34,
    "start_time": "2022-04-26T07:24:46.653Z"
   },
   {
    "duration": 4,
    "start_time": "2022-04-26T07:24:46.726Z"
   },
   {
    "duration": 39,
    "start_time": "2022-04-26T07:24:46.733Z"
   },
   {
    "duration": 11,
    "start_time": "2022-04-26T07:24:46.774Z"
   },
   {
    "duration": 40,
    "start_time": "2022-04-26T07:24:46.787Z"
   },
   {
    "duration": 272,
    "start_time": "2022-04-26T07:24:46.830Z"
   },
   {
    "duration": 29,
    "start_time": "2022-04-26T07:24:47.105Z"
   },
   {
    "duration": 8,
    "start_time": "2022-04-26T07:24:47.137Z"
   },
   {
    "duration": 377,
    "start_time": "2022-04-26T07:24:47.147Z"
   },
   {
    "duration": 808,
    "start_time": "2022-04-26T07:24:47.526Z"
   },
   {
    "duration": 0,
    "start_time": "2022-04-26T07:24:48.338Z"
   },
   {
    "duration": 0,
    "start_time": "2022-04-26T07:24:48.340Z"
   },
   {
    "duration": 0,
    "start_time": "2022-04-26T07:24:48.343Z"
   },
   {
    "duration": 0,
    "start_time": "2022-04-26T07:24:48.345Z"
   },
   {
    "duration": 0,
    "start_time": "2022-04-26T07:24:48.349Z"
   },
   {
    "duration": 0,
    "start_time": "2022-04-26T07:24:48.351Z"
   },
   {
    "duration": 0,
    "start_time": "2022-04-26T07:24:48.353Z"
   },
   {
    "duration": 0,
    "start_time": "2022-04-26T07:24:48.356Z"
   },
   {
    "duration": 0,
    "start_time": "2022-04-26T07:24:48.358Z"
   },
   {
    "duration": 0,
    "start_time": "2022-04-26T07:24:48.360Z"
   },
   {
    "duration": 0,
    "start_time": "2022-04-26T07:24:48.362Z"
   },
   {
    "duration": 0,
    "start_time": "2022-04-26T07:24:48.364Z"
   },
   {
    "duration": 0,
    "start_time": "2022-04-26T07:24:48.366Z"
   },
   {
    "duration": 0,
    "start_time": "2022-04-26T07:24:48.368Z"
   },
   {
    "duration": 0,
    "start_time": "2022-04-26T07:24:48.370Z"
   },
   {
    "duration": 0,
    "start_time": "2022-04-26T07:24:48.372Z"
   },
   {
    "duration": 0,
    "start_time": "2022-04-26T07:24:48.374Z"
   },
   {
    "duration": 0,
    "start_time": "2022-04-26T07:24:48.376Z"
   },
   {
    "duration": 1490,
    "start_time": "2022-04-26T07:26:11.483Z"
   },
   {
    "duration": 49,
    "start_time": "2022-04-26T07:26:12.976Z"
   },
   {
    "duration": 29,
    "start_time": "2022-04-26T07:26:13.028Z"
   },
   {
    "duration": 22,
    "start_time": "2022-04-26T07:26:13.058Z"
   },
   {
    "duration": 53,
    "start_time": "2022-04-26T07:26:13.083Z"
   },
   {
    "duration": 28,
    "start_time": "2022-04-26T07:26:13.138Z"
   },
   {
    "duration": 58,
    "start_time": "2022-04-26T07:26:13.169Z"
   },
   {
    "duration": 24,
    "start_time": "2022-04-26T07:26:13.229Z"
   },
   {
    "duration": 29,
    "start_time": "2022-04-26T07:26:13.256Z"
   },
   {
    "duration": 68,
    "start_time": "2022-04-26T07:26:13.288Z"
   },
   {
    "duration": 4,
    "start_time": "2022-04-26T07:26:13.359Z"
   },
   {
    "duration": 60,
    "start_time": "2022-04-26T07:26:13.366Z"
   },
   {
    "duration": 8,
    "start_time": "2022-04-26T07:26:13.429Z"
   },
   {
    "duration": 40,
    "start_time": "2022-04-26T07:26:13.445Z"
   },
   {
    "duration": 408,
    "start_time": "2022-04-26T07:26:13.488Z"
   },
   {
    "duration": 47,
    "start_time": "2022-04-26T07:26:13.899Z"
   },
   {
    "duration": 9,
    "start_time": "2022-04-26T07:26:13.949Z"
   },
   {
    "duration": 531,
    "start_time": "2022-04-26T07:26:13.960Z"
   },
   {
    "duration": 831,
    "start_time": "2022-04-26T07:26:14.494Z"
   },
   {
    "duration": 0,
    "start_time": "2022-04-26T07:26:15.328Z"
   },
   {
    "duration": 0,
    "start_time": "2022-04-26T07:26:15.331Z"
   },
   {
    "duration": 0,
    "start_time": "2022-04-26T07:26:15.333Z"
   },
   {
    "duration": 0,
    "start_time": "2022-04-26T07:26:15.334Z"
   },
   {
    "duration": 0,
    "start_time": "2022-04-26T07:26:15.336Z"
   },
   {
    "duration": 0,
    "start_time": "2022-04-26T07:26:15.338Z"
   },
   {
    "duration": 0,
    "start_time": "2022-04-26T07:26:15.340Z"
   },
   {
    "duration": 0,
    "start_time": "2022-04-26T07:26:15.342Z"
   },
   {
    "duration": 0,
    "start_time": "2022-04-26T07:26:15.344Z"
   },
   {
    "duration": 0,
    "start_time": "2022-04-26T07:26:15.346Z"
   },
   {
    "duration": 0,
    "start_time": "2022-04-26T07:26:15.348Z"
   },
   {
    "duration": 0,
    "start_time": "2022-04-26T07:26:15.350Z"
   },
   {
    "duration": 0,
    "start_time": "2022-04-26T07:26:15.351Z"
   },
   {
    "duration": 1,
    "start_time": "2022-04-26T07:26:15.352Z"
   },
   {
    "duration": 0,
    "start_time": "2022-04-26T07:26:15.354Z"
   },
   {
    "duration": 0,
    "start_time": "2022-04-26T07:26:15.355Z"
   },
   {
    "duration": 0,
    "start_time": "2022-04-26T07:26:15.357Z"
   },
   {
    "duration": 0,
    "start_time": "2022-04-26T07:26:15.358Z"
   },
   {
    "duration": 10,
    "start_time": "2022-04-26T07:26:33.673Z"
   },
   {
    "duration": 10,
    "start_time": "2022-04-26T07:26:34.239Z"
   },
   {
    "duration": 10,
    "start_time": "2022-04-26T07:26:35.257Z"
   },
   {
    "duration": 23,
    "start_time": "2022-04-26T07:26:35.438Z"
   },
   {
    "duration": 4,
    "start_time": "2022-04-26T07:26:36.360Z"
   },
   {
    "duration": 25,
    "start_time": "2022-04-26T07:26:38.238Z"
   },
   {
    "duration": 1524,
    "start_time": "2022-04-26T07:26:57.274Z"
   },
   {
    "duration": 57,
    "start_time": "2022-04-26T07:26:58.801Z"
   },
   {
    "duration": 30,
    "start_time": "2022-04-26T07:26:58.861Z"
   },
   {
    "duration": 38,
    "start_time": "2022-04-26T07:26:58.894Z"
   },
   {
    "duration": 35,
    "start_time": "2022-04-26T07:26:58.935Z"
   },
   {
    "duration": 26,
    "start_time": "2022-04-26T07:26:58.972Z"
   },
   {
    "duration": 59,
    "start_time": "2022-04-26T07:26:59.000Z"
   },
   {
    "duration": 24,
    "start_time": "2022-04-26T07:26:59.061Z"
   },
   {
    "duration": 42,
    "start_time": "2022-04-26T07:26:59.087Z"
   },
   {
    "duration": 26,
    "start_time": "2022-04-26T07:26:59.134Z"
   },
   {
    "duration": 3,
    "start_time": "2022-04-26T07:26:59.163Z"
   },
   {
    "duration": 56,
    "start_time": "2022-04-26T07:26:59.169Z"
   },
   {
    "duration": 8,
    "start_time": "2022-04-26T07:26:59.227Z"
   },
   {
    "duration": 33,
    "start_time": "2022-04-26T07:26:59.237Z"
   },
   {
    "duration": 280,
    "start_time": "2022-04-26T07:26:59.272Z"
   },
   {
    "duration": 27,
    "start_time": "2022-04-26T07:26:59.555Z"
   },
   {
    "duration": 8,
    "start_time": "2022-04-26T07:26:59.585Z"
   },
   {
    "duration": 371,
    "start_time": "2022-04-26T07:26:59.596Z"
   },
   {
    "duration": 756,
    "start_time": "2022-04-26T07:26:59.970Z"
   },
   {
    "duration": 0,
    "start_time": "2022-04-26T07:27:00.729Z"
   },
   {
    "duration": 1,
    "start_time": "2022-04-26T07:27:00.730Z"
   },
   {
    "duration": 0,
    "start_time": "2022-04-26T07:27:00.732Z"
   },
   {
    "duration": 0,
    "start_time": "2022-04-26T07:27:00.733Z"
   },
   {
    "duration": 0,
    "start_time": "2022-04-26T07:27:00.734Z"
   },
   {
    "duration": 0,
    "start_time": "2022-04-26T07:27:00.735Z"
   },
   {
    "duration": 0,
    "start_time": "2022-04-26T07:27:00.737Z"
   },
   {
    "duration": 0,
    "start_time": "2022-04-26T07:27:00.738Z"
   },
   {
    "duration": 0,
    "start_time": "2022-04-26T07:27:00.740Z"
   },
   {
    "duration": 0,
    "start_time": "2022-04-26T07:27:00.741Z"
   },
   {
    "duration": 0,
    "start_time": "2022-04-26T07:27:00.743Z"
   },
   {
    "duration": 0,
    "start_time": "2022-04-26T07:27:00.745Z"
   },
   {
    "duration": 0,
    "start_time": "2022-04-26T07:27:00.746Z"
   },
   {
    "duration": 0,
    "start_time": "2022-04-26T07:27:00.747Z"
   },
   {
    "duration": 0,
    "start_time": "2022-04-26T07:27:00.749Z"
   },
   {
    "duration": 0,
    "start_time": "2022-04-26T07:27:00.750Z"
   },
   {
    "duration": 0,
    "start_time": "2022-04-26T07:27:00.752Z"
   },
   {
    "duration": 0,
    "start_time": "2022-04-26T07:27:00.753Z"
   },
   {
    "duration": 227,
    "start_time": "2022-04-26T07:28:42.358Z"
   },
   {
    "duration": 266,
    "start_time": "2022-04-26T07:28:47.597Z"
   },
   {
    "duration": 299,
    "start_time": "2022-04-26T07:28:56.238Z"
   },
   {
    "duration": 1621,
    "start_time": "2022-04-26T07:30:30.536Z"
   },
   {
    "duration": 65,
    "start_time": "2022-04-26T07:30:32.160Z"
   },
   {
    "duration": 34,
    "start_time": "2022-04-26T07:30:32.228Z"
   },
   {
    "duration": 60,
    "start_time": "2022-04-26T07:30:32.265Z"
   },
   {
    "duration": 26,
    "start_time": "2022-04-26T07:30:32.327Z"
   },
   {
    "duration": 72,
    "start_time": "2022-04-26T07:30:32.355Z"
   },
   {
    "duration": 41,
    "start_time": "2022-04-26T07:30:32.429Z"
   },
   {
    "duration": 52,
    "start_time": "2022-04-26T07:30:32.472Z"
   },
   {
    "duration": 24,
    "start_time": "2022-04-26T07:30:32.526Z"
   },
   {
    "duration": 29,
    "start_time": "2022-04-26T07:30:32.554Z"
   },
   {
    "duration": 54,
    "start_time": "2022-04-26T07:30:32.586Z"
   },
   {
    "duration": 44,
    "start_time": "2022-04-26T07:30:32.642Z"
   },
   {
    "duration": 47,
    "start_time": "2022-04-26T07:30:32.688Z"
   },
   {
    "duration": 364,
    "start_time": "2022-04-26T07:30:32.738Z"
   },
   {
    "duration": 35,
    "start_time": "2022-04-26T07:30:33.105Z"
   },
   {
    "duration": 24,
    "start_time": "2022-04-26T07:30:33.142Z"
   },
   {
    "duration": 369,
    "start_time": "2022-04-26T07:30:33.169Z"
   },
   {
    "duration": 814,
    "start_time": "2022-04-26T07:30:33.540Z"
   },
   {
    "duration": 0,
    "start_time": "2022-04-26T07:30:34.358Z"
   },
   {
    "duration": 0,
    "start_time": "2022-04-26T07:30:34.359Z"
   },
   {
    "duration": 0,
    "start_time": "2022-04-26T07:30:34.361Z"
   },
   {
    "duration": 0,
    "start_time": "2022-04-26T07:30:34.362Z"
   },
   {
    "duration": 0,
    "start_time": "2022-04-26T07:30:34.364Z"
   },
   {
    "duration": 0,
    "start_time": "2022-04-26T07:30:34.365Z"
   },
   {
    "duration": 0,
    "start_time": "2022-04-26T07:30:34.366Z"
   },
   {
    "duration": 0,
    "start_time": "2022-04-26T07:30:34.368Z"
   },
   {
    "duration": 0,
    "start_time": "2022-04-26T07:30:34.369Z"
   },
   {
    "duration": 0,
    "start_time": "2022-04-26T07:30:34.372Z"
   },
   {
    "duration": 0,
    "start_time": "2022-04-26T07:30:34.374Z"
   },
   {
    "duration": 0,
    "start_time": "2022-04-26T07:30:34.375Z"
   },
   {
    "duration": 0,
    "start_time": "2022-04-26T07:30:34.377Z"
   },
   {
    "duration": 1,
    "start_time": "2022-04-26T07:30:34.378Z"
   },
   {
    "duration": 0,
    "start_time": "2022-04-26T07:30:34.380Z"
   },
   {
    "duration": 0,
    "start_time": "2022-04-26T07:30:34.381Z"
   },
   {
    "duration": 0,
    "start_time": "2022-04-26T07:30:34.383Z"
   },
   {
    "duration": 0,
    "start_time": "2022-04-26T07:30:34.385Z"
   },
   {
    "duration": 4,
    "start_time": "2022-04-26T07:31:47.539Z"
   },
   {
    "duration": 5,
    "start_time": "2022-04-26T07:31:55.199Z"
   },
   {
    "duration": 4,
    "start_time": "2022-04-26T07:31:56.254Z"
   },
   {
    "duration": 18,
    "start_time": "2022-04-26T07:32:58.107Z"
   },
   {
    "duration": 1456,
    "start_time": "2022-04-26T07:33:07.032Z"
   },
   {
    "duration": 53,
    "start_time": "2022-04-26T07:33:08.491Z"
   },
   {
    "duration": 32,
    "start_time": "2022-04-26T07:33:08.547Z"
   },
   {
    "duration": 45,
    "start_time": "2022-04-26T07:33:08.584Z"
   },
   {
    "duration": 22,
    "start_time": "2022-04-26T07:33:08.632Z"
   },
   {
    "duration": 25,
    "start_time": "2022-04-26T07:33:08.656Z"
   },
   {
    "duration": 62,
    "start_time": "2022-04-26T07:33:08.683Z"
   },
   {
    "duration": 24,
    "start_time": "2022-04-26T07:33:08.747Z"
   },
   {
    "duration": 188,
    "start_time": "2022-04-26T07:33:08.773Z"
   },
   {
    "duration": 0,
    "start_time": "2022-04-26T07:33:08.966Z"
   },
   {
    "duration": 0,
    "start_time": "2022-04-26T07:33:08.968Z"
   },
   {
    "duration": 0,
    "start_time": "2022-04-26T07:33:08.970Z"
   },
   {
    "duration": 0,
    "start_time": "2022-04-26T07:33:08.973Z"
   },
   {
    "duration": 0,
    "start_time": "2022-04-26T07:33:08.975Z"
   },
   {
    "duration": 0,
    "start_time": "2022-04-26T07:33:08.977Z"
   },
   {
    "duration": 0,
    "start_time": "2022-04-26T07:33:08.979Z"
   },
   {
    "duration": 0,
    "start_time": "2022-04-26T07:33:08.985Z"
   },
   {
    "duration": 0,
    "start_time": "2022-04-26T07:33:08.987Z"
   },
   {
    "duration": 0,
    "start_time": "2022-04-26T07:33:09.025Z"
   },
   {
    "duration": 0,
    "start_time": "2022-04-26T07:33:09.027Z"
   },
   {
    "duration": 0,
    "start_time": "2022-04-26T07:33:09.029Z"
   },
   {
    "duration": 0,
    "start_time": "2022-04-26T07:33:09.031Z"
   },
   {
    "duration": 0,
    "start_time": "2022-04-26T07:33:09.033Z"
   },
   {
    "duration": 0,
    "start_time": "2022-04-26T07:33:09.035Z"
   },
   {
    "duration": 0,
    "start_time": "2022-04-26T07:33:09.038Z"
   },
   {
    "duration": 0,
    "start_time": "2022-04-26T07:33:09.040Z"
   },
   {
    "duration": 0,
    "start_time": "2022-04-26T07:33:09.042Z"
   },
   {
    "duration": 0,
    "start_time": "2022-04-26T07:33:09.044Z"
   },
   {
    "duration": 0,
    "start_time": "2022-04-26T07:33:09.046Z"
   },
   {
    "duration": 0,
    "start_time": "2022-04-26T07:33:09.048Z"
   },
   {
    "duration": 0,
    "start_time": "2022-04-26T07:33:09.051Z"
   },
   {
    "duration": 0,
    "start_time": "2022-04-26T07:33:09.052Z"
   },
   {
    "duration": 0,
    "start_time": "2022-04-26T07:33:09.054Z"
   },
   {
    "duration": 0,
    "start_time": "2022-04-26T07:33:09.056Z"
   },
   {
    "duration": 0,
    "start_time": "2022-04-26T07:33:09.059Z"
   },
   {
    "duration": 0,
    "start_time": "2022-04-26T07:33:09.126Z"
   },
   {
    "duration": 0,
    "start_time": "2022-04-26T07:33:09.128Z"
   },
   {
    "duration": 11,
    "start_time": "2022-04-26T07:33:30.756Z"
   },
   {
    "duration": 26,
    "start_time": "2022-04-26T07:33:32.874Z"
   },
   {
    "duration": 1511,
    "start_time": "2022-04-26T07:35:32.885Z"
   },
   {
    "duration": 50,
    "start_time": "2022-04-26T07:35:34.398Z"
   },
   {
    "duration": 31,
    "start_time": "2022-04-26T07:35:34.451Z"
   },
   {
    "duration": 41,
    "start_time": "2022-04-26T07:35:34.485Z"
   },
   {
    "duration": 28,
    "start_time": "2022-04-26T07:35:34.529Z"
   },
   {
    "duration": 26,
    "start_time": "2022-04-26T07:35:34.559Z"
   },
   {
    "duration": 64,
    "start_time": "2022-04-26T07:35:34.588Z"
   },
   {
    "duration": 31,
    "start_time": "2022-04-26T07:35:34.654Z"
   },
   {
    "duration": 15,
    "start_time": "2022-04-26T07:35:34.687Z"
   },
   {
    "duration": 42,
    "start_time": "2022-04-26T07:35:34.706Z"
   },
   {
    "duration": 4,
    "start_time": "2022-04-26T07:35:34.750Z"
   },
   {
    "duration": 59,
    "start_time": "2022-04-26T07:35:34.756Z"
   },
   {
    "duration": 20,
    "start_time": "2022-04-26T07:35:34.817Z"
   },
   {
    "duration": 28,
    "start_time": "2022-04-26T07:35:34.840Z"
   },
   {
    "duration": 316,
    "start_time": "2022-04-26T07:35:34.870Z"
   },
   {
    "duration": 37,
    "start_time": "2022-04-26T07:35:35.189Z"
   },
   {
    "duration": 7,
    "start_time": "2022-04-26T07:35:35.228Z"
   },
   {
    "duration": 444,
    "start_time": "2022-04-26T07:35:35.237Z"
   },
   {
    "duration": 42,
    "start_time": "2022-04-26T07:35:35.684Z"
   },
   {
    "duration": 600,
    "start_time": "2022-04-26T07:35:35.728Z"
   },
   {
    "duration": 25,
    "start_time": "2022-04-26T07:35:36.330Z"
   },
   {
    "duration": 23,
    "start_time": "2022-04-26T07:35:36.357Z"
   },
   {
    "duration": 584,
    "start_time": "2022-04-26T07:35:36.382Z"
   },
   {
    "duration": 247,
    "start_time": "2022-04-26T07:35:36.969Z"
   },
   {
    "duration": 249,
    "start_time": "2022-04-26T07:35:37.225Z"
   },
   {
    "duration": 23,
    "start_time": "2022-04-26T07:35:37.476Z"
   },
   {
    "duration": 55,
    "start_time": "2022-04-26T07:35:37.502Z"
   },
   {
    "duration": 33,
    "start_time": "2022-04-26T07:35:37.566Z"
   },
   {
    "duration": 162,
    "start_time": "2022-04-26T07:35:37.625Z"
   },
   {
    "duration": 9,
    "start_time": "2022-04-26T07:35:37.789Z"
   },
   {
    "duration": 84,
    "start_time": "2022-04-26T07:35:37.801Z"
   },
   {
    "duration": 37,
    "start_time": "2022-04-26T07:35:37.888Z"
   },
   {
    "duration": 23,
    "start_time": "2022-04-26T07:35:37.927Z"
   },
   {
    "duration": 80,
    "start_time": "2022-04-26T07:35:37.953Z"
   },
   {
    "duration": 22,
    "start_time": "2022-04-26T07:35:38.035Z"
   },
   {
    "duration": 17,
    "start_time": "2022-04-26T07:35:38.059Z"
   },
   {
    "duration": 49,
    "start_time": "2022-04-26T07:35:38.078Z"
   },
   {
    "duration": 1612,
    "start_time": "2022-04-26T12:20:08.395Z"
   },
   {
    "duration": 51,
    "start_time": "2022-04-26T12:20:10.009Z"
   },
   {
    "duration": 27,
    "start_time": "2022-04-26T12:20:10.063Z"
   },
   {
    "duration": 19,
    "start_time": "2022-04-26T12:20:10.094Z"
   },
   {
    "duration": 46,
    "start_time": "2022-04-26T12:20:10.115Z"
   },
   {
    "duration": 23,
    "start_time": "2022-04-26T12:20:10.163Z"
   },
   {
    "duration": 36,
    "start_time": "2022-04-26T12:20:10.189Z"
   },
   {
    "duration": 45,
    "start_time": "2022-04-26T12:20:10.227Z"
   },
   {
    "duration": 18,
    "start_time": "2022-04-26T12:20:10.275Z"
   },
   {
    "duration": 42,
    "start_time": "2022-04-26T12:20:10.297Z"
   },
   {
    "duration": 3,
    "start_time": "2022-04-26T12:20:10.341Z"
   },
   {
    "duration": 36,
    "start_time": "2022-04-26T12:20:10.346Z"
   },
   {
    "duration": 18,
    "start_time": "2022-04-26T12:20:10.384Z"
   },
   {
    "duration": 30,
    "start_time": "2022-04-26T12:20:10.404Z"
   },
   {
    "duration": 324,
    "start_time": "2022-04-26T12:20:10.437Z"
   },
   {
    "duration": 23,
    "start_time": "2022-04-26T12:20:10.763Z"
   },
   {
    "duration": 9,
    "start_time": "2022-04-26T12:20:10.788Z"
   },
   {
    "duration": 417,
    "start_time": "2022-04-26T12:20:10.799Z"
   },
   {
    "duration": 44,
    "start_time": "2022-04-26T12:20:11.219Z"
   },
   {
    "duration": 582,
    "start_time": "2022-04-26T12:20:11.265Z"
   },
   {
    "duration": 24,
    "start_time": "2022-04-26T12:20:11.852Z"
   },
   {
    "duration": 31,
    "start_time": "2022-04-26T12:20:11.878Z"
   },
   {
    "duration": 575,
    "start_time": "2022-04-26T12:20:11.911Z"
   },
   {
    "duration": 244,
    "start_time": "2022-04-26T12:20:12.489Z"
   },
   {
    "duration": 243,
    "start_time": "2022-04-26T12:20:12.736Z"
   },
   {
    "duration": 23,
    "start_time": "2022-04-26T12:20:12.981Z"
   },
   {
    "duration": 47,
    "start_time": "2022-04-26T12:20:13.006Z"
   },
   {
    "duration": 22,
    "start_time": "2022-04-26T12:20:13.058Z"
   },
   {
    "duration": 156,
    "start_time": "2022-04-26T12:20:13.082Z"
   },
   {
    "duration": 17,
    "start_time": "2022-04-26T12:20:13.241Z"
   },
   {
    "duration": 54,
    "start_time": "2022-04-26T12:20:13.260Z"
   },
   {
    "duration": 38,
    "start_time": "2022-04-26T12:20:13.316Z"
   },
   {
    "duration": 24,
    "start_time": "2022-04-26T12:20:13.356Z"
   },
   {
    "duration": 42,
    "start_time": "2022-04-26T12:20:13.382Z"
   },
   {
    "duration": 38,
    "start_time": "2022-04-26T12:20:13.426Z"
   },
   {
    "duration": 21,
    "start_time": "2022-04-26T12:20:13.466Z"
   },
   {
    "duration": 18,
    "start_time": "2022-04-26T12:20:13.490Z"
   },
   {
    "duration": 1410,
    "start_time": "2022-04-26T12:23:03.937Z"
   },
   {
    "duration": 49,
    "start_time": "2022-04-26T12:23:05.351Z"
   },
   {
    "duration": 29,
    "start_time": "2022-04-26T12:23:05.402Z"
   },
   {
    "duration": 36,
    "start_time": "2022-04-26T12:23:05.434Z"
   },
   {
    "duration": 21,
    "start_time": "2022-04-26T12:23:05.472Z"
   },
   {
    "duration": 59,
    "start_time": "2022-04-26T12:23:05.495Z"
   },
   {
    "duration": 40,
    "start_time": "2022-04-26T12:23:05.556Z"
   },
   {
    "duration": 23,
    "start_time": "2022-04-26T12:23:05.598Z"
   },
   {
    "duration": 36,
    "start_time": "2022-04-26T12:23:05.623Z"
   },
   {
    "duration": 24,
    "start_time": "2022-04-26T12:23:05.664Z"
   },
   {
    "duration": 3,
    "start_time": "2022-04-26T12:23:05.691Z"
   },
   {
    "duration": 69,
    "start_time": "2022-04-26T12:23:05.697Z"
   },
   {
    "duration": 6,
    "start_time": "2022-04-26T12:23:05.768Z"
   },
   {
    "duration": 26,
    "start_time": "2022-04-26T12:23:05.776Z"
   },
   {
    "duration": 343,
    "start_time": "2022-04-26T12:23:05.805Z"
   },
   {
    "duration": 24,
    "start_time": "2022-04-26T12:23:06.151Z"
   },
   {
    "duration": 11,
    "start_time": "2022-04-26T12:23:06.177Z"
   },
   {
    "duration": 463,
    "start_time": "2022-04-26T12:23:06.190Z"
   },
   {
    "duration": 41,
    "start_time": "2022-04-26T12:23:06.655Z"
   },
   {
    "duration": 601,
    "start_time": "2022-04-26T12:23:06.698Z"
   },
   {
    "duration": 50,
    "start_time": "2022-04-26T12:23:07.303Z"
   },
   {
    "duration": 32,
    "start_time": "2022-04-26T12:23:07.356Z"
   },
   {
    "duration": 581,
    "start_time": "2022-04-26T12:23:07.391Z"
   },
   {
    "duration": 247,
    "start_time": "2022-04-26T12:23:07.974Z"
   },
   {
    "duration": 242,
    "start_time": "2022-04-26T12:23:08.223Z"
   },
   {
    "duration": 23,
    "start_time": "2022-04-26T12:23:08.468Z"
   },
   {
    "duration": 23,
    "start_time": "2022-04-26T12:23:08.493Z"
   },
   {
    "duration": 23,
    "start_time": "2022-04-26T12:23:08.553Z"
   },
   {
    "duration": 174,
    "start_time": "2022-04-26T12:23:08.578Z"
   },
   {
    "duration": 10,
    "start_time": "2022-04-26T12:23:08.754Z"
   },
   {
    "duration": 86,
    "start_time": "2022-04-26T12:23:08.766Z"
   },
   {
    "duration": 9,
    "start_time": "2022-04-26T12:23:08.854Z"
   },
   {
    "duration": 59,
    "start_time": "2022-04-26T12:23:08.866Z"
   },
   {
    "duration": 64,
    "start_time": "2022-04-26T12:23:08.928Z"
   },
   {
    "duration": 21,
    "start_time": "2022-04-26T12:23:08.994Z"
   },
   {
    "duration": 35,
    "start_time": "2022-04-26T12:23:09.017Z"
   },
   {
    "duration": 41,
    "start_time": "2022-04-26T12:23:09.054Z"
   },
   {
    "duration": 480,
    "start_time": "2022-04-26T12:42:28.511Z"
   },
   {
    "duration": 387,
    "start_time": "2022-04-26T12:42:39.488Z"
   },
   {
    "duration": 1799,
    "start_time": "2022-04-27T05:51:29.469Z"
   },
   {
    "duration": 67,
    "start_time": "2022-04-27T05:51:31.271Z"
   },
   {
    "duration": 29,
    "start_time": "2022-04-27T05:51:31.340Z"
   },
   {
    "duration": 35,
    "start_time": "2022-04-27T05:51:31.372Z"
   },
   {
    "duration": 25,
    "start_time": "2022-04-27T05:51:31.409Z"
   },
   {
    "duration": 24,
    "start_time": "2022-04-27T05:51:31.436Z"
   },
   {
    "duration": 65,
    "start_time": "2022-04-27T05:51:31.462Z"
   },
   {
    "duration": 23,
    "start_time": "2022-04-27T05:51:31.529Z"
   },
   {
    "duration": 42,
    "start_time": "2022-04-27T05:51:31.555Z"
   },
   {
    "duration": 26,
    "start_time": "2022-04-27T05:51:31.603Z"
   },
   {
    "duration": 4,
    "start_time": "2022-04-27T05:51:31.631Z"
   },
   {
    "duration": 25,
    "start_time": "2022-04-27T05:51:31.637Z"
   },
   {
    "duration": 8,
    "start_time": "2022-04-27T05:51:31.693Z"
   },
   {
    "duration": 31,
    "start_time": "2022-04-27T05:51:31.705Z"
   },
   {
    "duration": 327,
    "start_time": "2022-04-27T05:51:31.738Z"
   },
   {
    "duration": 37,
    "start_time": "2022-04-27T05:51:32.067Z"
   },
   {
    "duration": 6,
    "start_time": "2022-04-27T05:51:32.107Z"
   },
   {
    "duration": 426,
    "start_time": "2022-04-27T05:51:32.116Z"
   },
   {
    "duration": 39,
    "start_time": "2022-04-27T05:51:32.544Z"
   },
   {
    "duration": 697,
    "start_time": "2022-04-27T05:51:32.585Z"
   },
   {
    "duration": 37,
    "start_time": "2022-04-27T05:51:33.284Z"
   },
   {
    "duration": 20,
    "start_time": "2022-04-27T05:51:33.323Z"
   },
   {
    "duration": 623,
    "start_time": "2022-04-27T05:51:33.345Z"
   },
   {
    "duration": 246,
    "start_time": "2022-04-27T05:51:33.970Z"
   },
   {
    "duration": 246,
    "start_time": "2022-04-27T05:51:34.218Z"
   },
   {
    "duration": 39,
    "start_time": "2022-04-27T05:51:34.466Z"
   },
   {
    "duration": 23,
    "start_time": "2022-04-27T05:51:34.507Z"
   },
   {
    "duration": 19,
    "start_time": "2022-04-27T05:51:34.535Z"
   },
   {
    "duration": 180,
    "start_time": "2022-04-27T05:51:34.556Z"
   },
   {
    "duration": 9,
    "start_time": "2022-04-27T05:51:34.738Z"
   },
   {
    "duration": 88,
    "start_time": "2022-04-27T05:51:34.749Z"
   },
   {
    "duration": 9,
    "start_time": "2022-04-27T05:51:34.840Z"
   },
   {
    "duration": 58,
    "start_time": "2022-04-27T05:51:34.851Z"
   },
   {
    "duration": 39,
    "start_time": "2022-04-27T05:51:34.912Z"
   },
   {
    "duration": 50,
    "start_time": "2022-04-27T05:51:34.953Z"
   },
   {
    "duration": 20,
    "start_time": "2022-04-27T05:51:35.006Z"
   },
   {
    "duration": 14,
    "start_time": "2022-04-27T05:51:35.029Z"
   },
   {
    "duration": 36,
    "start_time": "2022-04-27T06:28:21.596Z"
   },
   {
    "duration": 38,
    "start_time": "2022-04-27T06:29:12.007Z"
   },
   {
    "duration": 445,
    "start_time": "2022-04-27T06:34:41.415Z"
   },
   {
    "duration": 15,
    "start_time": "2022-04-27T06:36:51.081Z"
   },
   {
    "duration": 21,
    "start_time": "2022-04-27T06:36:58.637Z"
   },
   {
    "duration": 33,
    "start_time": "2022-04-27T06:37:19.402Z"
   },
   {
    "duration": 36,
    "start_time": "2022-04-27T06:37:40.846Z"
   },
   {
    "duration": 28,
    "start_time": "2022-04-27T06:45:58.502Z"
   },
   {
    "duration": 33,
    "start_time": "2022-04-27T06:46:04.839Z"
   },
   {
    "duration": 27,
    "start_time": "2022-04-27T06:46:31.835Z"
   },
   {
    "duration": 29,
    "start_time": "2022-04-27T06:46:55.170Z"
   },
   {
    "duration": 46,
    "start_time": "2022-04-27T06:46:58.494Z"
   },
   {
    "duration": 39,
    "start_time": "2022-04-27T07:03:09.116Z"
   },
   {
    "duration": 1145,
    "start_time": "2022-04-27T11:53:06.347Z"
   },
   {
    "duration": 47,
    "start_time": "2022-04-27T11:53:07.494Z"
   },
   {
    "duration": 22,
    "start_time": "2022-04-27T11:53:07.543Z"
   },
   {
    "duration": 14,
    "start_time": "2022-04-27T11:53:07.567Z"
   },
   {
    "duration": 16,
    "start_time": "2022-04-27T11:53:07.584Z"
   },
   {
    "duration": 34,
    "start_time": "2022-04-27T11:53:07.602Z"
   },
   {
    "duration": 33,
    "start_time": "2022-04-27T11:53:07.637Z"
   },
   {
    "duration": 16,
    "start_time": "2022-04-27T11:53:07.672Z"
   },
   {
    "duration": 13,
    "start_time": "2022-04-27T11:53:07.691Z"
   },
   {
    "duration": 41,
    "start_time": "2022-04-27T11:53:07.705Z"
   },
   {
    "duration": 3,
    "start_time": "2022-04-27T11:53:07.748Z"
   },
   {
    "duration": 21,
    "start_time": "2022-04-27T11:53:07.752Z"
   },
   {
    "duration": 8,
    "start_time": "2022-04-27T11:53:07.775Z"
   },
   {
    "duration": 15,
    "start_time": "2022-04-27T11:53:07.787Z"
   },
   {
    "duration": 225,
    "start_time": "2022-04-27T11:53:07.804Z"
   },
   {
    "duration": 23,
    "start_time": "2022-04-27T11:53:08.030Z"
   },
   {
    "duration": 4,
    "start_time": "2022-04-27T11:53:08.055Z"
   },
   {
    "duration": 348,
    "start_time": "2022-04-27T11:53:08.061Z"
   },
   {
    "duration": 23,
    "start_time": "2022-04-27T11:53:08.412Z"
   },
   {
    "duration": 31,
    "start_time": "2022-04-27T11:53:08.437Z"
   },
   {
    "duration": 403,
    "start_time": "2022-04-27T11:53:08.470Z"
   },
   {
    "duration": 16,
    "start_time": "2022-04-27T11:53:08.875Z"
   },
   {
    "duration": 14,
    "start_time": "2022-04-27T11:53:08.893Z"
   },
   {
    "duration": 398,
    "start_time": "2022-04-27T11:53:08.909Z"
   },
   {
    "duration": 158,
    "start_time": "2022-04-27T11:53:09.309Z"
   },
   {
    "duration": 164,
    "start_time": "2022-04-27T11:53:09.468Z"
   },
   {
    "duration": 18,
    "start_time": "2022-04-27T11:53:09.634Z"
   },
   {
    "duration": 16,
    "start_time": "2022-04-27T11:53:09.654Z"
   },
   {
    "duration": 14,
    "start_time": "2022-04-27T11:53:09.672Z"
   },
   {
    "duration": 162,
    "start_time": "2022-04-27T11:53:09.688Z"
   },
   {
    "duration": 5,
    "start_time": "2022-04-27T11:53:09.852Z"
   },
   {
    "duration": 44,
    "start_time": "2022-04-27T11:53:09.859Z"
   },
   {
    "duration": 6,
    "start_time": "2022-04-27T11:53:09.905Z"
   },
   {
    "duration": 48,
    "start_time": "2022-04-27T11:53:09.912Z"
   },
   {
    "duration": 30,
    "start_time": "2022-04-27T11:53:09.962Z"
   },
   {
    "duration": 16,
    "start_time": "2022-04-27T11:53:09.994Z"
   },
   {
    "duration": 37,
    "start_time": "2022-04-27T11:53:10.013Z"
   },
   {
    "duration": 14,
    "start_time": "2022-04-27T11:53:10.052Z"
   },
   {
    "duration": 263,
    "start_time": "2022-04-27T11:53:33.718Z"
   },
   {
    "duration": 34,
    "start_time": "2022-04-27T11:55:37.618Z"
   },
   {
    "duration": 25,
    "start_time": "2022-04-27T11:55:48.097Z"
   },
   {
    "duration": 9,
    "start_time": "2022-04-27T11:56:21.271Z"
   },
   {
    "duration": 25,
    "start_time": "2022-04-27T11:57:39.567Z"
   },
   {
    "duration": 8,
    "start_time": "2022-04-27T12:07:32.549Z"
   },
   {
    "duration": 311,
    "start_time": "2022-04-27T12:09:47.353Z"
   },
   {
    "duration": 351,
    "start_time": "2022-04-27T12:10:16.385Z"
   },
   {
    "duration": 333,
    "start_time": "2022-04-27T12:10:21.179Z"
   },
   {
    "duration": 1209,
    "start_time": "2022-04-27T12:20:50.453Z"
   },
   {
    "duration": 54,
    "start_time": "2022-04-27T12:20:51.664Z"
   },
   {
    "duration": 23,
    "start_time": "2022-04-27T12:20:51.720Z"
   },
   {
    "duration": 27,
    "start_time": "2022-04-27T12:20:51.746Z"
   },
   {
    "duration": 18,
    "start_time": "2022-04-27T12:20:51.774Z"
   },
   {
    "duration": 16,
    "start_time": "2022-04-27T12:20:51.793Z"
   },
   {
    "duration": 52,
    "start_time": "2022-04-27T12:20:51.811Z"
   },
   {
    "duration": 17,
    "start_time": "2022-04-27T12:20:51.865Z"
   },
   {
    "duration": 10,
    "start_time": "2022-04-27T12:20:51.884Z"
   },
   {
    "duration": 49,
    "start_time": "2022-04-27T12:20:51.896Z"
   },
   {
    "duration": 2,
    "start_time": "2022-04-27T12:20:51.947Z"
   },
   {
    "duration": 20,
    "start_time": "2022-04-27T12:20:51.951Z"
   },
   {
    "duration": 7,
    "start_time": "2022-04-27T12:20:51.973Z"
   },
   {
    "duration": 15,
    "start_time": "2022-04-27T12:20:51.982Z"
   },
   {
    "duration": 248,
    "start_time": "2022-04-27T12:20:51.999Z"
   },
   {
    "duration": 18,
    "start_time": "2022-04-27T12:20:52.249Z"
   },
   {
    "duration": 5,
    "start_time": "2022-04-27T12:20:52.269Z"
   },
   {
    "duration": 306,
    "start_time": "2022-04-27T12:20:52.276Z"
   },
   {
    "duration": 25,
    "start_time": "2022-04-27T12:20:52.584Z"
   },
   {
    "duration": 8,
    "start_time": "2022-04-27T12:20:52.611Z"
   },
   {
    "duration": 333,
    "start_time": "2022-04-27T12:20:52.621Z"
   },
   {
    "duration": 16,
    "start_time": "2022-04-27T12:20:52.955Z"
   },
   {
    "duration": 73,
    "start_time": "2022-04-27T12:20:52.973Z"
   },
   {
    "duration": 388,
    "start_time": "2022-04-27T12:20:53.048Z"
   },
   {
    "duration": 173,
    "start_time": "2022-04-27T12:20:53.437Z"
   },
   {
    "duration": 156,
    "start_time": "2022-04-27T12:20:53.612Z"
   },
   {
    "duration": 16,
    "start_time": "2022-04-27T12:20:53.769Z"
   },
   {
    "duration": 16,
    "start_time": "2022-04-27T12:20:53.789Z"
   },
   {
    "duration": 55,
    "start_time": "2022-04-27T12:20:53.807Z"
   },
   {
    "duration": 43,
    "start_time": "2022-04-27T12:20:53.864Z"
   },
   {
    "duration": 7,
    "start_time": "2022-04-27T12:20:53.909Z"
   },
   {
    "duration": 59,
    "start_time": "2022-04-27T12:20:53.918Z"
   },
   {
    "duration": 7,
    "start_time": "2022-04-27T12:20:53.980Z"
   },
   {
    "duration": 21,
    "start_time": "2022-04-27T12:20:53.989Z"
   },
   {
    "duration": 56,
    "start_time": "2022-04-27T12:20:54.012Z"
   },
   {
    "duration": 15,
    "start_time": "2022-04-27T12:20:54.070Z"
   },
   {
    "duration": 11,
    "start_time": "2022-04-27T12:20:54.088Z"
   },
   {
    "duration": 40,
    "start_time": "2022-04-27T12:20:54.101Z"
   },
   {
    "duration": 1172,
    "start_time": "2022-04-27T12:25:56.022Z"
   },
   {
    "duration": 57,
    "start_time": "2022-04-27T12:25:57.196Z"
   },
   {
    "duration": 21,
    "start_time": "2022-04-27T12:25:57.255Z"
   },
   {
    "duration": 15,
    "start_time": "2022-04-27T12:25:57.279Z"
   },
   {
    "duration": 42,
    "start_time": "2022-04-27T12:25:57.296Z"
   },
   {
    "duration": 18,
    "start_time": "2022-04-27T12:25:57.340Z"
   },
   {
    "duration": 31,
    "start_time": "2022-04-27T12:25:57.360Z"
   },
   {
    "duration": 16,
    "start_time": "2022-04-27T12:25:57.392Z"
   },
   {
    "duration": 30,
    "start_time": "2022-04-27T12:25:57.409Z"
   },
   {
    "duration": 18,
    "start_time": "2022-04-27T12:25:57.451Z"
   },
   {
    "duration": 3,
    "start_time": "2022-04-27T12:25:57.470Z"
   },
   {
    "duration": 19,
    "start_time": "2022-04-27T12:25:57.475Z"
   },
   {
    "duration": 5,
    "start_time": "2022-04-27T12:25:57.497Z"
   },
   {
    "duration": 43,
    "start_time": "2022-04-27T12:25:57.504Z"
   },
   {
    "duration": 202,
    "start_time": "2022-04-27T12:25:57.549Z"
   },
   {
    "duration": 17,
    "start_time": "2022-04-27T12:25:57.753Z"
   },
   {
    "duration": 4,
    "start_time": "2022-04-27T12:25:57.771Z"
   },
   {
    "duration": 313,
    "start_time": "2022-04-27T12:25:57.777Z"
   },
   {
    "duration": 26,
    "start_time": "2022-04-27T12:25:58.091Z"
   },
   {
    "duration": 8,
    "start_time": "2022-04-27T12:25:58.119Z"
   },
   {
    "duration": 331,
    "start_time": "2022-04-27T12:25:58.128Z"
   },
   {
    "duration": 17,
    "start_time": "2022-04-27T12:25:58.461Z"
   },
   {
    "duration": 15,
    "start_time": "2022-04-27T12:25:58.481Z"
   },
   {
    "duration": 312,
    "start_time": "2022-04-27T12:25:58.498Z"
   },
   {
    "duration": 168,
    "start_time": "2022-04-27T12:25:58.812Z"
   },
   {
    "duration": 151,
    "start_time": "2022-04-27T12:25:58.982Z"
   },
   {
    "duration": 17,
    "start_time": "2022-04-27T12:25:59.145Z"
   },
   {
    "duration": 16,
    "start_time": "2022-04-27T12:25:59.165Z"
   },
   {
    "duration": 15,
    "start_time": "2022-04-27T12:25:59.182Z"
   },
   {
    "duration": 69,
    "start_time": "2022-04-27T12:25:59.198Z"
   },
   {
    "duration": 7,
    "start_time": "2022-04-27T12:25:59.269Z"
   },
   {
    "duration": 61,
    "start_time": "2022-04-27T12:25:59.278Z"
   },
   {
    "duration": 8,
    "start_time": "2022-04-27T12:25:59.342Z"
   },
   {
    "duration": 16,
    "start_time": "2022-04-27T12:25:59.352Z"
   },
   {
    "duration": 26,
    "start_time": "2022-04-27T12:25:59.370Z"
   },
   {
    "duration": 14,
    "start_time": "2022-04-27T12:25:59.398Z"
   },
   {
    "duration": 13,
    "start_time": "2022-04-27T12:25:59.441Z"
   },
   {
    "duration": 18,
    "start_time": "2022-04-27T12:25:59.456Z"
   },
   {
    "duration": 257,
    "start_time": "2022-04-27T12:32:05.527Z"
   },
   {
    "duration": 370,
    "start_time": "2022-04-27T12:32:22.109Z"
   },
   {
    "duration": 302,
    "start_time": "2022-04-27T12:33:05.310Z"
   },
   {
    "duration": 137,
    "start_time": "2022-04-27T12:35:03.866Z"
   },
   {
    "duration": 277,
    "start_time": "2022-04-27T12:35:50.391Z"
   },
   {
    "duration": 278,
    "start_time": "2022-04-27T12:35:56.688Z"
   },
   {
    "duration": 286,
    "start_time": "2022-04-27T12:37:48.589Z"
   },
   {
    "duration": 286,
    "start_time": "2022-04-27T12:38:16.195Z"
   },
   {
    "duration": 349,
    "start_time": "2022-04-27T12:39:27.730Z"
   },
   {
    "duration": 343,
    "start_time": "2022-04-27T12:44:08.055Z"
   },
   {
    "duration": 327,
    "start_time": "2022-04-27T12:44:58.473Z"
   },
   {
    "duration": 19,
    "start_time": "2022-04-27T13:26:30.049Z"
   },
   {
    "duration": 1955,
    "start_time": "2022-04-27T13:27:05.956Z"
   },
   {
    "duration": 21,
    "start_time": "2022-04-27T13:27:15.647Z"
   },
   {
    "duration": 16,
    "start_time": "2022-04-27T13:27:26.316Z"
   },
   {
    "duration": 20,
    "start_time": "2022-04-27T13:27:34.094Z"
   },
   {
    "duration": 26,
    "start_time": "2022-04-27T13:27:50.143Z"
   },
   {
    "duration": 17,
    "start_time": "2022-04-27T13:28:02.796Z"
   },
   {
    "duration": 16,
    "start_time": "2022-04-27T13:28:24.509Z"
   },
   {
    "duration": 19,
    "start_time": "2022-04-27T13:28:33.317Z"
   },
   {
    "duration": 16,
    "start_time": "2022-04-27T13:28:38.956Z"
   },
   {
    "duration": 1145,
    "start_time": "2022-04-27T13:50:11.487Z"
   },
   {
    "duration": 59,
    "start_time": "2022-04-27T13:50:12.637Z"
   },
   {
    "duration": 22,
    "start_time": "2022-04-27T13:50:12.697Z"
   },
   {
    "duration": 16,
    "start_time": "2022-04-27T13:50:12.721Z"
   },
   {
    "duration": 26,
    "start_time": "2022-04-27T13:50:12.740Z"
   },
   {
    "duration": 17,
    "start_time": "2022-04-27T13:50:12.769Z"
   },
   {
    "duration": 29,
    "start_time": "2022-04-27T13:50:12.788Z"
   },
   {
    "duration": 34,
    "start_time": "2022-04-27T13:50:12.818Z"
   },
   {
    "duration": 10,
    "start_time": "2022-04-27T13:50:12.854Z"
   },
   {
    "duration": 18,
    "start_time": "2022-04-27T13:50:12.867Z"
   },
   {
    "duration": 2,
    "start_time": "2022-04-27T13:50:12.887Z"
   },
   {
    "duration": 45,
    "start_time": "2022-04-27T13:50:12.891Z"
   },
   {
    "duration": 5,
    "start_time": "2022-04-27T13:50:12.941Z"
   },
   {
    "duration": 22,
    "start_time": "2022-04-27T13:50:12.948Z"
   },
   {
    "duration": 215,
    "start_time": "2022-04-27T13:50:12.972Z"
   },
   {
    "duration": 17,
    "start_time": "2022-04-27T13:50:13.189Z"
   },
   {
    "duration": 4,
    "start_time": "2022-04-27T13:50:13.208Z"
   },
   {
    "duration": 281,
    "start_time": "2022-04-27T13:50:13.241Z"
   },
   {
    "duration": 43,
    "start_time": "2022-04-27T13:50:13.523Z"
   },
   {
    "duration": 10,
    "start_time": "2022-04-27T13:50:13.568Z"
   },
   {
    "duration": 334,
    "start_time": "2022-04-27T13:50:13.580Z"
   },
   {
    "duration": 28,
    "start_time": "2022-04-27T13:50:13.916Z"
   },
   {
    "duration": 18,
    "start_time": "2022-04-27T13:50:13.946Z"
   },
   {
    "duration": 318,
    "start_time": "2022-04-27T13:50:13.966Z"
   },
   {
    "duration": 310,
    "start_time": "2022-04-27T13:50:14.286Z"
   },
   {
    "duration": 301,
    "start_time": "2022-04-27T13:50:14.598Z"
   },
   {
    "duration": 435,
    "start_time": "2022-04-27T13:50:14.901Z"
   },
   {
    "duration": 17,
    "start_time": "2022-04-27T13:50:15.344Z"
   },
   {
    "duration": 24,
    "start_time": "2022-04-27T13:50:15.363Z"
   },
   {
    "duration": 22,
    "start_time": "2022-04-27T13:50:15.388Z"
   },
   {
    "duration": 46,
    "start_time": "2022-04-27T13:50:15.411Z"
   },
   {
    "duration": 43,
    "start_time": "2022-04-27T13:50:15.459Z"
   },
   {
    "duration": 7,
    "start_time": "2022-04-27T13:50:15.504Z"
   },
   {
    "duration": 73,
    "start_time": "2022-04-27T13:50:15.512Z"
   },
   {
    "duration": 6,
    "start_time": "2022-04-27T13:50:15.587Z"
   },
   {
    "duration": 32,
    "start_time": "2022-04-27T13:50:15.594Z"
   },
   {
    "duration": 56,
    "start_time": "2022-04-27T13:50:15.628Z"
   },
   {
    "duration": 15,
    "start_time": "2022-04-27T13:50:15.686Z"
   },
   {
    "duration": 26,
    "start_time": "2022-04-27T13:50:15.703Z"
   },
   {
    "duration": 28,
    "start_time": "2022-04-27T13:50:15.731Z"
   },
   {
    "duration": 124,
    "start_time": "2022-04-27T13:55:24.355Z"
   },
   {
    "duration": 14,
    "start_time": "2022-04-27T13:55:44.963Z"
   },
   {
    "duration": 16,
    "start_time": "2022-04-27T13:58:00.360Z"
   },
   {
    "duration": 19,
    "start_time": "2022-04-27T13:58:13.432Z"
   },
   {
    "duration": 14,
    "start_time": "2022-04-27T13:58:16.312Z"
   },
   {
    "duration": 1249,
    "start_time": "2022-04-27T13:58:38.858Z"
   },
   {
    "duration": 51,
    "start_time": "2022-04-27T13:58:40.110Z"
   },
   {
    "duration": 21,
    "start_time": "2022-04-27T13:58:40.163Z"
   },
   {
    "duration": 16,
    "start_time": "2022-04-27T13:58:40.186Z"
   },
   {
    "duration": 41,
    "start_time": "2022-04-27T13:58:40.204Z"
   },
   {
    "duration": 21,
    "start_time": "2022-04-27T13:58:40.247Z"
   },
   {
    "duration": 26,
    "start_time": "2022-04-27T13:58:40.270Z"
   },
   {
    "duration": 45,
    "start_time": "2022-04-27T13:58:40.298Z"
   },
   {
    "duration": 19,
    "start_time": "2022-04-27T13:58:40.345Z"
   },
   {
    "duration": 19,
    "start_time": "2022-04-27T13:58:40.368Z"
   },
   {
    "duration": 4,
    "start_time": "2022-04-27T13:58:40.389Z"
   },
   {
    "duration": 47,
    "start_time": "2022-04-27T13:58:40.395Z"
   },
   {
    "duration": 18,
    "start_time": "2022-04-27T13:58:40.444Z"
   },
   {
    "duration": 25,
    "start_time": "2022-04-27T13:58:40.464Z"
   },
   {
    "duration": 242,
    "start_time": "2022-04-27T13:58:40.491Z"
   },
   {
    "duration": 21,
    "start_time": "2022-04-27T13:58:40.735Z"
   },
   {
    "duration": 5,
    "start_time": "2022-04-27T13:58:40.758Z"
   },
   {
    "duration": 329,
    "start_time": "2022-04-27T13:58:40.765Z"
   },
   {
    "duration": 27,
    "start_time": "2022-04-27T13:58:41.096Z"
   },
   {
    "duration": 12,
    "start_time": "2022-04-27T13:58:41.125Z"
   },
   {
    "duration": 350,
    "start_time": "2022-04-27T13:58:41.142Z"
   },
   {
    "duration": 19,
    "start_time": "2022-04-27T13:58:41.494Z"
   },
   {
    "duration": 20,
    "start_time": "2022-04-27T13:58:41.537Z"
   },
   {
    "duration": 326,
    "start_time": "2022-04-27T13:58:41.560Z"
   },
   {
    "duration": 317,
    "start_time": "2022-04-27T13:58:41.889Z"
   },
   {
    "duration": 305,
    "start_time": "2022-04-27T13:58:42.208Z"
   },
   {
    "duration": 447,
    "start_time": "2022-04-27T13:58:42.515Z"
   },
   {
    "duration": 16,
    "start_time": "2022-04-27T13:58:42.966Z"
   },
   {
    "duration": 23,
    "start_time": "2022-04-27T13:58:42.985Z"
   },
   {
    "duration": 48,
    "start_time": "2022-04-27T13:58:43.009Z"
   },
   {
    "duration": 21,
    "start_time": "2022-04-27T13:58:43.059Z"
   },
   {
    "duration": 64,
    "start_time": "2022-04-27T13:58:43.082Z"
   },
   {
    "duration": 134,
    "start_time": "2022-04-27T13:58:43.149Z"
   },
   {
    "duration": 0,
    "start_time": "2022-04-27T13:58:43.285Z"
   },
   {
    "duration": 0,
    "start_time": "2022-04-27T13:58:43.286Z"
   },
   {
    "duration": 0,
    "start_time": "2022-04-27T13:58:43.287Z"
   },
   {
    "duration": 0,
    "start_time": "2022-04-27T13:58:43.288Z"
   },
   {
    "duration": 0,
    "start_time": "2022-04-27T13:58:43.289Z"
   },
   {
    "duration": 0,
    "start_time": "2022-04-27T13:58:43.290Z"
   },
   {
    "duration": 0,
    "start_time": "2022-04-27T13:58:43.291Z"
   },
   {
    "duration": 155,
    "start_time": "2022-04-27T13:58:59.172Z"
   },
   {
    "duration": 18,
    "start_time": "2022-04-27T13:59:10.899Z"
   },
   {
    "duration": 15,
    "start_time": "2022-04-27T13:59:27.987Z"
   },
   {
    "duration": 16,
    "start_time": "2022-04-27T13:59:50.932Z"
   },
   {
    "duration": 12,
    "start_time": "2022-04-27T14:00:10.834Z"
   },
   {
    "duration": 129,
    "start_time": "2022-04-27T14:00:17.716Z"
   },
   {
    "duration": 83,
    "start_time": "2022-04-27T14:00:57.928Z"
   },
   {
    "duration": 371,
    "start_time": "2022-04-27T14:01:48.000Z"
   },
   {
    "duration": 108,
    "start_time": "2022-04-27T14:02:05.071Z"
   },
   {
    "duration": 131,
    "start_time": "2022-04-27T14:02:09.280Z"
   },
   {
    "duration": 98,
    "start_time": "2022-04-27T14:03:46.796Z"
   },
   {
    "duration": 170,
    "start_time": "2022-04-27T14:03:51.427Z"
   },
   {
    "duration": 207,
    "start_time": "2022-04-27T14:05:19.274Z"
   },
   {
    "duration": 218,
    "start_time": "2022-04-27T14:05:59.659Z"
   },
   {
    "duration": 251,
    "start_time": "2022-04-27T14:06:07.664Z"
   },
   {
    "duration": 177,
    "start_time": "2022-04-27T14:06:17.992Z"
   },
   {
    "duration": 157,
    "start_time": "2022-04-27T14:06:40.264Z"
   },
   {
    "duration": 5,
    "start_time": "2022-04-27T14:06:49.664Z"
   },
   {
    "duration": 208,
    "start_time": "2022-04-27T14:06:53.626Z"
   },
   {
    "duration": 90,
    "start_time": "2022-04-27T14:08:31.629Z"
   },
   {
    "duration": 96,
    "start_time": "2022-04-27T14:08:39.485Z"
   },
   {
    "duration": 39,
    "start_time": "2022-04-27T14:09:47.994Z"
   },
   {
    "duration": 1282,
    "start_time": "2022-04-27T14:34:26.518Z"
   },
   {
    "duration": 64,
    "start_time": "2022-04-27T14:34:27.802Z"
   },
   {
    "duration": 21,
    "start_time": "2022-04-27T14:34:27.868Z"
   },
   {
    "duration": 16,
    "start_time": "2022-04-27T14:34:27.892Z"
   },
   {
    "duration": 43,
    "start_time": "2022-04-27T14:34:27.910Z"
   },
   {
    "duration": 31,
    "start_time": "2022-04-27T14:34:27.955Z"
   },
   {
    "duration": 30,
    "start_time": "2022-04-27T14:34:27.988Z"
   },
   {
    "duration": 36,
    "start_time": "2022-04-27T14:34:28.020Z"
   },
   {
    "duration": 18,
    "start_time": "2022-04-27T14:34:28.058Z"
   },
   {
    "duration": 20,
    "start_time": "2022-04-27T14:34:28.079Z"
   },
   {
    "duration": 3,
    "start_time": "2022-04-27T14:34:28.101Z"
   },
   {
    "duration": 28,
    "start_time": "2022-04-27T14:34:28.105Z"
   },
   {
    "duration": 32,
    "start_time": "2022-04-27T14:34:28.135Z"
   },
   {
    "duration": 20,
    "start_time": "2022-04-27T14:34:28.170Z"
   },
   {
    "duration": 230,
    "start_time": "2022-04-27T14:34:28.192Z"
   },
   {
    "duration": 28,
    "start_time": "2022-04-27T14:34:28.424Z"
   },
   {
    "duration": 20,
    "start_time": "2022-04-27T14:34:28.454Z"
   },
   {
    "duration": 338,
    "start_time": "2022-04-27T14:34:28.475Z"
   },
   {
    "duration": 33,
    "start_time": "2022-04-27T14:34:28.816Z"
   },
   {
    "duration": 12,
    "start_time": "2022-04-27T14:34:28.856Z"
   },
   {
    "duration": 363,
    "start_time": "2022-04-27T14:34:28.873Z"
   },
   {
    "duration": 24,
    "start_time": "2022-04-27T14:34:29.241Z"
   },
   {
    "duration": 21,
    "start_time": "2022-04-27T14:34:29.269Z"
   },
   {
    "duration": 349,
    "start_time": "2022-04-27T14:34:29.291Z"
   },
   {
    "duration": 333,
    "start_time": "2022-04-27T14:34:29.642Z"
   },
   {
    "duration": 345,
    "start_time": "2022-04-27T14:34:29.976Z"
   },
   {
    "duration": 458,
    "start_time": "2022-04-27T14:34:30.322Z"
   },
   {
    "duration": 15,
    "start_time": "2022-04-27T14:34:30.784Z"
   },
   {
    "duration": 53,
    "start_time": "2022-04-27T14:34:30.801Z"
   },
   {
    "duration": 22,
    "start_time": "2022-04-27T14:34:30.856Z"
   },
   {
    "duration": 19,
    "start_time": "2022-04-27T14:34:30.880Z"
   },
   {
    "duration": 69,
    "start_time": "2022-04-27T14:34:30.901Z"
   },
   {
    "duration": 119,
    "start_time": "2022-04-27T14:34:30.971Z"
   },
   {
    "duration": 64,
    "start_time": "2022-04-27T14:34:31.091Z"
   },
   {
    "duration": 8,
    "start_time": "2022-04-27T14:34:31.157Z"
   },
   {
    "duration": 18,
    "start_time": "2022-04-27T14:34:31.167Z"
   },
   {
    "duration": 33,
    "start_time": "2022-04-27T14:34:31.187Z"
   },
   {
    "duration": 23,
    "start_time": "2022-04-27T14:34:31.241Z"
   },
   {
    "duration": 13,
    "start_time": "2022-04-27T14:34:31.266Z"
   },
   {
    "duration": 14,
    "start_time": "2022-04-27T14:34:31.281Z"
   },
   {
    "duration": 17,
    "start_time": "2022-04-27T14:43:59.772Z"
   },
   {
    "duration": 36,
    "start_time": "2022-04-27T14:45:47.626Z"
   },
   {
    "duration": 37,
    "start_time": "2022-04-27T14:46:04.098Z"
   },
   {
    "duration": 189,
    "start_time": "2022-04-27T14:46:54.937Z"
   },
   {
    "duration": 167,
    "start_time": "2022-04-27T14:47:13.666Z"
   },
   {
    "duration": 209,
    "start_time": "2022-04-27T14:47:36.999Z"
   },
   {
    "duration": 178,
    "start_time": "2022-04-27T14:47:43.424Z"
   },
   {
    "duration": 55,
    "start_time": "2022-04-27T14:48:02.826Z"
   },
   {
    "duration": 1217,
    "start_time": "2022-04-27T14:59:31.966Z"
   },
   {
    "duration": 2401,
    "start_time": "2022-04-27T14:59:33.185Z"
   },
   {
    "duration": 23,
    "start_time": "2022-04-27T14:59:35.588Z"
   },
   {
    "duration": 15,
    "start_time": "2022-04-27T14:59:35.613Z"
   },
   {
    "duration": 28,
    "start_time": "2022-04-27T14:59:35.630Z"
   },
   {
    "duration": 19,
    "start_time": "2022-04-27T14:59:35.659Z"
   },
   {
    "duration": 26,
    "start_time": "2022-04-27T14:59:35.679Z"
   },
   {
    "duration": 34,
    "start_time": "2022-04-27T14:59:35.707Z"
   },
   {
    "duration": 28,
    "start_time": "2022-04-27T14:59:35.743Z"
   },
   {
    "duration": 18,
    "start_time": "2022-04-27T14:59:35.775Z"
   },
   {
    "duration": 3,
    "start_time": "2022-04-27T14:59:35.795Z"
   },
   {
    "duration": 21,
    "start_time": "2022-04-27T14:59:35.799Z"
   },
   {
    "duration": 7,
    "start_time": "2022-04-27T14:59:35.837Z"
   },
   {
    "duration": 33,
    "start_time": "2022-04-27T14:59:35.846Z"
   },
   {
    "duration": 232,
    "start_time": "2022-04-27T14:59:35.881Z"
   },
   {
    "duration": 17,
    "start_time": "2022-04-27T14:59:36.115Z"
   },
   {
    "duration": 20,
    "start_time": "2022-04-27T14:59:36.142Z"
   },
   {
    "duration": 330,
    "start_time": "2022-04-27T14:59:36.164Z"
   },
   {
    "duration": 24,
    "start_time": "2022-04-27T14:59:36.496Z"
   },
   {
    "duration": 8,
    "start_time": "2022-04-27T14:59:36.522Z"
   },
   {
    "duration": 359,
    "start_time": "2022-04-27T14:59:36.531Z"
   },
   {
    "duration": 16,
    "start_time": "2022-04-27T14:59:36.892Z"
   },
   {
    "duration": 18,
    "start_time": "2022-04-27T14:59:36.910Z"
   },
   {
    "duration": 338,
    "start_time": "2022-04-27T14:59:36.939Z"
   },
   {
    "duration": 313,
    "start_time": "2022-04-27T14:59:37.279Z"
   },
   {
    "duration": 318,
    "start_time": "2022-04-27T14:59:37.594Z"
   },
   {
    "duration": 459,
    "start_time": "2022-04-27T14:59:37.914Z"
   },
   {
    "duration": 14,
    "start_time": "2022-04-27T14:59:38.377Z"
   },
   {
    "duration": 16,
    "start_time": "2022-04-27T14:59:38.393Z"
   },
   {
    "duration": 41,
    "start_time": "2022-04-27T14:59:38.410Z"
   },
   {
    "duration": 41,
    "start_time": "2022-04-27T14:59:38.460Z"
   },
   {
    "duration": 99,
    "start_time": "2022-04-27T14:59:38.503Z"
   },
   {
    "duration": 59,
    "start_time": "2022-04-27T14:59:38.604Z"
   },
   {
    "duration": 6,
    "start_time": "2022-04-27T14:59:38.666Z"
   },
   {
    "duration": 19,
    "start_time": "2022-04-27T14:59:38.673Z"
   },
   {
    "duration": 78,
    "start_time": "2022-04-27T14:59:38.693Z"
   },
   {
    "duration": 14,
    "start_time": "2022-04-27T14:59:38.772Z"
   },
   {
    "duration": 12,
    "start_time": "2022-04-27T14:59:38.788Z"
   },
   {
    "duration": 13,
    "start_time": "2022-04-27T14:59:38.802Z"
   },
   {
    "duration": 29,
    "start_time": "2022-04-27T14:59:57.059Z"
   },
   {
    "duration": 26,
    "start_time": "2022-04-27T15:00:28.873Z"
   },
   {
    "duration": 27,
    "start_time": "2022-04-27T15:00:49.952Z"
   },
   {
    "duration": 5,
    "start_time": "2022-04-27T15:03:08.588Z"
   },
   {
    "duration": 1121,
    "start_time": "2022-04-27T15:03:13.883Z"
   },
   {
    "duration": 52,
    "start_time": "2022-04-27T15:03:15.006Z"
   },
   {
    "duration": 21,
    "start_time": "2022-04-27T15:03:15.060Z"
   },
   {
    "duration": 15,
    "start_time": "2022-04-27T15:03:15.084Z"
   },
   {
    "duration": 46,
    "start_time": "2022-04-27T15:03:15.101Z"
   },
   {
    "duration": 17,
    "start_time": "2022-04-27T15:03:15.149Z"
   },
   {
    "duration": 24,
    "start_time": "2022-04-27T15:03:15.168Z"
   },
   {
    "duration": 16,
    "start_time": "2022-04-27T15:03:15.194Z"
   },
   {
    "duration": 32,
    "start_time": "2022-04-27T15:03:15.211Z"
   },
   {
    "duration": 22,
    "start_time": "2022-04-27T15:03:15.247Z"
   },
   {
    "duration": 5,
    "start_time": "2022-04-27T15:03:15.270Z"
   },
   {
    "duration": 19,
    "start_time": "2022-04-27T15:03:15.276Z"
   },
   {
    "duration": 10,
    "start_time": "2022-04-27T15:03:15.297Z"
   },
   {
    "duration": 45,
    "start_time": "2022-04-27T15:03:15.309Z"
   },
   {
    "duration": 211,
    "start_time": "2022-04-27T15:03:15.357Z"
   },
   {
    "duration": 18,
    "start_time": "2022-04-27T15:03:15.571Z"
   },
   {
    "duration": 6,
    "start_time": "2022-04-27T15:03:15.591Z"
   },
   {
    "duration": 311,
    "start_time": "2022-04-27T15:03:15.598Z"
   },
   {
    "duration": 33,
    "start_time": "2022-04-27T15:03:15.911Z"
   },
   {
    "duration": 9,
    "start_time": "2022-04-27T15:03:15.946Z"
   },
   {
    "duration": 338,
    "start_time": "2022-04-27T15:03:15.956Z"
   },
   {
    "duration": 16,
    "start_time": "2022-04-27T15:03:16.296Z"
   },
   {
    "duration": 33,
    "start_time": "2022-04-27T15:03:16.314Z"
   },
   {
    "duration": 313,
    "start_time": "2022-04-27T15:03:16.349Z"
   },
   {
    "duration": 288,
    "start_time": "2022-04-27T15:03:16.664Z"
   },
   {
    "duration": 301,
    "start_time": "2022-04-27T15:03:16.953Z"
   },
   {
    "duration": 394,
    "start_time": "2022-04-27T15:03:17.255Z"
   },
   {
    "duration": 16,
    "start_time": "2022-04-27T15:03:17.653Z"
   },
   {
    "duration": 16,
    "start_time": "2022-04-27T15:03:17.671Z"
   },
   {
    "duration": 15,
    "start_time": "2022-04-27T15:03:17.689Z"
   },
   {
    "duration": 75,
    "start_time": "2022-04-27T15:03:17.706Z"
   },
   {
    "duration": 112,
    "start_time": "2022-04-27T15:03:17.783Z"
   },
   {
    "duration": 55,
    "start_time": "2022-04-27T15:03:17.897Z"
   },
   {
    "duration": 6,
    "start_time": "2022-04-27T15:03:17.954Z"
   },
   {
    "duration": 18,
    "start_time": "2022-04-27T15:03:17.961Z"
   },
   {
    "duration": 63,
    "start_time": "2022-04-27T15:03:17.981Z"
   },
   {
    "duration": 15,
    "start_time": "2022-04-27T15:03:18.049Z"
   },
   {
    "duration": 27,
    "start_time": "2022-04-27T15:03:18.065Z"
   },
   {
    "duration": 10,
    "start_time": "2022-04-27T15:03:18.094Z"
   },
   {
    "duration": 14,
    "start_time": "2022-04-27T15:08:08.254Z"
   },
   {
    "duration": 1269,
    "start_time": "2022-04-27T15:09:33.518Z"
   },
   {
    "duration": 48,
    "start_time": "2022-04-27T15:09:34.789Z"
   },
   {
    "duration": 31,
    "start_time": "2022-04-27T15:09:34.839Z"
   },
   {
    "duration": 17,
    "start_time": "2022-04-27T15:09:34.873Z"
   },
   {
    "duration": 20,
    "start_time": "2022-04-27T15:09:34.892Z"
   },
   {
    "duration": 49,
    "start_time": "2022-04-27T15:09:34.914Z"
   },
   {
    "duration": 28,
    "start_time": "2022-04-27T15:09:34.964Z"
   },
   {
    "duration": 17,
    "start_time": "2022-04-27T15:09:34.994Z"
   },
   {
    "duration": 38,
    "start_time": "2022-04-27T15:09:35.013Z"
   },
   {
    "duration": 24,
    "start_time": "2022-04-27T15:09:35.056Z"
   },
   {
    "duration": 4,
    "start_time": "2022-04-27T15:09:35.082Z"
   },
   {
    "duration": 20,
    "start_time": "2022-04-27T15:09:35.088Z"
   },
   {
    "duration": 8,
    "start_time": "2022-04-27T15:09:35.110Z"
   },
   {
    "duration": 23,
    "start_time": "2022-04-27T15:09:35.140Z"
   },
   {
    "duration": 237,
    "start_time": "2022-04-27T15:09:35.164Z"
   },
   {
    "duration": 19,
    "start_time": "2022-04-27T15:09:35.403Z"
   },
   {
    "duration": 35,
    "start_time": "2022-04-27T15:09:35.424Z"
   },
   {
    "duration": 316,
    "start_time": "2022-04-27T15:09:35.461Z"
   },
   {
    "duration": 26,
    "start_time": "2022-04-27T15:09:35.779Z"
   },
   {
    "duration": 8,
    "start_time": "2022-04-27T15:09:35.807Z"
   },
   {
    "duration": 348,
    "start_time": "2022-04-27T15:09:35.817Z"
   },
   {
    "duration": 16,
    "start_time": "2022-04-27T15:09:36.167Z"
   },
   {
    "duration": 15,
    "start_time": "2022-04-27T15:09:36.184Z"
   },
   {
    "duration": 331,
    "start_time": "2022-04-27T15:09:36.200Z"
   },
   {
    "duration": 313,
    "start_time": "2022-04-27T15:09:36.544Z"
   },
   {
    "duration": 317,
    "start_time": "2022-04-27T15:09:36.859Z"
   },
   {
    "duration": 417,
    "start_time": "2022-04-27T15:09:37.178Z"
   },
   {
    "duration": 15,
    "start_time": "2022-04-27T15:09:37.598Z"
   },
   {
    "duration": 45,
    "start_time": "2022-04-27T15:09:37.615Z"
   },
   {
    "duration": 17,
    "start_time": "2022-04-27T15:09:37.661Z"
   },
   {
    "duration": 62,
    "start_time": "2022-04-27T15:09:37.680Z"
   },
   {
    "duration": 109,
    "start_time": "2022-04-27T15:09:37.745Z"
   },
   {
    "duration": 43,
    "start_time": "2022-04-27T15:09:37.856Z"
   },
   {
    "duration": 5,
    "start_time": "2022-04-27T15:09:37.901Z"
   },
   {
    "duration": 46,
    "start_time": "2022-04-27T15:09:37.908Z"
   },
   {
    "duration": 42,
    "start_time": "2022-04-27T15:09:37.958Z"
   },
   {
    "duration": 15,
    "start_time": "2022-04-27T15:09:38.001Z"
   },
   {
    "duration": 24,
    "start_time": "2022-04-27T15:09:38.040Z"
   },
   {
    "duration": 12,
    "start_time": "2022-04-27T15:09:38.066Z"
   },
   {
    "duration": 44,
    "start_time": "2022-04-27T15:11:35.811Z"
   },
   {
    "duration": 39,
    "start_time": "2022-04-27T15:11:38.558Z"
   },
   {
    "duration": 1198,
    "start_time": "2022-04-27T15:12:05.306Z"
   },
   {
    "duration": 58,
    "start_time": "2022-04-27T15:12:06.506Z"
   },
   {
    "duration": 21,
    "start_time": "2022-04-27T15:12:06.566Z"
   },
   {
    "duration": 16,
    "start_time": "2022-04-27T15:12:06.591Z"
   },
   {
    "duration": 36,
    "start_time": "2022-04-27T15:12:06.610Z"
   },
   {
    "duration": 34,
    "start_time": "2022-04-27T15:12:06.648Z"
   },
   {
    "duration": 28,
    "start_time": "2022-04-27T15:12:06.684Z"
   },
   {
    "duration": 45,
    "start_time": "2022-04-27T15:12:06.713Z"
   },
   {
    "duration": 23,
    "start_time": "2022-04-27T15:12:06.765Z"
   },
   {
    "duration": 20,
    "start_time": "2022-04-27T15:12:06.791Z"
   },
   {
    "duration": 5,
    "start_time": "2022-04-27T15:12:06.813Z"
   },
   {
    "duration": 26,
    "start_time": "2022-04-27T15:12:06.820Z"
   },
   {
    "duration": 31,
    "start_time": "2022-04-27T15:12:06.848Z"
   },
   {
    "duration": 20,
    "start_time": "2022-04-27T15:12:06.881Z"
   },
   {
    "duration": 245,
    "start_time": "2022-04-27T15:12:06.902Z"
   },
   {
    "duration": 26,
    "start_time": "2022-04-27T15:12:07.149Z"
   },
   {
    "duration": 5,
    "start_time": "2022-04-27T15:12:07.177Z"
   },
   {
    "duration": 342,
    "start_time": "2022-04-27T15:12:07.184Z"
   },
   {
    "duration": 40,
    "start_time": "2022-04-27T15:12:07.528Z"
   },
   {
    "duration": 12,
    "start_time": "2022-04-27T15:12:07.570Z"
   },
   {
    "duration": 371,
    "start_time": "2022-04-27T15:12:07.584Z"
   },
   {
    "duration": 18,
    "start_time": "2022-04-27T15:12:07.957Z"
   },
   {
    "duration": 15,
    "start_time": "2022-04-27T15:12:07.977Z"
   },
   {
    "duration": 327,
    "start_time": "2022-04-27T15:12:07.993Z"
   },
   {
    "duration": 320,
    "start_time": "2022-04-27T15:12:08.322Z"
   },
   {
    "duration": 325,
    "start_time": "2022-04-27T15:12:08.644Z"
   },
   {
    "duration": 462,
    "start_time": "2022-04-27T15:12:08.971Z"
   },
   {
    "duration": 27,
    "start_time": "2022-04-27T15:12:09.437Z"
   },
   {
    "duration": 24,
    "start_time": "2022-04-27T15:12:09.467Z"
   },
   {
    "duration": 15,
    "start_time": "2022-04-27T15:12:09.493Z"
   },
   {
    "duration": 73,
    "start_time": "2022-04-27T15:12:09.510Z"
   },
   {
    "duration": 104,
    "start_time": "2022-04-27T15:12:09.586Z"
   },
   {
    "duration": 61,
    "start_time": "2022-04-27T15:12:09.692Z"
   },
   {
    "duration": 10,
    "start_time": "2022-04-27T15:12:09.755Z"
   },
   {
    "duration": 16,
    "start_time": "2022-04-27T15:12:09.767Z"
   },
   {
    "duration": 79,
    "start_time": "2022-04-27T15:12:09.785Z"
   },
   {
    "duration": 14,
    "start_time": "2022-04-27T15:12:09.866Z"
   },
   {
    "duration": 14,
    "start_time": "2022-04-27T15:12:09.882Z"
   },
   {
    "duration": 11,
    "start_time": "2022-04-27T15:12:09.898Z"
   },
   {
    "duration": 1196,
    "start_time": "2022-04-27T15:29:17.012Z"
   },
   {
    "duration": 64,
    "start_time": "2022-04-27T15:29:18.210Z"
   },
   {
    "duration": 21,
    "start_time": "2022-04-27T15:29:18.276Z"
   },
   {
    "duration": 15,
    "start_time": "2022-04-27T15:29:18.299Z"
   },
   {
    "duration": 43,
    "start_time": "2022-04-27T15:29:18.316Z"
   },
   {
    "duration": 18,
    "start_time": "2022-04-27T15:29:18.361Z"
   },
   {
    "duration": 24,
    "start_time": "2022-04-27T15:29:18.381Z"
   },
   {
    "duration": 45,
    "start_time": "2022-04-27T15:29:18.407Z"
   },
   {
    "duration": 17,
    "start_time": "2022-04-27T15:29:18.455Z"
   },
   {
    "duration": 20,
    "start_time": "2022-04-27T15:29:18.475Z"
   },
   {
    "duration": 4,
    "start_time": "2022-04-27T15:29:18.497Z"
   },
   {
    "duration": 19,
    "start_time": "2022-04-27T15:29:18.503Z"
   },
   {
    "duration": 29,
    "start_time": "2022-04-27T15:29:18.537Z"
   },
   {
    "duration": 15,
    "start_time": "2022-04-27T15:29:18.568Z"
   },
   {
    "duration": 217,
    "start_time": "2022-04-27T15:29:18.585Z"
   },
   {
    "duration": 16,
    "start_time": "2022-04-27T15:29:18.804Z"
   },
   {
    "duration": 6,
    "start_time": "2022-04-27T15:29:18.835Z"
   },
   {
    "duration": 337,
    "start_time": "2022-04-27T15:29:18.845Z"
   },
   {
    "duration": 26,
    "start_time": "2022-04-27T15:29:19.183Z"
   },
   {
    "duration": 8,
    "start_time": "2022-04-27T15:29:19.210Z"
   },
   {
    "duration": 344,
    "start_time": "2022-04-27T15:29:19.220Z"
   },
   {
    "duration": 17,
    "start_time": "2022-04-27T15:29:19.567Z"
   },
   {
    "duration": 15,
    "start_time": "2022-04-27T15:29:19.586Z"
   },
   {
    "duration": 338,
    "start_time": "2022-04-27T15:29:19.603Z"
   },
   {
    "duration": 309,
    "start_time": "2022-04-27T15:29:19.947Z"
   },
   {
    "duration": 310,
    "start_time": "2022-04-27T15:29:20.258Z"
   },
   {
    "duration": 414,
    "start_time": "2022-04-27T15:29:20.570Z"
   },
   {
    "duration": 15,
    "start_time": "2022-04-27T15:29:20.988Z"
   },
   {
    "duration": 44,
    "start_time": "2022-04-27T15:29:21.004Z"
   },
   {
    "duration": 17,
    "start_time": "2022-04-27T15:29:21.051Z"
   },
   {
    "duration": 43,
    "start_time": "2022-04-27T15:29:21.070Z"
   },
   {
    "duration": 125,
    "start_time": "2022-04-27T15:29:21.114Z"
   },
   {
    "duration": 54,
    "start_time": "2022-04-27T15:29:21.242Z"
   },
   {
    "duration": 6,
    "start_time": "2022-04-27T15:29:21.298Z"
   },
   {
    "duration": 34,
    "start_time": "2022-04-27T15:29:21.306Z"
   },
   {
    "duration": 51,
    "start_time": "2022-04-27T15:29:21.346Z"
   },
   {
    "duration": 16,
    "start_time": "2022-04-27T15:29:21.399Z"
   },
   {
    "duration": 28,
    "start_time": "2022-04-27T15:29:21.417Z"
   },
   {
    "duration": 15,
    "start_time": "2022-04-27T15:29:21.447Z"
   },
   {
    "duration": 1198,
    "start_time": "2022-04-28T06:13:39.964Z"
   },
   {
    "duration": 40,
    "start_time": "2022-04-28T06:13:41.164Z"
   },
   {
    "duration": 19,
    "start_time": "2022-04-28T06:13:41.205Z"
   },
   {
    "duration": 13,
    "start_time": "2022-04-28T06:13:41.227Z"
   },
   {
    "duration": 14,
    "start_time": "2022-04-28T06:13:41.242Z"
   },
   {
    "duration": 16,
    "start_time": "2022-04-28T06:13:41.258Z"
   },
   {
    "duration": 49,
    "start_time": "2022-04-28T06:13:41.275Z"
   },
   {
    "duration": 16,
    "start_time": "2022-04-28T06:13:41.325Z"
   },
   {
    "duration": 14,
    "start_time": "2022-04-28T06:13:41.342Z"
   },
   {
    "duration": 20,
    "start_time": "2022-04-28T06:13:41.359Z"
   },
   {
    "duration": 5,
    "start_time": "2022-04-28T06:13:41.381Z"
   },
   {
    "duration": 37,
    "start_time": "2022-04-28T06:13:41.388Z"
   },
   {
    "duration": 6,
    "start_time": "2022-04-28T06:13:41.427Z"
   },
   {
    "duration": 15,
    "start_time": "2022-04-28T06:13:41.435Z"
   },
   {
    "duration": 188,
    "start_time": "2022-04-28T06:13:41.452Z"
   },
   {
    "duration": 16,
    "start_time": "2022-04-28T06:13:41.642Z"
   },
   {
    "duration": 4,
    "start_time": "2022-04-28T06:13:41.660Z"
   },
   {
    "duration": 254,
    "start_time": "2022-04-28T06:13:41.666Z"
   },
   {
    "duration": 25,
    "start_time": "2022-04-28T06:13:41.922Z"
   },
   {
    "duration": 8,
    "start_time": "2022-04-28T06:13:41.948Z"
   },
   {
    "duration": 269,
    "start_time": "2022-04-28T06:13:41.958Z"
   },
   {
    "duration": 15,
    "start_time": "2022-04-28T06:13:42.229Z"
   },
   {
    "duration": 14,
    "start_time": "2022-04-28T06:13:42.246Z"
   },
   {
    "duration": 243,
    "start_time": "2022-04-28T06:13:42.262Z"
   },
   {
    "duration": 233,
    "start_time": "2022-04-28T06:13:42.507Z"
   },
   {
    "duration": 232,
    "start_time": "2022-04-28T06:13:42.742Z"
   },
   {
    "duration": 308,
    "start_time": "2022-04-28T06:13:42.976Z"
   },
   {
    "duration": 13,
    "start_time": "2022-04-28T06:13:43.287Z"
   },
   {
    "duration": 29,
    "start_time": "2022-04-28T06:13:43.302Z"
   },
   {
    "duration": 13,
    "start_time": "2022-04-28T06:13:43.332Z"
   },
   {
    "duration": 35,
    "start_time": "2022-04-28T06:13:43.346Z"
   },
   {
    "duration": 89,
    "start_time": "2022-04-28T06:13:43.383Z"
   },
   {
    "duration": 32,
    "start_time": "2022-04-28T06:13:43.473Z"
   },
   {
    "duration": 18,
    "start_time": "2022-04-28T06:13:43.506Z"
   },
   {
    "duration": 11,
    "start_time": "2022-04-28T06:13:43.526Z"
   },
   {
    "duration": 32,
    "start_time": "2022-04-28T06:13:43.539Z"
   },
   {
    "duration": 12,
    "start_time": "2022-04-28T06:13:43.573Z"
   },
   {
    "duration": 38,
    "start_time": "2022-04-28T06:13:43.587Z"
   },
   {
    "duration": 10,
    "start_time": "2022-04-28T06:13:43.627Z"
   },
   {
    "duration": 7,
    "start_time": "2022-04-28T06:24:29.319Z"
   },
   {
    "duration": 11,
    "start_time": "2022-04-28T06:25:02.799Z"
   },
   {
    "duration": 1293,
    "start_time": "2022-04-28T07:45:03.300Z"
   },
   {
    "duration": 34,
    "start_time": "2022-04-28T07:45:04.595Z"
   },
   {
    "duration": 24,
    "start_time": "2022-04-28T07:45:04.631Z"
   },
   {
    "duration": 15,
    "start_time": "2022-04-28T07:45:04.657Z"
   },
   {
    "duration": 14,
    "start_time": "2022-04-28T07:45:04.673Z"
   },
   {
    "duration": 14,
    "start_time": "2022-04-28T07:45:04.689Z"
   },
   {
    "duration": 19,
    "start_time": "2022-04-28T07:45:04.704Z"
   },
   {
    "duration": 38,
    "start_time": "2022-04-28T07:45:04.724Z"
   },
   {
    "duration": 9,
    "start_time": "2022-04-28T07:45:04.764Z"
   },
   {
    "duration": 16,
    "start_time": "2022-04-28T07:45:04.776Z"
   },
   {
    "duration": 3,
    "start_time": "2022-04-28T07:45:04.794Z"
   },
   {
    "duration": 15,
    "start_time": "2022-04-28T07:45:04.798Z"
   },
   {
    "duration": 8,
    "start_time": "2022-04-28T07:45:04.815Z"
   },
   {
    "duration": 35,
    "start_time": "2022-04-28T07:45:04.824Z"
   },
   {
    "duration": 169,
    "start_time": "2022-04-28T07:45:04.861Z"
   },
   {
    "duration": 24,
    "start_time": "2022-04-28T07:45:05.032Z"
   },
   {
    "duration": 17,
    "start_time": "2022-04-28T07:45:05.057Z"
   },
   {
    "duration": 251,
    "start_time": "2022-04-28T07:45:05.076Z"
   },
   {
    "duration": 23,
    "start_time": "2022-04-28T07:45:05.329Z"
   },
   {
    "duration": 7,
    "start_time": "2022-04-28T07:45:05.353Z"
   },
   {
    "duration": 258,
    "start_time": "2022-04-28T07:45:05.361Z"
   },
   {
    "duration": 14,
    "start_time": "2022-04-28T07:45:05.621Z"
   },
   {
    "duration": 20,
    "start_time": "2022-04-28T07:45:05.637Z"
   },
   {
    "duration": 232,
    "start_time": "2022-04-28T07:45:05.659Z"
   },
   {
    "duration": 233,
    "start_time": "2022-04-28T07:45:05.892Z"
   },
   {
    "duration": 246,
    "start_time": "2022-04-28T07:45:06.126Z"
   },
   {
    "duration": 323,
    "start_time": "2022-04-28T07:45:06.373Z"
   },
   {
    "duration": 66,
    "start_time": "2022-04-28T07:45:06.699Z"
   },
   {
    "duration": 239,
    "start_time": "2022-04-28T07:45:06.766Z"
   },
   {
    "duration": 38,
    "start_time": "2022-04-28T07:45:07.007Z"
   },
   {
    "duration": 20,
    "start_time": "2022-04-28T07:45:07.047Z"
   },
   {
    "duration": 76,
    "start_time": "2022-04-28T07:45:07.069Z"
   },
   {
    "duration": 62,
    "start_time": "2022-04-28T07:45:07.147Z"
   },
   {
    "duration": 49,
    "start_time": "2022-04-28T07:45:07.211Z"
   },
   {
    "duration": 11,
    "start_time": "2022-04-28T07:45:07.261Z"
   },
   {
    "duration": 28,
    "start_time": "2022-04-28T07:45:07.273Z"
   },
   {
    "duration": 52,
    "start_time": "2022-04-28T07:45:07.303Z"
   },
   {
    "duration": 65,
    "start_time": "2022-04-28T07:45:07.357Z"
   },
   {
    "duration": 53,
    "start_time": "2022-04-28T07:45:07.424Z"
   },
   {
    "duration": 47,
    "start_time": "2022-04-28T07:45:07.478Z"
   },
   {
    "duration": 5,
    "start_time": "2022-04-28T07:47:48.454Z"
   },
   {
    "duration": 1045,
    "start_time": "2022-04-28T07:47:52.764Z"
   },
   {
    "duration": 39,
    "start_time": "2022-04-28T07:47:53.811Z"
   },
   {
    "duration": 18,
    "start_time": "2022-04-28T07:47:53.852Z"
   },
   {
    "duration": 27,
    "start_time": "2022-04-28T07:47:53.872Z"
   },
   {
    "duration": 21,
    "start_time": "2022-04-28T07:47:53.900Z"
   },
   {
    "duration": 25,
    "start_time": "2022-04-28T07:47:53.923Z"
   },
   {
    "duration": 45,
    "start_time": "2022-04-28T07:47:53.949Z"
   },
   {
    "duration": 31,
    "start_time": "2022-04-28T07:47:53.996Z"
   },
   {
    "duration": 18,
    "start_time": "2022-04-28T07:47:54.029Z"
   },
   {
    "duration": 52,
    "start_time": "2022-04-28T07:47:54.050Z"
   },
   {
    "duration": 24,
    "start_time": "2022-04-28T07:47:54.104Z"
   },
   {
    "duration": 16,
    "start_time": "2022-04-28T07:47:54.130Z"
   },
   {
    "duration": 25,
    "start_time": "2022-04-28T07:47:54.148Z"
   },
   {
    "duration": 31,
    "start_time": "2022-04-28T07:47:54.175Z"
   },
   {
    "duration": 178,
    "start_time": "2022-04-28T07:47:54.207Z"
   },
   {
    "duration": 15,
    "start_time": "2022-04-28T07:47:54.387Z"
   },
   {
    "duration": 4,
    "start_time": "2022-04-28T07:47:54.404Z"
   },
   {
    "duration": 258,
    "start_time": "2022-04-28T07:47:54.409Z"
   },
   {
    "duration": 36,
    "start_time": "2022-04-28T07:47:54.668Z"
   },
   {
    "duration": 9,
    "start_time": "2022-04-28T07:47:54.706Z"
   },
   {
    "duration": 258,
    "start_time": "2022-04-28T07:47:54.716Z"
   },
   {
    "duration": 13,
    "start_time": "2022-04-28T07:47:54.976Z"
   },
   {
    "duration": 17,
    "start_time": "2022-04-28T07:47:54.991Z"
   },
   {
    "duration": 237,
    "start_time": "2022-04-28T07:47:55.010Z"
   },
   {
    "duration": 237,
    "start_time": "2022-04-28T07:47:55.249Z"
   },
   {
    "duration": 225,
    "start_time": "2022-04-28T07:47:55.487Z"
   },
   {
    "duration": 319,
    "start_time": "2022-04-28T07:47:55.713Z"
   },
   {
    "duration": 20,
    "start_time": "2022-04-28T07:47:56.035Z"
   },
   {
    "duration": 20,
    "start_time": "2022-04-28T07:47:56.057Z"
   },
   {
    "duration": 12,
    "start_time": "2022-04-28T07:47:56.079Z"
   },
   {
    "duration": 12,
    "start_time": "2022-04-28T07:47:56.092Z"
   },
   {
    "duration": 58,
    "start_time": "2022-04-28T07:47:56.106Z"
   },
   {
    "duration": 64,
    "start_time": "2022-04-28T07:47:56.165Z"
   },
   {
    "duration": 49,
    "start_time": "2022-04-28T07:47:56.231Z"
   },
   {
    "duration": 5,
    "start_time": "2022-04-28T07:47:56.282Z"
   },
   {
    "duration": 14,
    "start_time": "2022-04-28T07:47:56.288Z"
   },
   {
    "duration": 54,
    "start_time": "2022-04-28T07:47:56.303Z"
   },
   {
    "duration": 12,
    "start_time": "2022-04-28T07:47:56.359Z"
   },
   {
    "duration": 11,
    "start_time": "2022-04-28T07:47:56.372Z"
   },
   {
    "duration": 8,
    "start_time": "2022-04-28T07:47:56.384Z"
   },
   {
    "duration": 8,
    "start_time": "2022-04-28T07:50:40.678Z"
   },
   {
    "duration": 1048,
    "start_time": "2022-04-28T07:51:23.046Z"
   },
   {
    "duration": 38,
    "start_time": "2022-04-28T07:51:24.096Z"
   },
   {
    "duration": 18,
    "start_time": "2022-04-28T07:51:24.136Z"
   },
   {
    "duration": 12,
    "start_time": "2022-04-28T07:51:24.156Z"
   },
   {
    "duration": 13,
    "start_time": "2022-04-28T07:51:24.170Z"
   },
   {
    "duration": 27,
    "start_time": "2022-04-28T07:51:24.185Z"
   },
   {
    "duration": 32,
    "start_time": "2022-04-28T07:51:24.213Z"
   },
   {
    "duration": 14,
    "start_time": "2022-04-28T07:51:24.247Z"
   },
   {
    "duration": 12,
    "start_time": "2022-04-28T07:51:24.263Z"
   },
   {
    "duration": 18,
    "start_time": "2022-04-28T07:51:24.277Z"
   },
   {
    "duration": 5,
    "start_time": "2022-04-28T07:51:24.296Z"
   },
   {
    "duration": 23,
    "start_time": "2022-04-28T07:51:24.303Z"
   },
   {
    "duration": 8,
    "start_time": "2022-04-28T07:51:24.327Z"
   },
   {
    "duration": 26,
    "start_time": "2022-04-28T07:51:24.336Z"
   },
   {
    "duration": 174,
    "start_time": "2022-04-28T07:51:24.364Z"
   },
   {
    "duration": 28,
    "start_time": "2022-04-28T07:51:24.539Z"
   },
   {
    "duration": 3,
    "start_time": "2022-04-28T07:51:24.569Z"
   },
   {
    "duration": 257,
    "start_time": "2022-04-28T07:51:24.574Z"
   },
   {
    "duration": 26,
    "start_time": "2022-04-28T07:51:24.833Z"
   },
   {
    "duration": 9,
    "start_time": "2022-04-28T07:51:24.861Z"
   },
   {
    "duration": 254,
    "start_time": "2022-04-28T07:51:24.871Z"
   },
   {
    "duration": 16,
    "start_time": "2022-04-28T07:51:25.127Z"
   },
   {
    "duration": 14,
    "start_time": "2022-04-28T07:51:25.154Z"
   },
   {
    "duration": 225,
    "start_time": "2022-04-28T07:51:25.170Z"
   },
   {
    "duration": 261,
    "start_time": "2022-04-28T07:51:25.397Z"
   },
   {
    "duration": 236,
    "start_time": "2022-04-28T07:51:25.660Z"
   },
   {
    "duration": 321,
    "start_time": "2022-04-28T07:51:25.898Z"
   },
   {
    "duration": 9,
    "start_time": "2022-04-28T07:51:26.223Z"
   },
   {
    "duration": 25,
    "start_time": "2022-04-28T07:51:26.234Z"
   },
   {
    "duration": 13,
    "start_time": "2022-04-28T07:51:26.260Z"
   },
   {
    "duration": 13,
    "start_time": "2022-04-28T07:51:26.274Z"
   },
   {
    "duration": 65,
    "start_time": "2022-04-28T07:51:26.289Z"
   },
   {
    "duration": 67,
    "start_time": "2022-04-28T07:51:26.356Z"
   },
   {
    "duration": 56,
    "start_time": "2022-04-28T07:51:26.425Z"
   },
   {
    "duration": 5,
    "start_time": "2022-04-28T07:51:26.483Z"
   },
   {
    "duration": 14,
    "start_time": "2022-04-28T07:51:26.489Z"
   },
   {
    "duration": 61,
    "start_time": "2022-04-28T07:51:26.505Z"
   },
   {
    "duration": 13,
    "start_time": "2022-04-28T07:51:26.567Z"
   },
   {
    "duration": 9,
    "start_time": "2022-04-28T07:51:26.582Z"
   },
   {
    "duration": 10,
    "start_time": "2022-04-28T07:51:26.593Z"
   },
   {
    "duration": 223,
    "start_time": "2022-04-28T07:51:54.042Z"
   },
   {
    "duration": 270,
    "start_time": "2022-04-28T07:54:25.510Z"
   },
   {
    "duration": 286,
    "start_time": "2022-04-28T07:54:43.054Z"
   },
   {
    "duration": 244,
    "start_time": "2022-04-28T07:54:51.901Z"
   },
   {
    "duration": 342,
    "start_time": "2022-04-28T07:55:08.893Z"
   },
   {
    "duration": 1108,
    "start_time": "2022-04-28T08:01:06.690Z"
   },
   {
    "duration": 39,
    "start_time": "2022-04-28T08:01:07.799Z"
   },
   {
    "duration": 18,
    "start_time": "2022-04-28T08:01:07.840Z"
   },
   {
    "duration": 14,
    "start_time": "2022-04-28T08:01:07.860Z"
   },
   {
    "duration": 16,
    "start_time": "2022-04-28T08:01:07.876Z"
   },
   {
    "duration": 15,
    "start_time": "2022-04-28T08:01:07.894Z"
   },
   {
    "duration": 45,
    "start_time": "2022-04-28T08:01:07.911Z"
   },
   {
    "duration": 14,
    "start_time": "2022-04-28T08:01:07.959Z"
   },
   {
    "duration": 8,
    "start_time": "2022-04-28T08:01:07.975Z"
   },
   {
    "duration": 17,
    "start_time": "2022-04-28T08:01:07.986Z"
   },
   {
    "duration": 8,
    "start_time": "2022-04-28T08:01:08.005Z"
   },
   {
    "duration": 48,
    "start_time": "2022-04-28T08:01:08.015Z"
   },
   {
    "duration": 11,
    "start_time": "2022-04-28T08:01:08.065Z"
   },
   {
    "duration": 18,
    "start_time": "2022-04-28T08:01:08.077Z"
   },
   {
    "duration": 181,
    "start_time": "2022-04-28T08:01:08.097Z"
   },
   {
    "duration": 18,
    "start_time": "2022-04-28T08:01:08.279Z"
   },
   {
    "duration": 4,
    "start_time": "2022-04-28T08:01:08.299Z"
   },
   {
    "duration": 266,
    "start_time": "2022-04-28T08:01:08.305Z"
   },
   {
    "duration": 24,
    "start_time": "2022-04-28T08:01:08.573Z"
   },
   {
    "duration": 9,
    "start_time": "2022-04-28T08:01:08.599Z"
   },
   {
    "duration": 233,
    "start_time": "2022-04-28T08:01:08.610Z"
   },
   {
    "duration": 21,
    "start_time": "2022-04-28T08:01:08.845Z"
   },
   {
    "duration": 13,
    "start_time": "2022-04-28T08:01:08.868Z"
   },
   {
    "duration": 245,
    "start_time": "2022-04-28T08:01:08.883Z"
   },
   {
    "duration": 291,
    "start_time": "2022-04-28T08:01:09.130Z"
   },
   {
    "duration": 265,
    "start_time": "2022-04-28T08:01:09.423Z"
   },
   {
    "duration": 349,
    "start_time": "2022-04-28T08:01:09.690Z"
   },
   {
    "duration": 15,
    "start_time": "2022-04-28T08:01:10.043Z"
   },
   {
    "duration": 48,
    "start_time": "2022-04-28T08:01:10.060Z"
   },
   {
    "duration": 12,
    "start_time": "2022-04-28T08:01:10.110Z"
   },
   {
    "duration": 16,
    "start_time": "2022-04-28T08:01:10.123Z"
   },
   {
    "duration": 34,
    "start_time": "2022-04-28T08:01:10.140Z"
   },
   {
    "duration": 81,
    "start_time": "2022-04-28T08:01:10.176Z"
   },
   {
    "duration": 34,
    "start_time": "2022-04-28T08:01:10.258Z"
   },
   {
    "duration": 5,
    "start_time": "2022-04-28T08:01:10.293Z"
   },
   {
    "duration": 16,
    "start_time": "2022-04-28T08:01:10.300Z"
   },
   {
    "duration": 57,
    "start_time": "2022-04-28T08:01:10.318Z"
   },
   {
    "duration": 12,
    "start_time": "2022-04-28T08:01:10.377Z"
   },
   {
    "duration": 12,
    "start_time": "2022-04-28T08:01:10.391Z"
   },
   {
    "duration": 9,
    "start_time": "2022-04-28T08:01:10.405Z"
   },
   {
    "duration": 66,
    "start_time": "2022-04-28T08:01:34.698Z"
   },
   {
    "duration": 72,
    "start_time": "2022-04-28T08:01:43.217Z"
   },
   {
    "duration": 71,
    "start_time": "2022-04-28T08:02:26.561Z"
   },
   {
    "duration": 67,
    "start_time": "2022-04-28T08:02:29.784Z"
   },
   {
    "duration": 100,
    "start_time": "2022-04-28T08:02:32.520Z"
   },
   {
    "duration": 68,
    "start_time": "2022-04-28T08:02:38.087Z"
   },
   {
    "duration": 95,
    "start_time": "2022-04-28T08:02:44.840Z"
   },
   {
    "duration": 6,
    "start_time": "2022-04-28T08:07:41.552Z"
   },
   {
    "duration": 204,
    "start_time": "2022-04-28T08:24:13.688Z"
   },
   {
    "duration": 141,
    "start_time": "2022-04-28T08:24:32.565Z"
   },
   {
    "duration": 115,
    "start_time": "2022-04-28T08:24:39.709Z"
   },
   {
    "duration": 1139,
    "start_time": "2022-04-28T08:24:46.564Z"
   },
   {
    "duration": 35,
    "start_time": "2022-04-28T08:24:47.705Z"
   },
   {
    "duration": 21,
    "start_time": "2022-04-28T08:24:47.741Z"
   },
   {
    "duration": 16,
    "start_time": "2022-04-28T08:24:47.764Z"
   },
   {
    "duration": 22,
    "start_time": "2022-04-28T08:24:47.782Z"
   },
   {
    "duration": 35,
    "start_time": "2022-04-28T08:24:47.805Z"
   },
   {
    "duration": 59,
    "start_time": "2022-04-28T08:24:47.842Z"
   },
   {
    "duration": 22,
    "start_time": "2022-04-28T08:24:47.903Z"
   },
   {
    "duration": 14,
    "start_time": "2022-04-28T08:24:47.927Z"
   },
   {
    "duration": 16,
    "start_time": "2022-04-28T08:24:47.944Z"
   },
   {
    "duration": 6,
    "start_time": "2022-04-28T08:24:47.962Z"
   },
   {
    "duration": 18,
    "start_time": "2022-04-28T08:24:47.969Z"
   },
   {
    "duration": 22,
    "start_time": "2022-04-28T08:24:47.989Z"
   },
   {
    "duration": 24,
    "start_time": "2022-04-28T08:24:48.013Z"
   },
   {
    "duration": 178,
    "start_time": "2022-04-28T08:24:48.039Z"
   },
   {
    "duration": 15,
    "start_time": "2022-04-28T08:24:48.219Z"
   },
   {
    "duration": 4,
    "start_time": "2022-04-28T08:24:48.235Z"
   },
   {
    "duration": 240,
    "start_time": "2022-04-28T08:24:48.255Z"
   },
   {
    "duration": 26,
    "start_time": "2022-04-28T08:24:48.497Z"
   },
   {
    "duration": 7,
    "start_time": "2022-04-28T08:24:48.524Z"
   },
   {
    "duration": 250,
    "start_time": "2022-04-28T08:24:48.533Z"
   },
   {
    "duration": 16,
    "start_time": "2022-04-28T08:24:48.786Z"
   },
   {
    "duration": 18,
    "start_time": "2022-04-28T08:24:48.805Z"
   },
   {
    "duration": 243,
    "start_time": "2022-04-28T08:24:48.825Z"
   },
   {
    "duration": 288,
    "start_time": "2022-04-28T08:24:49.070Z"
   },
   {
    "duration": 255,
    "start_time": "2022-04-28T08:24:49.360Z"
   },
   {
    "duration": 355,
    "start_time": "2022-04-28T08:24:49.616Z"
   },
   {
    "duration": 10,
    "start_time": "2022-04-28T08:24:49.976Z"
   },
   {
    "duration": 35,
    "start_time": "2022-04-28T08:24:49.988Z"
   },
   {
    "duration": 27,
    "start_time": "2022-04-28T08:24:50.025Z"
   },
   {
    "duration": 15,
    "start_time": "2022-04-28T08:24:50.053Z"
   },
   {
    "duration": 116,
    "start_time": "2022-04-28T08:24:50.069Z"
   },
   {
    "duration": 0,
    "start_time": "2022-04-28T08:24:50.186Z"
   },
   {
    "duration": 0,
    "start_time": "2022-04-28T08:24:50.187Z"
   },
   {
    "duration": 0,
    "start_time": "2022-04-28T08:24:50.188Z"
   },
   {
    "duration": 0,
    "start_time": "2022-04-28T08:24:50.189Z"
   },
   {
    "duration": 0,
    "start_time": "2022-04-28T08:24:50.190Z"
   },
   {
    "duration": 0,
    "start_time": "2022-04-28T08:24:50.191Z"
   },
   {
    "duration": 0,
    "start_time": "2022-04-28T08:24:50.192Z"
   },
   {
    "duration": 0,
    "start_time": "2022-04-28T08:24:50.193Z"
   },
   {
    "duration": 0,
    "start_time": "2022-04-28T08:24:50.194Z"
   },
   {
    "duration": 101,
    "start_time": "2022-04-28T08:26:00.502Z"
   },
   {
    "duration": 36,
    "start_time": "2022-04-28T08:26:16.797Z"
   },
   {
    "duration": 37,
    "start_time": "2022-04-28T08:26:44.485Z"
   },
   {
    "duration": 139,
    "start_time": "2022-04-28T08:28:53.122Z"
   },
   {
    "duration": 123,
    "start_time": "2022-04-28T08:29:02.787Z"
   },
   {
    "duration": 125,
    "start_time": "2022-04-28T08:29:19.873Z"
   },
   {
    "duration": 151,
    "start_time": "2022-04-28T08:34:33.249Z"
   },
   {
    "duration": 100,
    "start_time": "2022-04-28T08:35:01.928Z"
   },
   {
    "duration": 104,
    "start_time": "2022-04-28T08:35:59.606Z"
   },
   {
    "duration": 131,
    "start_time": "2022-04-28T08:37:18.892Z"
   },
   {
    "duration": 122,
    "start_time": "2022-04-28T08:37:31.203Z"
   },
   {
    "duration": 148,
    "start_time": "2022-04-28T08:37:36.638Z"
   },
   {
    "duration": 121,
    "start_time": "2022-04-28T08:37:46.076Z"
   },
   {
    "duration": 1030,
    "start_time": "2022-04-28T08:38:54.265Z"
   },
   {
    "duration": 36,
    "start_time": "2022-04-28T08:38:55.297Z"
   },
   {
    "duration": 24,
    "start_time": "2022-04-28T08:38:55.334Z"
   },
   {
    "duration": 14,
    "start_time": "2022-04-28T08:38:55.359Z"
   },
   {
    "duration": 14,
    "start_time": "2022-04-28T08:38:55.374Z"
   },
   {
    "duration": 28,
    "start_time": "2022-04-28T08:38:55.390Z"
   },
   {
    "duration": 37,
    "start_time": "2022-04-28T08:38:55.419Z"
   },
   {
    "duration": 15,
    "start_time": "2022-04-28T08:38:55.457Z"
   },
   {
    "duration": 11,
    "start_time": "2022-04-28T08:38:55.473Z"
   },
   {
    "duration": 20,
    "start_time": "2022-04-28T08:38:55.486Z"
   },
   {
    "duration": 5,
    "start_time": "2022-04-28T08:38:55.508Z"
   },
   {
    "duration": 17,
    "start_time": "2022-04-28T08:38:55.515Z"
   },
   {
    "duration": 25,
    "start_time": "2022-04-28T08:38:55.533Z"
   },
   {
    "duration": 17,
    "start_time": "2022-04-28T08:38:55.559Z"
   },
   {
    "duration": 180,
    "start_time": "2022-04-28T08:38:55.578Z"
   },
   {
    "duration": 16,
    "start_time": "2022-04-28T08:38:55.760Z"
   },
   {
    "duration": 4,
    "start_time": "2022-04-28T08:38:55.777Z"
   },
   {
    "duration": 240,
    "start_time": "2022-04-28T08:38:55.783Z"
   },
   {
    "duration": 25,
    "start_time": "2022-04-28T08:38:56.025Z"
   },
   {
    "duration": 8,
    "start_time": "2022-04-28T08:38:56.051Z"
   },
   {
    "duration": 242,
    "start_time": "2022-04-28T08:38:56.061Z"
   },
   {
    "duration": 15,
    "start_time": "2022-04-28T08:38:56.304Z"
   },
   {
    "duration": 16,
    "start_time": "2022-04-28T08:38:56.320Z"
   },
   {
    "duration": 228,
    "start_time": "2022-04-28T08:38:56.337Z"
   },
   {
    "duration": 285,
    "start_time": "2022-04-28T08:38:56.567Z"
   },
   {
    "duration": 244,
    "start_time": "2022-04-28T08:38:56.854Z"
   },
   {
    "duration": 372,
    "start_time": "2022-04-28T08:38:57.100Z"
   },
   {
    "duration": 9,
    "start_time": "2022-04-28T08:38:57.476Z"
   },
   {
    "duration": 18,
    "start_time": "2022-04-28T08:38:57.487Z"
   },
   {
    "duration": 14,
    "start_time": "2022-04-28T08:38:57.506Z"
   },
   {
    "duration": 37,
    "start_time": "2022-04-28T08:38:57.522Z"
   },
   {
    "duration": 149,
    "start_time": "2022-04-28T08:38:57.561Z"
   },
   {
    "duration": 6,
    "start_time": "2022-04-28T08:38:57.712Z"
   },
   {
    "duration": 49,
    "start_time": "2022-04-28T08:38:57.720Z"
   },
   {
    "duration": 5,
    "start_time": "2022-04-28T08:38:57.771Z"
   },
   {
    "duration": 17,
    "start_time": "2022-04-28T08:38:57.777Z"
   },
   {
    "duration": 35,
    "start_time": "2022-04-28T08:38:57.795Z"
   },
   {
    "duration": 33,
    "start_time": "2022-04-28T08:38:57.831Z"
   },
   {
    "duration": 12,
    "start_time": "2022-04-28T08:38:57.865Z"
   },
   {
    "duration": 22,
    "start_time": "2022-04-28T08:38:57.878Z"
   },
   {
    "duration": 6,
    "start_time": "2022-04-28T08:39:35.023Z"
   },
   {
    "duration": 193,
    "start_time": "2022-04-28T08:54:12.714Z"
   },
   {
    "duration": 294,
    "start_time": "2022-04-28T08:54:58.951Z"
   },
   {
    "duration": 282,
    "start_time": "2022-04-28T08:55:25.526Z"
   },
   {
    "duration": 273,
    "start_time": "2022-04-28T08:56:33.507Z"
   },
   {
    "duration": 114,
    "start_time": "2022-04-28T08:56:55.820Z"
   },
   {
    "duration": 201,
    "start_time": "2022-04-28T08:57:40.897Z"
   },
   {
    "duration": 305,
    "start_time": "2022-04-28T08:59:21.039Z"
   },
   {
    "duration": 1091,
    "start_time": "2022-04-28T09:00:25.413Z"
   },
   {
    "duration": 42,
    "start_time": "2022-04-28T09:00:26.507Z"
   },
   {
    "duration": 20,
    "start_time": "2022-04-28T09:00:26.551Z"
   },
   {
    "duration": 27,
    "start_time": "2022-04-28T09:00:26.574Z"
   },
   {
    "duration": 19,
    "start_time": "2022-04-28T09:00:26.603Z"
   },
   {
    "duration": 35,
    "start_time": "2022-04-28T09:00:26.624Z"
   },
   {
    "duration": 34,
    "start_time": "2022-04-28T09:00:26.661Z"
   },
   {
    "duration": 31,
    "start_time": "2022-04-28T09:00:26.697Z"
   },
   {
    "duration": 25,
    "start_time": "2022-04-28T09:00:26.730Z"
   },
   {
    "duration": 33,
    "start_time": "2022-04-28T09:00:26.758Z"
   },
   {
    "duration": 6,
    "start_time": "2022-04-28T09:00:26.792Z"
   },
   {
    "duration": 26,
    "start_time": "2022-04-28T09:00:26.799Z"
   },
   {
    "duration": 25,
    "start_time": "2022-04-28T09:00:26.826Z"
   },
   {
    "duration": 30,
    "start_time": "2022-04-28T09:00:26.852Z"
   },
   {
    "duration": 187,
    "start_time": "2022-04-28T09:00:26.884Z"
   },
   {
    "duration": 17,
    "start_time": "2022-04-28T09:00:27.072Z"
   },
   {
    "duration": 25,
    "start_time": "2022-04-28T09:00:27.090Z"
   },
   {
    "duration": 283,
    "start_time": "2022-04-28T09:00:27.116Z"
   },
   {
    "duration": 26,
    "start_time": "2022-04-28T09:00:27.401Z"
   },
   {
    "duration": 20,
    "start_time": "2022-04-28T09:00:27.429Z"
   },
   {
    "duration": 250,
    "start_time": "2022-04-28T09:00:27.451Z"
   },
   {
    "duration": 16,
    "start_time": "2022-04-28T09:00:27.703Z"
   },
   {
    "duration": 31,
    "start_time": "2022-04-28T09:00:27.721Z"
   },
   {
    "duration": 230,
    "start_time": "2022-04-28T09:00:27.754Z"
   },
   {
    "duration": 283,
    "start_time": "2022-04-28T09:00:27.985Z"
   },
   {
    "duration": 253,
    "start_time": "2022-04-28T09:00:28.270Z"
   },
   {
    "duration": 363,
    "start_time": "2022-04-28T09:00:28.524Z"
   },
   {
    "duration": 9,
    "start_time": "2022-04-28T09:00:28.891Z"
   },
   {
    "duration": 22,
    "start_time": "2022-04-28T09:00:28.902Z"
   },
   {
    "duration": 13,
    "start_time": "2022-04-28T09:00:28.925Z"
   },
   {
    "duration": 13,
    "start_time": "2022-04-28T09:00:28.955Z"
   },
   {
    "duration": 306,
    "start_time": "2022-04-28T09:00:28.969Z"
   },
   {
    "duration": 6,
    "start_time": "2022-04-28T09:00:29.277Z"
   },
   {
    "duration": 315,
    "start_time": "2022-04-28T09:00:29.285Z"
   },
   {
    "duration": 6,
    "start_time": "2022-04-28T09:00:29.602Z"
   },
   {
    "duration": 30,
    "start_time": "2022-04-28T09:00:29.609Z"
   },
   {
    "duration": 44,
    "start_time": "2022-04-28T09:00:29.640Z"
   },
   {
    "duration": 12,
    "start_time": "2022-04-28T09:00:29.686Z"
   },
   {
    "duration": 20,
    "start_time": "2022-04-28T09:00:29.699Z"
   },
   {
    "duration": 25,
    "start_time": "2022-04-28T09:00:29.721Z"
   },
   {
    "duration": 3331,
    "start_time": "2022-04-28T09:05:00.553Z"
   },
   {
    "duration": 418,
    "start_time": "2022-04-28T09:06:25.198Z"
   },
   {
    "duration": 1145,
    "start_time": "2022-04-28T09:06:47.858Z"
   },
   {
    "duration": 38,
    "start_time": "2022-04-28T09:06:49.004Z"
   },
   {
    "duration": 20,
    "start_time": "2022-04-28T09:06:49.043Z"
   },
   {
    "duration": 14,
    "start_time": "2022-04-28T09:06:49.065Z"
   },
   {
    "duration": 15,
    "start_time": "2022-04-28T09:06:49.081Z"
   },
   {
    "duration": 16,
    "start_time": "2022-04-28T09:06:49.098Z"
   },
   {
    "duration": 50,
    "start_time": "2022-04-28T09:06:49.116Z"
   },
   {
    "duration": 15,
    "start_time": "2022-04-28T09:06:49.167Z"
   },
   {
    "duration": 17,
    "start_time": "2022-04-28T09:06:49.184Z"
   },
   {
    "duration": 25,
    "start_time": "2022-04-28T09:06:49.204Z"
   },
   {
    "duration": 7,
    "start_time": "2022-04-28T09:06:49.230Z"
   },
   {
    "duration": 28,
    "start_time": "2022-04-28T09:06:49.238Z"
   },
   {
    "duration": 5,
    "start_time": "2022-04-28T09:06:49.268Z"
   },
   {
    "duration": 18,
    "start_time": "2022-04-28T09:06:49.274Z"
   },
   {
    "duration": 183,
    "start_time": "2022-04-28T09:06:49.293Z"
   },
   {
    "duration": 16,
    "start_time": "2022-04-28T09:06:49.477Z"
   },
   {
    "duration": 4,
    "start_time": "2022-04-28T09:06:49.495Z"
   },
   {
    "duration": 250,
    "start_time": "2022-04-28T09:06:49.501Z"
   },
   {
    "duration": 24,
    "start_time": "2022-04-28T09:06:49.753Z"
   },
   {
    "duration": 7,
    "start_time": "2022-04-28T09:06:49.779Z"
   },
   {
    "duration": 240,
    "start_time": "2022-04-28T09:06:49.787Z"
   },
   {
    "duration": 26,
    "start_time": "2022-04-28T09:06:50.029Z"
   },
   {
    "duration": 13,
    "start_time": "2022-04-28T09:06:50.057Z"
   },
   {
    "duration": 228,
    "start_time": "2022-04-28T09:06:50.071Z"
   },
   {
    "duration": 275,
    "start_time": "2022-04-28T09:06:50.301Z"
   },
   {
    "duration": 258,
    "start_time": "2022-04-28T09:06:50.578Z"
   },
   {
    "duration": 353,
    "start_time": "2022-04-28T09:06:50.838Z"
   },
   {
    "duration": 9,
    "start_time": "2022-04-28T09:06:51.194Z"
   },
   {
    "duration": 25,
    "start_time": "2022-04-28T09:06:51.204Z"
   },
   {
    "duration": 24,
    "start_time": "2022-04-28T09:06:51.231Z"
   },
   {
    "duration": 13,
    "start_time": "2022-04-28T09:06:51.257Z"
   },
   {
    "duration": 299,
    "start_time": "2022-04-28T09:06:51.273Z"
   },
   {
    "duration": 6,
    "start_time": "2022-04-28T09:06:51.574Z"
   },
   {
    "duration": 314,
    "start_time": "2022-04-28T09:06:51.582Z"
   },
   {
    "duration": 6,
    "start_time": "2022-04-28T09:06:51.897Z"
   },
   {
    "duration": 33,
    "start_time": "2022-04-28T09:06:51.905Z"
   },
   {
    "duration": 53,
    "start_time": "2022-04-28T09:06:51.940Z"
   },
   {
    "duration": 18,
    "start_time": "2022-04-28T09:06:51.994Z"
   },
   {
    "duration": 27,
    "start_time": "2022-04-28T09:06:52.015Z"
   },
   {
    "duration": 27,
    "start_time": "2022-04-28T09:06:52.044Z"
   },
   {
    "duration": 1092,
    "start_time": "2022-04-28T09:13:49.715Z"
   },
   {
    "duration": 37,
    "start_time": "2022-04-28T09:13:50.809Z"
   },
   {
    "duration": 18,
    "start_time": "2022-04-28T09:13:50.848Z"
   },
   {
    "duration": 14,
    "start_time": "2022-04-28T09:13:50.868Z"
   },
   {
    "duration": 15,
    "start_time": "2022-04-28T09:13:50.884Z"
   },
   {
    "duration": 16,
    "start_time": "2022-04-28T09:13:50.900Z"
   },
   {
    "duration": 51,
    "start_time": "2022-04-28T09:13:50.917Z"
   },
   {
    "duration": 15,
    "start_time": "2022-04-28T09:13:50.969Z"
   },
   {
    "duration": 9,
    "start_time": "2022-04-28T09:13:50.986Z"
   },
   {
    "duration": 17,
    "start_time": "2022-04-28T09:13:50.997Z"
   },
   {
    "duration": 7,
    "start_time": "2022-04-28T09:13:51.016Z"
   },
   {
    "duration": 44,
    "start_time": "2022-04-28T09:13:51.025Z"
   },
   {
    "duration": 5,
    "start_time": "2022-04-28T09:13:51.071Z"
   },
   {
    "duration": 13,
    "start_time": "2022-04-28T09:13:51.078Z"
   },
   {
    "duration": 185,
    "start_time": "2022-04-28T09:13:51.093Z"
   },
   {
    "duration": 18,
    "start_time": "2022-04-28T09:13:51.280Z"
   },
   {
    "duration": 5,
    "start_time": "2022-04-28T09:13:51.300Z"
   },
   {
    "duration": 256,
    "start_time": "2022-04-28T09:13:51.307Z"
   },
   {
    "duration": 26,
    "start_time": "2022-04-28T09:13:51.565Z"
   },
   {
    "duration": 7,
    "start_time": "2022-04-28T09:13:51.593Z"
   },
   {
    "duration": 252,
    "start_time": "2022-04-28T09:13:51.602Z"
   },
   {
    "duration": 19,
    "start_time": "2022-04-28T09:13:51.856Z"
   },
   {
    "duration": 18,
    "start_time": "2022-04-28T09:13:51.877Z"
   },
   {
    "duration": 237,
    "start_time": "2022-04-28T09:13:51.897Z"
   },
   {
    "duration": 321,
    "start_time": "2022-04-28T09:13:52.136Z"
   },
   {
    "duration": 248,
    "start_time": "2022-04-28T09:13:52.460Z"
   },
   {
    "duration": 360,
    "start_time": "2022-04-28T09:13:52.710Z"
   },
   {
    "duration": 12,
    "start_time": "2022-04-28T09:13:53.074Z"
   },
   {
    "duration": 18,
    "start_time": "2022-04-28T09:13:53.088Z"
   },
   {
    "duration": 48,
    "start_time": "2022-04-28T09:13:53.108Z"
   },
   {
    "duration": 15,
    "start_time": "2022-04-28T09:13:53.158Z"
   },
   {
    "duration": 296,
    "start_time": "2022-04-28T09:13:53.175Z"
   },
   {
    "duration": 5,
    "start_time": "2022-04-28T09:13:53.473Z"
   },
   {
    "duration": 313,
    "start_time": "2022-04-28T09:13:53.480Z"
   },
   {
    "duration": 7,
    "start_time": "2022-04-28T09:13:53.794Z"
   },
   {
    "duration": 16,
    "start_time": "2022-04-28T09:13:53.803Z"
   },
   {
    "duration": 55,
    "start_time": "2022-04-28T09:13:53.821Z"
   },
   {
    "duration": 13,
    "start_time": "2022-04-28T09:13:53.878Z"
   },
   {
    "duration": 10,
    "start_time": "2022-04-28T09:13:53.892Z"
   },
   {
    "duration": 8,
    "start_time": "2022-04-28T09:13:53.904Z"
   },
   {
    "duration": 10,
    "start_time": "2022-04-28T09:17:45.911Z"
   },
   {
    "duration": 11,
    "start_time": "2022-04-28T09:18:32.534Z"
   },
   {
    "duration": 1139,
    "start_time": "2022-04-28T09:20:10.067Z"
   },
   {
    "duration": 36,
    "start_time": "2022-04-28T09:20:11.209Z"
   },
   {
    "duration": 21,
    "start_time": "2022-04-28T09:20:11.247Z"
   },
   {
    "duration": 14,
    "start_time": "2022-04-28T09:20:11.270Z"
   },
   {
    "duration": 19,
    "start_time": "2022-04-28T09:20:11.286Z"
   },
   {
    "duration": 15,
    "start_time": "2022-04-28T09:20:11.307Z"
   },
   {
    "duration": 40,
    "start_time": "2022-04-28T09:20:11.323Z"
   },
   {
    "duration": 15,
    "start_time": "2022-04-28T09:20:11.364Z"
   },
   {
    "duration": 10,
    "start_time": "2022-04-28T09:20:11.381Z"
   },
   {
    "duration": 23,
    "start_time": "2022-04-28T09:20:11.393Z"
   },
   {
    "duration": 12,
    "start_time": "2022-04-28T09:20:11.417Z"
   },
   {
    "duration": 30,
    "start_time": "2022-04-28T09:20:11.430Z"
   },
   {
    "duration": 24,
    "start_time": "2022-04-28T09:20:11.462Z"
   },
   {
    "duration": 23,
    "start_time": "2022-04-28T09:20:11.488Z"
   },
   {
    "duration": 199,
    "start_time": "2022-04-28T09:20:11.513Z"
   },
   {
    "duration": 16,
    "start_time": "2022-04-28T09:20:11.714Z"
   },
   {
    "duration": 53,
    "start_time": "2022-04-28T09:20:11.731Z"
   },
   {
    "duration": 245,
    "start_time": "2022-04-28T09:20:11.786Z"
   },
   {
    "duration": 25,
    "start_time": "2022-04-28T09:20:12.033Z"
   },
   {
    "duration": 18,
    "start_time": "2022-04-28T09:20:12.059Z"
   },
   {
    "duration": 234,
    "start_time": "2022-04-28T09:20:12.078Z"
   },
   {
    "duration": 15,
    "start_time": "2022-04-28T09:20:12.313Z"
   },
   {
    "duration": 34,
    "start_time": "2022-04-28T09:20:12.329Z"
   },
   {
    "duration": 243,
    "start_time": "2022-04-28T09:20:12.364Z"
   },
   {
    "duration": 294,
    "start_time": "2022-04-28T09:20:12.609Z"
   },
   {
    "duration": 252,
    "start_time": "2022-04-28T09:20:12.905Z"
   },
   {
    "duration": 350,
    "start_time": "2022-04-28T09:20:13.159Z"
   },
   {
    "duration": 10,
    "start_time": "2022-04-28T09:20:13.513Z"
   },
   {
    "duration": 30,
    "start_time": "2022-04-28T09:20:13.525Z"
   },
   {
    "duration": 21,
    "start_time": "2022-04-28T09:20:13.557Z"
   },
   {
    "duration": 36,
    "start_time": "2022-04-28T09:20:13.579Z"
   },
   {
    "duration": 308,
    "start_time": "2022-04-28T09:20:13.617Z"
   },
   {
    "duration": 6,
    "start_time": "2022-04-28T09:20:13.927Z"
   },
   {
    "duration": 326,
    "start_time": "2022-04-28T09:20:13.935Z"
   },
   {
    "duration": 7,
    "start_time": "2022-04-28T09:20:14.263Z"
   },
   {
    "duration": 34,
    "start_time": "2022-04-28T09:20:14.271Z"
   },
   {
    "duration": 53,
    "start_time": "2022-04-28T09:20:14.306Z"
   },
   {
    "duration": 27,
    "start_time": "2022-04-28T09:20:14.361Z"
   },
   {
    "duration": 35,
    "start_time": "2022-04-28T09:20:14.390Z"
   },
   {
    "duration": 47,
    "start_time": "2022-04-28T09:20:14.426Z"
   },
   {
    "duration": 4010,
    "start_time": "2022-04-28T13:12:40.265Z"
   },
   {
    "duration": 2614,
    "start_time": "2022-04-28T13:12:44.277Z"
   },
   {
    "duration": 27,
    "start_time": "2022-04-28T13:12:46.893Z"
   },
   {
    "duration": 23,
    "start_time": "2022-04-28T13:12:46.923Z"
   },
   {
    "duration": 20,
    "start_time": "2022-04-28T13:12:46.947Z"
   },
   {
    "duration": 15,
    "start_time": "2022-04-28T13:12:46.969Z"
   },
   {
    "duration": 53,
    "start_time": "2022-04-28T13:12:46.987Z"
   },
   {
    "duration": 16,
    "start_time": "2022-04-28T13:12:47.042Z"
   },
   {
    "duration": 8,
    "start_time": "2022-04-28T13:12:47.060Z"
   },
   {
    "duration": 19,
    "start_time": "2022-04-28T13:12:47.071Z"
   },
   {
    "duration": 36,
    "start_time": "2022-04-28T13:12:47.091Z"
   },
   {
    "duration": 16,
    "start_time": "2022-04-28T13:12:47.128Z"
   },
   {
    "duration": 6,
    "start_time": "2022-04-28T13:12:47.146Z"
   },
   {
    "duration": 15,
    "start_time": "2022-04-28T13:12:47.154Z"
   },
   {
    "duration": 357,
    "start_time": "2022-04-28T13:12:47.171Z"
   },
   {
    "duration": 16,
    "start_time": "2022-04-28T13:12:47.530Z"
   },
   {
    "duration": 5,
    "start_time": "2022-04-28T13:12:47.548Z"
   },
   {
    "duration": 372,
    "start_time": "2022-04-28T13:12:47.555Z"
   },
   {
    "duration": 46,
    "start_time": "2022-04-28T13:12:47.930Z"
   },
   {
    "duration": 7,
    "start_time": "2022-04-28T13:12:47.978Z"
   },
   {
    "duration": 256,
    "start_time": "2022-04-28T13:12:47.987Z"
   },
   {
    "duration": 15,
    "start_time": "2022-04-28T13:12:48.245Z"
   },
   {
    "duration": 14,
    "start_time": "2022-04-28T13:12:48.263Z"
   },
   {
    "duration": 245,
    "start_time": "2022-04-28T13:12:48.279Z"
   },
   {
    "duration": 310,
    "start_time": "2022-04-28T13:12:48.526Z"
   },
   {
    "duration": 270,
    "start_time": "2022-04-28T13:12:48.838Z"
   },
   {
    "duration": 359,
    "start_time": "2022-04-28T13:12:49.122Z"
   },
   {
    "duration": 11,
    "start_time": "2022-04-28T13:12:49.486Z"
   },
   {
    "duration": 34,
    "start_time": "2022-04-28T13:12:49.500Z"
   },
   {
    "duration": 15,
    "start_time": "2022-04-28T13:12:49.535Z"
   },
   {
    "duration": 13,
    "start_time": "2022-04-28T13:12:49.551Z"
   },
   {
    "duration": 335,
    "start_time": "2022-04-28T13:12:49.566Z"
   },
   {
    "duration": 6,
    "start_time": "2022-04-28T13:12:49.903Z"
   },
   {
    "duration": 329,
    "start_time": "2022-04-28T13:12:49.922Z"
   },
   {
    "duration": 5,
    "start_time": "2022-04-28T13:12:50.253Z"
   },
   {
    "duration": 16,
    "start_time": "2022-04-28T13:12:50.260Z"
   },
   {
    "duration": 56,
    "start_time": "2022-04-28T13:12:50.278Z"
   },
   {
    "duration": 13,
    "start_time": "2022-04-28T13:12:50.335Z"
   },
   {
    "duration": 26,
    "start_time": "2022-04-28T13:12:50.350Z"
   },
   {
    "duration": 12,
    "start_time": "2022-04-28T13:12:50.378Z"
   },
   {
    "duration": 267,
    "start_time": "2022-04-28T13:22:13.998Z"
   },
   {
    "duration": 300,
    "start_time": "2022-04-28T13:23:45.674Z"
   }
  ],
  "kernelspec": {
   "display_name": "Python 3 (ipykernel)",
   "language": "python",
   "name": "python3"
  },
  "language_info": {
   "codemirror_mode": {
    "name": "ipython",
    "version": 3
   },
   "file_extension": ".py",
   "mimetype": "text/x-python",
   "name": "python",
   "nbconvert_exporter": "python",
   "pygments_lexer": "ipython3",
   "version": "3.9.12"
  },
  "toc": {
   "base_numbering": 1,
   "nav_menu": {},
   "number_sections": true,
   "sideBar": true,
   "skip_h1_title": true,
   "title_cell": "Table of Contents",
   "title_sidebar": "Contents",
   "toc_cell": false,
   "toc_position": {
    "height": "729px",
    "left": "71px",
    "top": "292.125px",
    "width": "226.391px"
   },
   "toc_section_display": true,
   "toc_window_display": true
  }
 },
 "nbformat": 4,
 "nbformat_minor": 5
}
